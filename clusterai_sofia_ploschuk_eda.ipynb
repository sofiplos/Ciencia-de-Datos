{
 "cells": [
  {
   "cell_type": "code",
   "execution_count": 18,
   "metadata": {
    "id": "VY8n8mI47fUC"
   },
   "outputs": [],
   "source": [
    "# Importar librerias\n",
    "import pandas as pd\n",
    "import numpy as np\n",
    "import matplotlib.pyplot as plt\n",
    "import seaborn as sns\n",
    "import warnings\n",
    "from datetime import datetime\n",
    "from scipy.stats import norm, skew, poisson, gamma\n",
    "# No importo drive, prefiero arrastrar los archivos a \"/content\" directamente"
   ]
  },
  {
   "cell_type": "code",
   "execution_count": 19,
   "metadata": {
    "colab": {
     "base_uri": "https://localhost:8080/",
     "height": 206
    },
    "executionInfo": {
     "elapsed": 461,
     "status": "ok",
     "timestamp": 1637273478859,
     "user": {
      "displayName": "Javier Laudadío",
      "photoUrl": "https://lh3.googleusercontent.com/a/default-user=s64",
      "userId": "07494710345697859273"
     },
     "user_tz": 180
    },
    "id": "XsqQVaUx71Q3",
    "outputId": "641162a9-91be-4c83-fa87-4e20e2016200"
   },
   "outputs": [
    {
     "data": {
      "text/html": [
       "<div>\n",
       "<style scoped>\n",
       "    .dataframe tbody tr th:only-of-type {\n",
       "        vertical-align: middle;\n",
       "    }\n",
       "\n",
       "    .dataframe tbody tr th {\n",
       "        vertical-align: top;\n",
       "    }\n",
       "\n",
       "    .dataframe thead th {\n",
       "        text-align: right;\n",
       "    }\n",
       "</style>\n",
       "<table border=\"1\" class=\"dataframe\">\n",
       "  <thead>\n",
       "    <tr style=\"text-align: right;\">\n",
       "      <th></th>\n",
       "      <th>CODIGO_LOCACION</th>\n",
       "      <th>HORA</th>\n",
       "      <th>CANTIDAD</th>\n",
       "      <th>SENTIDO</th>\n",
       "      <th>LATITUD</th>\n",
       "      <th>LONGITUD</th>\n",
       "    </tr>\n",
       "  </thead>\n",
       "  <tbody>\n",
       "    <tr>\n",
       "      <th>150975</th>\n",
       "      <td>48Q3FG00+</td>\n",
       "      <td>15OCT2021:16:00:00</td>\n",
       "      <td>4499</td>\n",
       "      <td>Interna</td>\n",
       "      <td>-34.53698</td>\n",
       "      <td>-58.470968</td>\n",
       "    </tr>\n",
       "    <tr>\n",
       "      <th>150976</th>\n",
       "      <td>48Q3FG00+</td>\n",
       "      <td>15OCT2021:17:00:00</td>\n",
       "      <td>4137</td>\n",
       "      <td>Interna</td>\n",
       "      <td>-34.53698</td>\n",
       "      <td>-58.470968</td>\n",
       "    </tr>\n",
       "    <tr>\n",
       "      <th>150977</th>\n",
       "      <td>48Q3FG00+</td>\n",
       "      <td>15OCT2021:18:00:00</td>\n",
       "      <td>3868</td>\n",
       "      <td>Interna</td>\n",
       "      <td>-34.53698</td>\n",
       "      <td>-58.470968</td>\n",
       "    </tr>\n",
       "    <tr>\n",
       "      <th>150978</th>\n",
       "      <td>48Q3FG00+</td>\n",
       "      <td>15OCT2021:19:00:00</td>\n",
       "      <td>3103</td>\n",
       "      <td>Interna</td>\n",
       "      <td>-34.53698</td>\n",
       "      <td>-58.470968</td>\n",
       "    </tr>\n",
       "    <tr>\n",
       "      <th>150979</th>\n",
       "      <td>48Q3FG00+</td>\n",
       "      <td>15OCT2021:20:00:00</td>\n",
       "      <td>3107</td>\n",
       "      <td>Interna</td>\n",
       "      <td>-34.53698</td>\n",
       "      <td>-58.470968</td>\n",
       "    </tr>\n",
       "  </tbody>\n",
       "</table>\n",
       "</div>"
      ],
      "text/plain": [
       "       CODIGO_LOCACION                HORA  CANTIDAD  SENTIDO   LATITUD  \\\n",
       "150975       48Q3FG00+  15OCT2021:16:00:00      4499  Interna -34.53698   \n",
       "150976       48Q3FG00+  15OCT2021:17:00:00      4137  Interna -34.53698   \n",
       "150977       48Q3FG00+  15OCT2021:18:00:00      3868  Interna -34.53698   \n",
       "150978       48Q3FG00+  15OCT2021:19:00:00      3103  Interna -34.53698   \n",
       "150979       48Q3FG00+  15OCT2021:20:00:00      3107  Interna -34.53698   \n",
       "\n",
       "         LONGITUD  \n",
       "150975 -58.470968  \n",
       "150976 -58.470968  \n",
       "150977 -58.470968  \n",
       "150978 -58.470968  \n",
       "150979 -58.470968  "
      ]
     },
     "execution_count": 19,
     "metadata": {},
     "output_type": "execute_result"
    }
   ],
   "source": [
    "ds_crudo = pd.read_csv('dataset_flujo_vehicular.csv')\n",
    "ds_crudo.tail()"
   ]
  },
  {
   "cell_type": "code",
   "execution_count": 20,
   "metadata": {
    "colab": {
     "base_uri": "https://localhost:8080/"
    },
    "executionInfo": {
     "elapsed": 29,
     "status": "ok",
     "timestamp": 1637273478860,
     "user": {
      "displayName": "Javier Laudadío",
      "photoUrl": "https://lh3.googleusercontent.com/a/default-user=s64",
      "userId": "07494710345697859273"
     },
     "user_tz": 180
    },
    "id": "myFuolCo76vV",
    "outputId": "984c9be5-69c5-4c6f-b785-fbde3a0cfd3b"
   },
   "outputs": [
    {
     "name": "stdout",
     "output_type": "stream",
     "text": [
      "Filas: 150,980 \n",
      "Columnas: 6\n"
     ]
    }
   ],
   "source": [
    "filas = np.shape(ds_crudo)[0]\n",
    "columnas = np.shape(ds_crudo)[1]\n",
    "print('Filas: {:,.0f}'.format(filas), f'\\nColumnas: {columnas}' ) # Vemos el tamaño del dataset"
   ]
  },
  {
   "cell_type": "code",
   "execution_count": 21,
   "metadata": {
    "colab": {
     "base_uri": "https://localhost:8080/"
    },
    "executionInfo": {
     "elapsed": 21,
     "status": "ok",
     "timestamp": 1637273478861,
     "user": {
      "displayName": "Javier Laudadío",
      "photoUrl": "https://lh3.googleusercontent.com/a/default-user=s64",
      "userId": "07494710345697859273"
     },
     "user_tz": 180
    },
    "id": "X8XLLaG58N0k",
    "outputId": "19eff65e-6f9f-4a23-8bf9-b0f173299e3f"
   },
   "outputs": [
    {
     "data": {
      "text/plain": [
       "CODIGO_LOCACION     object\n",
       "HORA                object\n",
       "CANTIDAD             int64\n",
       "SENTIDO             object\n",
       "LATITUD            float64\n",
       "LONGITUD           float64\n",
       "dtype: object"
      ]
     },
     "execution_count": 21,
     "metadata": {},
     "output_type": "execute_result"
    }
   ],
   "source": [
    "ds_crudo.dtypes # Vemos el tipo de datos en el dataset"
   ]
  },
  {
   "cell_type": "code",
   "execution_count": 22,
   "metadata": {
    "colab": {
     "base_uri": "https://localhost:8080/",
     "height": 206
    },
    "executionInfo": {
     "elapsed": 18,
     "status": "ok",
     "timestamp": 1637273478862,
     "user": {
      "displayName": "Javier Laudadío",
      "photoUrl": "https://lh3.googleusercontent.com/a/default-user=s64",
      "userId": "07494710345697859273"
     },
     "user_tz": 180
    },
    "id": "VNWMxrer8WlF",
    "outputId": "036a0c31-196b-46f0-881b-f6ce389bbabc"
   },
   "outputs": [
    {
     "data": {
      "text/html": [
       "<div>\n",
       "<style scoped>\n",
       "    .dataframe tbody tr th:only-of-type {\n",
       "        vertical-align: middle;\n",
       "    }\n",
       "\n",
       "    .dataframe tbody tr th {\n",
       "        vertical-align: top;\n",
       "    }\n",
       "\n",
       "    .dataframe thead th {\n",
       "        text-align: right;\n",
       "    }\n",
       "</style>\n",
       "<table border=\"1\" class=\"dataframe\">\n",
       "  <thead>\n",
       "    <tr style=\"text-align: right;\">\n",
       "      <th></th>\n",
       "      <th>CODIGO_LOCACION</th>\n",
       "      <th>HORA</th>\n",
       "      <th>CANTIDAD</th>\n",
       "      <th>SENTIDO</th>\n",
       "      <th>LATITUD</th>\n",
       "      <th>LONGITUD</th>\n",
       "    </tr>\n",
       "  </thead>\n",
       "  <tbody>\n",
       "    <tr>\n",
       "      <th>150975</th>\n",
       "      <td>48Q3FG00+</td>\n",
       "      <td>15OCT2021:16:00:00</td>\n",
       "      <td>4499</td>\n",
       "      <td>Interna</td>\n",
       "      <td>-34.53698</td>\n",
       "      <td>-58.470968</td>\n",
       "    </tr>\n",
       "    <tr>\n",
       "      <th>150976</th>\n",
       "      <td>48Q3FG00+</td>\n",
       "      <td>15OCT2021:17:00:00</td>\n",
       "      <td>4137</td>\n",
       "      <td>Interna</td>\n",
       "      <td>-34.53698</td>\n",
       "      <td>-58.470968</td>\n",
       "    </tr>\n",
       "    <tr>\n",
       "      <th>150977</th>\n",
       "      <td>48Q3FG00+</td>\n",
       "      <td>15OCT2021:18:00:00</td>\n",
       "      <td>3868</td>\n",
       "      <td>Interna</td>\n",
       "      <td>-34.53698</td>\n",
       "      <td>-58.470968</td>\n",
       "    </tr>\n",
       "    <tr>\n",
       "      <th>150978</th>\n",
       "      <td>48Q3FG00+</td>\n",
       "      <td>15OCT2021:19:00:00</td>\n",
       "      <td>3103</td>\n",
       "      <td>Interna</td>\n",
       "      <td>-34.53698</td>\n",
       "      <td>-58.470968</td>\n",
       "    </tr>\n",
       "    <tr>\n",
       "      <th>150979</th>\n",
       "      <td>48Q3FG00+</td>\n",
       "      <td>15OCT2021:20:00:00</td>\n",
       "      <td>3107</td>\n",
       "      <td>Interna</td>\n",
       "      <td>-34.53698</td>\n",
       "      <td>-58.470968</td>\n",
       "    </tr>\n",
       "  </tbody>\n",
       "</table>\n",
       "</div>"
      ],
      "text/plain": [
       "       CODIGO_LOCACION                HORA  CANTIDAD  SENTIDO   LATITUD  \\\n",
       "150975       48Q3FG00+  15OCT2021:16:00:00      4499  Interna -34.53698   \n",
       "150976       48Q3FG00+  15OCT2021:17:00:00      4137  Interna -34.53698   \n",
       "150977       48Q3FG00+  15OCT2021:18:00:00      3868  Interna -34.53698   \n",
       "150978       48Q3FG00+  15OCT2021:19:00:00      3103  Interna -34.53698   \n",
       "150979       48Q3FG00+  15OCT2021:20:00:00      3107  Interna -34.53698   \n",
       "\n",
       "         LONGITUD  \n",
       "150975 -58.470968  \n",
       "150976 -58.470968  \n",
       "150977 -58.470968  \n",
       "150978 -58.470968  \n",
       "150979 -58.470968  "
      ]
     },
     "execution_count": 22,
     "metadata": {},
     "output_type": "execute_result"
    }
   ],
   "source": [
    "ds_crudo.tail() # Finalmente vemos un ejemplo rápido"
   ]
  },
  {
   "cell_type": "code",
   "execution_count": 23,
   "metadata": {
    "colab": {
     "base_uri": "https://localhost:8080/"
    },
    "executionInfo": {
     "elapsed": 17,
     "status": "ok",
     "timestamp": 1637273478863,
     "user": {
      "displayName": "Javier Laudadío",
      "photoUrl": "https://lh3.googleusercontent.com/a/default-user=s64",
      "userId": "07494710345697859273"
     },
     "user_tz": 180
    },
    "id": "qKUDHOnJ-DTx",
    "outputId": "a6d3d367-4033-41b9-c6fe-ae76c2b96034"
   },
   "outputs": [
    {
     "data": {
      "text/plain": [
       "array(['48Q3CJ00+', '48Q39G00+', '48Q3CH00+', '48Q39J00+', '48Q3FG00+',\n",
       "       '48Q39H00+', '27262200+', '2H2M2200+', '39H7JC00+'], dtype=object)"
      ]
     },
     "execution_count": 23,
     "metadata": {},
     "output_type": "execute_result"
    }
   ],
   "source": [
    "ds_crudo['CODIGO_LOCACION'].unique() # para averigar cuántos sensores aportan datos al dataset"
   ]
  },
  {
   "cell_type": "code",
   "execution_count": 24,
   "metadata": {
    "id": "Bsy784tN-wSM"
   },
   "outputs": [],
   "source": [
    "ds_aux = ds_crudo.copy(deep=True) #Creo una copia del ds crudo para poder hacerle modificaciones"
   ]
  },
  {
   "cell_type": "code",
   "execution_count": 25,
   "metadata": {
    "id": "_YIi1tOz_HO7"
   },
   "outputs": [],
   "source": [
    "# PARA COMPROBAR QUE LOS CODIGOS_LOCACION CORRESPONDEN A UN PUNTO GEOGRÁFICO ÚNICO"
   ]
  },
  {
   "cell_type": "code",
   "execution_count": 26,
   "metadata": {
    "colab": {
     "base_uri": "https://localhost:8080/"
    },
    "executionInfo": {
     "elapsed": 645,
     "status": "ok",
     "timestamp": 1637273479496,
     "user": {
      "displayName": "Javier Laudadío",
      "photoUrl": "https://lh3.googleusercontent.com/a/default-user=s64",
      "userId": "07494710345697859273"
     },
     "user_tz": 180
    },
    "id": "3-M_37_M_UX6",
    "outputId": "28f3325d-c551-4373-fcee-dc666ef48c62"
   },
   "outputs": [
    {
     "data": {
      "text/plain": [
       "array([-34.588796, -34.633299, -34.579632, -34.60855 , -34.53698 ,\n",
       "       -34.618036,        nan])"
      ]
     },
     "execution_count": 26,
     "metadata": {},
     "output_type": "execute_result"
    }
   ],
   "source": [
    "ds_crudo['LATITUD'].unique() # debería haber la misma cantidad de puntos que CODIGOS_LOCACION"
   ]
  },
  {
   "cell_type": "code",
   "execution_count": 27,
   "metadata": {
    "colab": {
     "base_uri": "https://localhost:8080/"
    },
    "executionInfo": {
     "elapsed": 48,
     "status": "ok",
     "timestamp": 1637273479497,
     "user": {
      "displayName": "Javier Laudadío",
      "photoUrl": "https://lh3.googleusercontent.com/a/default-user=s64",
      "userId": "07494710345697859273"
     },
     "user_tz": 180
    },
    "id": "xOLXwhb__5Ms",
    "outputId": "db9003e0-b0c7-4ee2-e188-3b3abf636f2f"
   },
   "outputs": [
    {
     "data": {
      "text/plain": [
       "array([-58.38152 , -58.468594, -58.427733, -58.372951, -58.470968,\n",
       "       -58.410236,        nan, -58.468594, -58.427733, -58.38152 ])"
      ]
     },
     "execution_count": 27,
     "metadata": {},
     "output_type": "execute_result"
    }
   ],
   "source": [
    "ds_crudo['LONGITUD'].unique() # Viendo que solo hay 6 y no 9, revisamos también LONGITUD"
   ]
  },
  {
   "cell_type": "code",
   "execution_count": 28,
   "metadata": {
    "id": "8lONBvlPAOV8"
   },
   "outputs": [],
   "source": [
    "# Averiguamos la cantidad de puntos (combinación de LAT y LON) sin NaNs"
   ]
  },
  {
   "cell_type": "code",
   "execution_count": 29,
   "metadata": {
    "id": "8bbA9LzjAbhP"
   },
   "outputs": [],
   "source": [
    "ds_aux[\"LATITUD\"] = round(ds_aux[\"LATITUD\"], 6)\n",
    "ds_aux[\"LONGITUD\"] = round(ds_aux[\"LONGITUD\"], 6) # 1ero expresamos todas las coordenadas con la misma cantidad de decimales para evitar repeticiones"
   ]
  },
  {
   "cell_type": "code",
   "execution_count": 30,
   "metadata": {},
   "outputs": [
    {
     "name": "stdout",
     "output_type": "stream",
     "text": [
      "CODIGO_LOCACION      0\n",
      "HORA                 0\n",
      "CANTIDAD             0\n",
      "SENTIDO              0\n",
      "LATITUD            994\n",
      "LONGITUD           994\n",
      "dtype: int64 \r\n",
      "\n"
     ]
    }
   ],
   "source": [
    "cant_NaN = ds_aux.isnull().sum()\n",
    "print(cant_NaN,'\\r\\n')"
   ]
  },
  {
   "cell_type": "code",
   "execution_count": 31,
   "metadata": {},
   "outputs": [],
   "source": [
    "#Consideramos que la cantidad de NaN son irrelevantes con respecto a la totalidad del ds, así que los eliminamos:"
   ]
  },
  {
   "cell_type": "code",
   "execution_count": 32,
   "metadata": {
    "id": "y7ICMlP9AyDq"
   },
   "outputs": [],
   "source": [
    "ds_aux.dropna(subset=[\"LATITUD\"],inplace=True)\n",
    "ds_aux.dropna(subset=[\"LONGITUD\"],inplace=True)"
   ]
  },
  {
   "cell_type": "code",
   "execution_count": 33,
   "metadata": {
    "id": "tD-A7JHfA67J"
   },
   "outputs": [],
   "source": [
    "ds_aux[\"Coordenadas\"] = ds_aux[\"LATITUD\"].astype(str) + ', ' + ds_aux[\"LONGITUD\"].astype(str) #Creo una nueva columna que exprese un punto en el mapa"
   ]
  },
  {
   "cell_type": "code",
   "execution_count": 34,
   "metadata": {
    "colab": {
     "base_uri": "https://localhost:8080/"
    },
    "executionInfo": {
     "elapsed": 44,
     "status": "ok",
     "timestamp": 1637273479505,
     "user": {
      "displayName": "Javier Laudadío",
      "photoUrl": "https://lh3.googleusercontent.com/a/default-user=s64",
      "userId": "07494710345697859273"
     },
     "user_tz": 180
    },
    "id": "VhXA6BZGBIuj",
    "outputId": "17b74afc-3a21-4540-a7db-f67b8ccec9ba"
   },
   "outputs": [
    {
     "data": {
      "text/plain": [
       "array(['-34.588796, -58.38152', '-34.633299, -58.468594',\n",
       "       '-34.579632, -58.427733', '-34.60855, -58.372951',\n",
       "       '-34.53698, -58.470968', '-34.618036, -58.410236'], dtype=object)"
      ]
     },
     "execution_count": 34,
     "metadata": {},
     "output_type": "execute_result"
    }
   ],
   "source": [
    "ds_aux['Coordenadas'].unique() # Finalmente vemos cuantos puntos únicos (sensores) hay en el dataset"
   ]
  },
  {
   "cell_type": "code",
   "execution_count": 35,
   "metadata": {
    "colab": {
     "base_uri": "https://localhost:8080/"
    },
    "executionInfo": {
     "elapsed": 39,
     "status": "ok",
     "timestamp": 1637273479506,
     "user": {
      "displayName": "Javier Laudadío",
      "photoUrl": "https://lh3.googleusercontent.com/a/default-user=s64",
      "userId": "07494710345697859273"
     },
     "user_tz": 180
    },
    "id": "7onqoPJGBhWB",
    "outputId": "a1250d04-813a-4f86-eac3-8e6e20acbab1"
   },
   "outputs": [
    {
     "name": "stdout",
     "output_type": "stream",
     "text": [
      "Se quitaron 994 filas\n",
      "Quedan:  149986\n"
     ]
    }
   ],
   "source": [
    "print(f'Se quitaron {filas-np.shape(ds_aux)[0]} filas')\n",
    "print(\"Quedan: \",np.shape(ds_aux)[0]) # Para ver cuántas filas quitamos del ds"
   ]
  },
  {
   "cell_type": "code",
   "execution_count": 36,
   "metadata": {
    "id": "g8Q4Oy6MBq_x"
   },
   "outputs": [],
   "source": [
    "# Al tener solo 6 puntos únicos, se ingresan manualmente en google maps, y se chequean también los códigos de locación\n",
    "# Se verifica que efectivamente son solo 6 los que pertenecen a CABA:\n",
    "puntos = ['Retiro','Flores','Palermo','Plaza de Mayo', 'Cabildo y Gral. Paz', 'Hospital Ramos Mejia']"
   ]
  },
  {
   "cell_type": "code",
   "execution_count": 37,
   "metadata": {
    "colab": {
     "base_uri": "https://localhost:8080/"
    },
    "executionInfo": {
     "elapsed": 33,
     "status": "ok",
     "timestamp": 1637273479508,
     "user": {
      "displayName": "Javier Laudadío",
      "photoUrl": "https://lh3.googleusercontent.com/a/default-user=s64",
      "userId": "07494710345697859273"
     },
     "user_tz": 180
    },
    "id": "SexluZXZCFU6",
    "outputId": "26063c06-b1ba-4081-9d69-8c4d221f0aea"
   },
   "outputs": [
    {
     "data": {
      "text/plain": [
       "array(['Interna', 'Egreso', 'Ingreso'], dtype=object)"
      ]
     },
     "execution_count": 37,
     "metadata": {},
     "output_type": "execute_result"
    }
   ],
   "source": [
    "ds_aux['SENTIDO'].unique() # Vemos posibles sentidos"
   ]
  },
  {
   "cell_type": "code",
   "execution_count": 38,
   "metadata": {
    "id": "Iz8RCrcLEtSY"
   },
   "outputs": [],
   "source": [
    "# La columna SENTIDO, que es categórica, queremos abrirla en dummies"
   ]
  },
  {
   "cell_type": "code",
   "execution_count": 39,
   "metadata": {
    "colab": {
     "base_uri": "https://localhost:8080/",
     "height": 313
    },
    "executionInfo": {
     "elapsed": 28,
     "status": "ok",
     "timestamp": 1637273479510,
     "user": {
      "displayName": "Javier Laudadío",
      "photoUrl": "https://lh3.googleusercontent.com/a/default-user=s64",
      "userId": "07494710345697859273"
     },
     "user_tz": 180
    },
    "id": "RjbJ7_VsE6gE",
    "outputId": "1cab4ea1-987a-4a8d-9149-6156d73bf395"
   },
   "outputs": [
    {
     "data": {
      "text/html": [
       "<div>\n",
       "<style scoped>\n",
       "    .dataframe tbody tr th:only-of-type {\n",
       "        vertical-align: middle;\n",
       "    }\n",
       "\n",
       "    .dataframe tbody tr th {\n",
       "        vertical-align: top;\n",
       "    }\n",
       "\n",
       "    .dataframe thead th {\n",
       "        text-align: right;\n",
       "    }\n",
       "</style>\n",
       "<table border=\"1\" class=\"dataframe\">\n",
       "  <thead>\n",
       "    <tr style=\"text-align: right;\">\n",
       "      <th></th>\n",
       "      <th>CODIGO_LOCACION</th>\n",
       "      <th>HORA</th>\n",
       "      <th>CANTIDAD</th>\n",
       "      <th>SENTIDO</th>\n",
       "      <th>LATITUD</th>\n",
       "      <th>LONGITUD</th>\n",
       "      <th>Coordenadas</th>\n",
       "      <th>Egreso</th>\n",
       "      <th>Ingreso</th>\n",
       "      <th>Interna</th>\n",
       "    </tr>\n",
       "  </thead>\n",
       "  <tbody>\n",
       "    <tr>\n",
       "      <th>0</th>\n",
       "      <td>48Q3CJ00+</td>\n",
       "      <td>31MAR2020:15:00:00</td>\n",
       "      <td>729</td>\n",
       "      <td>Interna</td>\n",
       "      <td>-34.588796</td>\n",
       "      <td>-58.381520</td>\n",
       "      <td>-34.588796, -58.38152</td>\n",
       "      <td>0</td>\n",
       "      <td>0</td>\n",
       "      <td>1</td>\n",
       "    </tr>\n",
       "    <tr>\n",
       "      <th>1</th>\n",
       "      <td>48Q3CJ00+</td>\n",
       "      <td>31MAR2020:15:00:00</td>\n",
       "      <td>447</td>\n",
       "      <td>Egreso</td>\n",
       "      <td>-34.588796</td>\n",
       "      <td>-58.381520</td>\n",
       "      <td>-34.588796, -58.38152</td>\n",
       "      <td>1</td>\n",
       "      <td>0</td>\n",
       "      <td>0</td>\n",
       "    </tr>\n",
       "    <tr>\n",
       "      <th>2</th>\n",
       "      <td>48Q39G00+</td>\n",
       "      <td>31MAR2020:15:00:00</td>\n",
       "      <td>175</td>\n",
       "      <td>Interna</td>\n",
       "      <td>-34.633299</td>\n",
       "      <td>-58.468594</td>\n",
       "      <td>-34.633299, -58.468594</td>\n",
       "      <td>0</td>\n",
       "      <td>0</td>\n",
       "      <td>1</td>\n",
       "    </tr>\n",
       "    <tr>\n",
       "      <th>3</th>\n",
       "      <td>48Q39G00+</td>\n",
       "      <td>31MAR2020:15:00:00</td>\n",
       "      <td>1186</td>\n",
       "      <td>Egreso</td>\n",
       "      <td>-34.633299</td>\n",
       "      <td>-58.468594</td>\n",
       "      <td>-34.633299, -58.468594</td>\n",
       "      <td>1</td>\n",
       "      <td>0</td>\n",
       "      <td>0</td>\n",
       "    </tr>\n",
       "    <tr>\n",
       "      <th>4</th>\n",
       "      <td>48Q3CH00+</td>\n",
       "      <td>31MAR2020:15:00:00</td>\n",
       "      <td>35</td>\n",
       "      <td>Egreso</td>\n",
       "      <td>-34.579632</td>\n",
       "      <td>-58.427733</td>\n",
       "      <td>-34.579632, -58.427733</td>\n",
       "      <td>1</td>\n",
       "      <td>0</td>\n",
       "      <td>0</td>\n",
       "    </tr>\n",
       "  </tbody>\n",
       "</table>\n",
       "</div>"
      ],
      "text/plain": [
       "  CODIGO_LOCACION                HORA  CANTIDAD  SENTIDO    LATITUD  \\\n",
       "0       48Q3CJ00+  31MAR2020:15:00:00       729  Interna -34.588796   \n",
       "1       48Q3CJ00+  31MAR2020:15:00:00       447   Egreso -34.588796   \n",
       "2       48Q39G00+  31MAR2020:15:00:00       175  Interna -34.633299   \n",
       "3       48Q39G00+  31MAR2020:15:00:00      1186   Egreso -34.633299   \n",
       "4       48Q3CH00+  31MAR2020:15:00:00        35   Egreso -34.579632   \n",
       "\n",
       "    LONGITUD             Coordenadas  Egreso  Ingreso  Interna  \n",
       "0 -58.381520   -34.588796, -58.38152       0        0        1  \n",
       "1 -58.381520   -34.588796, -58.38152       1        0        0  \n",
       "2 -58.468594  -34.633299, -58.468594       0        0        1  \n",
       "3 -58.468594  -34.633299, -58.468594       1        0        0  \n",
       "4 -58.427733  -34.579632, -58.427733       1        0        0  "
      ]
     },
     "execution_count": 39,
     "metadata": {},
     "output_type": "execute_result"
    }
   ],
   "source": [
    "dummies = pd.get_dummies(ds_aux['SENTIDO'])\n",
    "ds_aux = pd.concat([ds_aux,dummies],axis = 1) # Generamos los dummies y los agregamos al ds\n",
    "ds_aux.head() # Chequeo visual"
   ]
  },
  {
   "cell_type": "code",
   "execution_count": 40,
   "metadata": {
    "id": "u0yH51PkFYrt"
   },
   "outputs": [],
   "source": [
    "# Ahora encaramos la tranformación del campo HORA en 2 separados, uno para la hora, y otro para la fecha"
   ]
  },
  {
   "cell_type": "code",
   "execution_count": 41,
   "metadata": {
    "id": "g3LWhriDFko2"
   },
   "outputs": [],
   "source": [
    "ds_aux['HORA'] = ds_aux['HORA'].apply(lambda x: datetime.strptime(x[:12], '%d%b%Y:%H')) # Primero le damos un formato más manejable"
   ]
  },
  {
   "cell_type": "code",
   "execution_count": 42,
   "metadata": {
    "id": "uEvt62juF24C"
   },
   "outputs": [],
   "source": [
    "ds_aux['HORA'] = ds_aux['HORA'].astype('str') # Paso HORA a texto para poder separar facilmente\n",
    "ds_aux['Fecha'] = ds_aux.HORA.str.slice(0,10)\n",
    "ds_aux['Hora'] = ds_aux.HORA.str.slice(11,13) # Creamos 2 columnas nuevas con fecha y hora basandonos en la anterior HORA"
   ]
  },
  {
   "cell_type": "code",
   "execution_count": 43,
   "metadata": {
    "colab": {
     "base_uri": "https://localhost:8080/",
     "height": 399
    },
    "executionInfo": {
     "elapsed": 1430,
     "status": "ok",
     "timestamp": 1637273483194,
     "user": {
      "displayName": "Javier Laudadío",
      "photoUrl": "https://lh3.googleusercontent.com/a/default-user=s64",
      "userId": "07494710345697859273"
     },
     "user_tz": 180
    },
    "id": "vixi_xR4GKUH",
    "outputId": "cc4609c4-2087-46ed-8fe0-6af5ca823276"
   },
   "outputs": [
    {
     "data": {
      "text/html": [
       "<div>\n",
       "<style scoped>\n",
       "    .dataframe tbody tr th:only-of-type {\n",
       "        vertical-align: middle;\n",
       "    }\n",
       "\n",
       "    .dataframe tbody tr th {\n",
       "        vertical-align: top;\n",
       "    }\n",
       "\n",
       "    .dataframe thead th {\n",
       "        text-align: right;\n",
       "    }\n",
       "</style>\n",
       "<table border=\"1\" class=\"dataframe\">\n",
       "  <thead>\n",
       "    <tr style=\"text-align: right;\">\n",
       "      <th></th>\n",
       "      <th>CODIGO_LOCACION</th>\n",
       "      <th>HORA</th>\n",
       "      <th>CANTIDAD</th>\n",
       "      <th>SENTIDO</th>\n",
       "      <th>LATITUD</th>\n",
       "      <th>LONGITUD</th>\n",
       "      <th>Coordenadas</th>\n",
       "      <th>Egreso</th>\n",
       "      <th>Ingreso</th>\n",
       "      <th>Interna</th>\n",
       "      <th>Fecha</th>\n",
       "      <th>Hora</th>\n",
       "    </tr>\n",
       "  </thead>\n",
       "  <tbody>\n",
       "    <tr>\n",
       "      <th>0</th>\n",
       "      <td>48Q3CJ00+</td>\n",
       "      <td>2020-03-31 15:00:00</td>\n",
       "      <td>729</td>\n",
       "      <td>Interna</td>\n",
       "      <td>-34.588796</td>\n",
       "      <td>-58.381520</td>\n",
       "      <td>-34.588796, -58.38152</td>\n",
       "      <td>0</td>\n",
       "      <td>0</td>\n",
       "      <td>1</td>\n",
       "      <td>2020-03-31</td>\n",
       "      <td>15</td>\n",
       "    </tr>\n",
       "    <tr>\n",
       "      <th>1</th>\n",
       "      <td>48Q3CJ00+</td>\n",
       "      <td>2020-03-31 15:00:00</td>\n",
       "      <td>447</td>\n",
       "      <td>Egreso</td>\n",
       "      <td>-34.588796</td>\n",
       "      <td>-58.381520</td>\n",
       "      <td>-34.588796, -58.38152</td>\n",
       "      <td>1</td>\n",
       "      <td>0</td>\n",
       "      <td>0</td>\n",
       "      <td>2020-03-31</td>\n",
       "      <td>15</td>\n",
       "    </tr>\n",
       "    <tr>\n",
       "      <th>2</th>\n",
       "      <td>48Q39G00+</td>\n",
       "      <td>2020-03-31 15:00:00</td>\n",
       "      <td>175</td>\n",
       "      <td>Interna</td>\n",
       "      <td>-34.633299</td>\n",
       "      <td>-58.468594</td>\n",
       "      <td>-34.633299, -58.468594</td>\n",
       "      <td>0</td>\n",
       "      <td>0</td>\n",
       "      <td>1</td>\n",
       "      <td>2020-03-31</td>\n",
       "      <td>15</td>\n",
       "    </tr>\n",
       "    <tr>\n",
       "      <th>3</th>\n",
       "      <td>48Q39G00+</td>\n",
       "      <td>2020-03-31 15:00:00</td>\n",
       "      <td>1186</td>\n",
       "      <td>Egreso</td>\n",
       "      <td>-34.633299</td>\n",
       "      <td>-58.468594</td>\n",
       "      <td>-34.633299, -58.468594</td>\n",
       "      <td>1</td>\n",
       "      <td>0</td>\n",
       "      <td>0</td>\n",
       "      <td>2020-03-31</td>\n",
       "      <td>15</td>\n",
       "    </tr>\n",
       "    <tr>\n",
       "      <th>4</th>\n",
       "      <td>48Q3CH00+</td>\n",
       "      <td>2020-03-31 15:00:00</td>\n",
       "      <td>35</td>\n",
       "      <td>Egreso</td>\n",
       "      <td>-34.579632</td>\n",
       "      <td>-58.427733</td>\n",
       "      <td>-34.579632, -58.427733</td>\n",
       "      <td>1</td>\n",
       "      <td>0</td>\n",
       "      <td>0</td>\n",
       "      <td>2020-03-31</td>\n",
       "      <td>15</td>\n",
       "    </tr>\n",
       "  </tbody>\n",
       "</table>\n",
       "</div>"
      ],
      "text/plain": [
       "  CODIGO_LOCACION                 HORA  CANTIDAD  SENTIDO    LATITUD  \\\n",
       "0       48Q3CJ00+  2020-03-31 15:00:00       729  Interna -34.588796   \n",
       "1       48Q3CJ00+  2020-03-31 15:00:00       447   Egreso -34.588796   \n",
       "2       48Q39G00+  2020-03-31 15:00:00       175  Interna -34.633299   \n",
       "3       48Q39G00+  2020-03-31 15:00:00      1186   Egreso -34.633299   \n",
       "4       48Q3CH00+  2020-03-31 15:00:00        35   Egreso -34.579632   \n",
       "\n",
       "    LONGITUD             Coordenadas  Egreso  Ingreso  Interna      Fecha Hora  \n",
       "0 -58.381520   -34.588796, -58.38152       0        0        1 2020-03-31   15  \n",
       "1 -58.381520   -34.588796, -58.38152       1        0        0 2020-03-31   15  \n",
       "2 -58.468594  -34.633299, -58.468594       0        0        1 2020-03-31   15  \n",
       "3 -58.468594  -34.633299, -58.468594       1        0        0 2020-03-31   15  \n",
       "4 -58.427733  -34.579632, -58.427733       1        0        0 2020-03-31   15  "
      ]
     },
     "execution_count": 43,
     "metadata": {},
     "output_type": "execute_result"
    }
   ],
   "source": [
    "ds_aux['Fecha'] = ds_aux['Fecha'].apply(lambda x: datetime.strptime(x[:10],'%Y-%m-%d')) #Paso Fecha a un formato más manejable también\n",
    "ds_aux.head() # otro chequeo visual"
   ]
  },
  {
   "cell_type": "code",
   "execution_count": 44,
   "metadata": {
    "id": "HNot_OxIGwvO"
   },
   "outputs": [],
   "source": [
    "# Las coordenadas como puntos son poco legibles, por lo que reemplazo por el punto que ubicamos anteriormente en el mapa"
   ]
  },
  {
   "cell_type": "code",
   "execution_count": 45,
   "metadata": {
    "id": "XSIJLfTIISee"
   },
   "outputs": [],
   "source": [
    "coord = ds_aux['Coordenadas'].unique() # Creo lista con los puntos coordenados"
   ]
  },
  {
   "cell_type": "code",
   "execution_count": 46,
   "metadata": {
    "colab": {
     "base_uri": "https://localhost:8080/",
     "height": 399
    },
    "executionInfo": {
     "elapsed": 1355,
     "status": "ok",
     "timestamp": 1637273484545,
     "user": {
      "displayName": "Javier Laudadío",
      "photoUrl": "https://lh3.googleusercontent.com/a/default-user=s64",
      "userId": "07494710345697859273"
     },
     "user_tz": 180
    },
    "id": "4NqIs8PgIWOE",
    "outputId": "fa7ea078-9679-4e99-f803-bdb9e0e34af1"
   },
   "outputs": [
    {
     "data": {
      "text/html": [
       "<div>\n",
       "<style scoped>\n",
       "    .dataframe tbody tr th:only-of-type {\n",
       "        vertical-align: middle;\n",
       "    }\n",
       "\n",
       "    .dataframe tbody tr th {\n",
       "        vertical-align: top;\n",
       "    }\n",
       "\n",
       "    .dataframe thead th {\n",
       "        text-align: right;\n",
       "    }\n",
       "</style>\n",
       "<table border=\"1\" class=\"dataframe\">\n",
       "  <thead>\n",
       "    <tr style=\"text-align: right;\">\n",
       "      <th></th>\n",
       "      <th>CODIGO_LOCACION</th>\n",
       "      <th>HORA</th>\n",
       "      <th>CANTIDAD</th>\n",
       "      <th>SENTIDO</th>\n",
       "      <th>LATITUD</th>\n",
       "      <th>LONGITUD</th>\n",
       "      <th>Coordenadas</th>\n",
       "      <th>Egreso</th>\n",
       "      <th>Ingreso</th>\n",
       "      <th>Interna</th>\n",
       "      <th>Fecha</th>\n",
       "      <th>Hora</th>\n",
       "    </tr>\n",
       "  </thead>\n",
       "  <tbody>\n",
       "    <tr>\n",
       "      <th>0</th>\n",
       "      <td>48Q3CJ00+</td>\n",
       "      <td>2020-03-31 15:00:00</td>\n",
       "      <td>729</td>\n",
       "      <td>Interna</td>\n",
       "      <td>-34.588796</td>\n",
       "      <td>-58.381520</td>\n",
       "      <td>Retiro</td>\n",
       "      <td>0</td>\n",
       "      <td>0</td>\n",
       "      <td>1</td>\n",
       "      <td>2020-03-31</td>\n",
       "      <td>15</td>\n",
       "    </tr>\n",
       "    <tr>\n",
       "      <th>1</th>\n",
       "      <td>48Q3CJ00+</td>\n",
       "      <td>2020-03-31 15:00:00</td>\n",
       "      <td>447</td>\n",
       "      <td>Egreso</td>\n",
       "      <td>-34.588796</td>\n",
       "      <td>-58.381520</td>\n",
       "      <td>Retiro</td>\n",
       "      <td>1</td>\n",
       "      <td>0</td>\n",
       "      <td>0</td>\n",
       "      <td>2020-03-31</td>\n",
       "      <td>15</td>\n",
       "    </tr>\n",
       "    <tr>\n",
       "      <th>2</th>\n",
       "      <td>48Q39G00+</td>\n",
       "      <td>2020-03-31 15:00:00</td>\n",
       "      <td>175</td>\n",
       "      <td>Interna</td>\n",
       "      <td>-34.633299</td>\n",
       "      <td>-58.468594</td>\n",
       "      <td>Flores</td>\n",
       "      <td>0</td>\n",
       "      <td>0</td>\n",
       "      <td>1</td>\n",
       "      <td>2020-03-31</td>\n",
       "      <td>15</td>\n",
       "    </tr>\n",
       "    <tr>\n",
       "      <th>3</th>\n",
       "      <td>48Q39G00+</td>\n",
       "      <td>2020-03-31 15:00:00</td>\n",
       "      <td>1186</td>\n",
       "      <td>Egreso</td>\n",
       "      <td>-34.633299</td>\n",
       "      <td>-58.468594</td>\n",
       "      <td>Flores</td>\n",
       "      <td>1</td>\n",
       "      <td>0</td>\n",
       "      <td>0</td>\n",
       "      <td>2020-03-31</td>\n",
       "      <td>15</td>\n",
       "    </tr>\n",
       "    <tr>\n",
       "      <th>4</th>\n",
       "      <td>48Q3CH00+</td>\n",
       "      <td>2020-03-31 15:00:00</td>\n",
       "      <td>35</td>\n",
       "      <td>Egreso</td>\n",
       "      <td>-34.579632</td>\n",
       "      <td>-58.427733</td>\n",
       "      <td>Palermo</td>\n",
       "      <td>1</td>\n",
       "      <td>0</td>\n",
       "      <td>0</td>\n",
       "      <td>2020-03-31</td>\n",
       "      <td>15</td>\n",
       "    </tr>\n",
       "  </tbody>\n",
       "</table>\n",
       "</div>"
      ],
      "text/plain": [
       "  CODIGO_LOCACION                 HORA  CANTIDAD  SENTIDO    LATITUD  \\\n",
       "0       48Q3CJ00+  2020-03-31 15:00:00       729  Interna -34.588796   \n",
       "1       48Q3CJ00+  2020-03-31 15:00:00       447   Egreso -34.588796   \n",
       "2       48Q39G00+  2020-03-31 15:00:00       175  Interna -34.633299   \n",
       "3       48Q39G00+  2020-03-31 15:00:00      1186   Egreso -34.633299   \n",
       "4       48Q3CH00+  2020-03-31 15:00:00        35   Egreso -34.579632   \n",
       "\n",
       "    LONGITUD Coordenadas  Egreso  Ingreso  Interna      Fecha Hora  \n",
       "0 -58.381520      Retiro       0        0        1 2020-03-31   15  \n",
       "1 -58.381520      Retiro       1        0        0 2020-03-31   15  \n",
       "2 -58.468594      Flores       0        0        1 2020-03-31   15  \n",
       "3 -58.468594      Flores       1        0        0 2020-03-31   15  \n",
       "4 -58.427733     Palermo       1        0        0 2020-03-31   15  "
      ]
     },
     "execution_count": 46,
     "metadata": {},
     "output_type": "execute_result"
    }
   ],
   "source": [
    "ds_aux.replace(coord, puntos, inplace=True) # Reemplazo los puntos por sus nombres reales que definí anteriormente\n",
    "ds_aux.head() # Chequeo visual"
   ]
  },
  {
   "cell_type": "code",
   "execution_count": 47,
   "metadata": {
    "id": "qQCQ6rJ5IsUk"
   },
   "outputs": [],
   "source": [
    "# Decidimos no usar los valores de circulación con sentido interno, nos vamos a concentrar en los que salen y entran de la ciudad"
   ]
  },
  {
   "cell_type": "code",
   "execution_count": 48,
   "metadata": {
    "id": "m-U_byuhLAac"
   },
   "outputs": [],
   "source": [
    "ds_small = ds_aux.copy(deep=True) #Creamos una copia del ds_aux para no perder valor en caso de necesitarlos más adelante"
   ]
  },
  {
   "cell_type": "code",
   "execution_count": 50,
   "metadata": {
    "id": "9XLE4zQHJBvt"
   },
   "outputs": [
    {
     "data": {
      "text/html": [
       "<div>\n",
       "<style scoped>\n",
       "    .dataframe tbody tr th:only-of-type {\n",
       "        vertical-align: middle;\n",
       "    }\n",
       "\n",
       "    .dataframe tbody tr th {\n",
       "        vertical-align: top;\n",
       "    }\n",
       "\n",
       "    .dataframe thead th {\n",
       "        text-align: right;\n",
       "    }\n",
       "</style>\n",
       "<table border=\"1\" class=\"dataframe\">\n",
       "  <thead>\n",
       "    <tr style=\"text-align: right;\">\n",
       "      <th></th>\n",
       "      <th>CODIGO_LOCACION</th>\n",
       "      <th>HORA</th>\n",
       "      <th>CANTIDAD</th>\n",
       "      <th>SENTIDO</th>\n",
       "      <th>LATITUD</th>\n",
       "      <th>LONGITUD</th>\n",
       "      <th>Coordenadas</th>\n",
       "      <th>Egreso</th>\n",
       "      <th>Ingreso</th>\n",
       "      <th>Interna</th>\n",
       "      <th>Fecha</th>\n",
       "      <th>Hora</th>\n",
       "    </tr>\n",
       "  </thead>\n",
       "  <tbody>\n",
       "    <tr>\n",
       "      <th>1</th>\n",
       "      <td>48Q3CJ00+</td>\n",
       "      <td>2020-03-31 15:00:00</td>\n",
       "      <td>447</td>\n",
       "      <td>Egreso</td>\n",
       "      <td>-34.588796</td>\n",
       "      <td>-58.381520</td>\n",
       "      <td>Retiro</td>\n",
       "      <td>1</td>\n",
       "      <td>0</td>\n",
       "      <td>0</td>\n",
       "      <td>2020-03-31</td>\n",
       "      <td>15</td>\n",
       "    </tr>\n",
       "    <tr>\n",
       "      <th>3</th>\n",
       "      <td>48Q39G00+</td>\n",
       "      <td>2020-03-31 15:00:00</td>\n",
       "      <td>1186</td>\n",
       "      <td>Egreso</td>\n",
       "      <td>-34.633299</td>\n",
       "      <td>-58.468594</td>\n",
       "      <td>Flores</td>\n",
       "      <td>1</td>\n",
       "      <td>0</td>\n",
       "      <td>0</td>\n",
       "      <td>2020-03-31</td>\n",
       "      <td>15</td>\n",
       "    </tr>\n",
       "    <tr>\n",
       "      <th>4</th>\n",
       "      <td>48Q3CH00+</td>\n",
       "      <td>2020-03-31 15:00:00</td>\n",
       "      <td>35</td>\n",
       "      <td>Egreso</td>\n",
       "      <td>-34.579632</td>\n",
       "      <td>-58.427733</td>\n",
       "      <td>Palermo</td>\n",
       "      <td>1</td>\n",
       "      <td>0</td>\n",
       "      <td>0</td>\n",
       "      <td>2020-03-31</td>\n",
       "      <td>15</td>\n",
       "    </tr>\n",
       "    <tr>\n",
       "      <th>7</th>\n",
       "      <td>48Q39G00+</td>\n",
       "      <td>2020-03-31 15:00:00</td>\n",
       "      <td>1235</td>\n",
       "      <td>Ingreso</td>\n",
       "      <td>-34.633299</td>\n",
       "      <td>-58.468594</td>\n",
       "      <td>Flores</td>\n",
       "      <td>0</td>\n",
       "      <td>1</td>\n",
       "      <td>0</td>\n",
       "      <td>2020-03-31</td>\n",
       "      <td>15</td>\n",
       "    </tr>\n",
       "    <tr>\n",
       "      <th>8</th>\n",
       "      <td>48Q39G00+</td>\n",
       "      <td>2020-03-31 14:00:00</td>\n",
       "      <td>1535</td>\n",
       "      <td>Egreso</td>\n",
       "      <td>-34.633299</td>\n",
       "      <td>-58.468594</td>\n",
       "      <td>Flores</td>\n",
       "      <td>1</td>\n",
       "      <td>0</td>\n",
       "      <td>0</td>\n",
       "      <td>2020-03-31</td>\n",
       "      <td>14</td>\n",
       "    </tr>\n",
       "    <tr>\n",
       "      <th>...</th>\n",
       "      <td>...</td>\n",
       "      <td>...</td>\n",
       "      <td>...</td>\n",
       "      <td>...</td>\n",
       "      <td>...</td>\n",
       "      <td>...</td>\n",
       "      <td>...</td>\n",
       "      <td>...</td>\n",
       "      <td>...</td>\n",
       "      <td>...</td>\n",
       "      <td>...</td>\n",
       "      <td>...</td>\n",
       "    </tr>\n",
       "    <tr>\n",
       "      <th>150948</th>\n",
       "      <td>48Q3CJ00+</td>\n",
       "      <td>2021-10-15 18:00:00</td>\n",
       "      <td>3401</td>\n",
       "      <td>Ingreso</td>\n",
       "      <td>-34.588796</td>\n",
       "      <td>-58.381520</td>\n",
       "      <td>Retiro</td>\n",
       "      <td>0</td>\n",
       "      <td>1</td>\n",
       "      <td>0</td>\n",
       "      <td>2021-10-15</td>\n",
       "      <td>18</td>\n",
       "    </tr>\n",
       "    <tr>\n",
       "      <th>150950</th>\n",
       "      <td>48Q3CJ00+</td>\n",
       "      <td>2021-10-15 19:00:00</td>\n",
       "      <td>2493</td>\n",
       "      <td>Egreso</td>\n",
       "      <td>-34.588796</td>\n",
       "      <td>-58.381520</td>\n",
       "      <td>Retiro</td>\n",
       "      <td>1</td>\n",
       "      <td>0</td>\n",
       "      <td>0</td>\n",
       "      <td>2021-10-15</td>\n",
       "      <td>19</td>\n",
       "    </tr>\n",
       "    <tr>\n",
       "      <th>150951</th>\n",
       "      <td>48Q3CJ00+</td>\n",
       "      <td>2021-10-15 19:00:00</td>\n",
       "      <td>3268</td>\n",
       "      <td>Ingreso</td>\n",
       "      <td>-34.588796</td>\n",
       "      <td>-58.381520</td>\n",
       "      <td>Retiro</td>\n",
       "      <td>0</td>\n",
       "      <td>1</td>\n",
       "      <td>0</td>\n",
       "      <td>2021-10-15</td>\n",
       "      <td>19</td>\n",
       "    </tr>\n",
       "    <tr>\n",
       "      <th>150953</th>\n",
       "      <td>48Q3CJ00+</td>\n",
       "      <td>2021-10-15 20:00:00</td>\n",
       "      <td>2414</td>\n",
       "      <td>Egreso</td>\n",
       "      <td>-34.588796</td>\n",
       "      <td>-58.381520</td>\n",
       "      <td>Retiro</td>\n",
       "      <td>1</td>\n",
       "      <td>0</td>\n",
       "      <td>0</td>\n",
       "      <td>2021-10-15</td>\n",
       "      <td>20</td>\n",
       "    </tr>\n",
       "    <tr>\n",
       "      <th>150954</th>\n",
       "      <td>48Q3CJ00+</td>\n",
       "      <td>2021-10-15 20:00:00</td>\n",
       "      <td>2841</td>\n",
       "      <td>Ingreso</td>\n",
       "      <td>-34.588796</td>\n",
       "      <td>-58.381520</td>\n",
       "      <td>Retiro</td>\n",
       "      <td>0</td>\n",
       "      <td>1</td>\n",
       "      <td>0</td>\n",
       "      <td>2021-10-15</td>\n",
       "      <td>20</td>\n",
       "    </tr>\n",
       "  </tbody>\n",
       "</table>\n",
       "<p>70739 rows × 12 columns</p>\n",
       "</div>"
      ],
      "text/plain": [
       "       CODIGO_LOCACION                 HORA  CANTIDAD  SENTIDO    LATITUD  \\\n",
       "1            48Q3CJ00+  2020-03-31 15:00:00       447   Egreso -34.588796   \n",
       "3            48Q39G00+  2020-03-31 15:00:00      1186   Egreso -34.633299   \n",
       "4            48Q3CH00+  2020-03-31 15:00:00        35   Egreso -34.579632   \n",
       "7            48Q39G00+  2020-03-31 15:00:00      1235  Ingreso -34.633299   \n",
       "8            48Q39G00+  2020-03-31 14:00:00      1535   Egreso -34.633299   \n",
       "...                ...                  ...       ...      ...        ...   \n",
       "150948       48Q3CJ00+  2021-10-15 18:00:00      3401  Ingreso -34.588796   \n",
       "150950       48Q3CJ00+  2021-10-15 19:00:00      2493   Egreso -34.588796   \n",
       "150951       48Q3CJ00+  2021-10-15 19:00:00      3268  Ingreso -34.588796   \n",
       "150953       48Q3CJ00+  2021-10-15 20:00:00      2414   Egreso -34.588796   \n",
       "150954       48Q3CJ00+  2021-10-15 20:00:00      2841  Ingreso -34.588796   \n",
       "\n",
       "         LONGITUD Coordenadas  Egreso  Ingreso  Interna      Fecha Hora  \n",
       "1      -58.381520      Retiro       1        0        0 2020-03-31   15  \n",
       "3      -58.468594      Flores       1        0        0 2020-03-31   15  \n",
       "4      -58.427733     Palermo       1        0        0 2020-03-31   15  \n",
       "7      -58.468594      Flores       0        1        0 2020-03-31   15  \n",
       "8      -58.468594      Flores       1        0        0 2020-03-31   14  \n",
       "...           ...         ...     ...      ...      ...        ...  ...  \n",
       "150948 -58.381520      Retiro       0        1        0 2021-10-15   18  \n",
       "150950 -58.381520      Retiro       1        0        0 2021-10-15   19  \n",
       "150951 -58.381520      Retiro       0        1        0 2021-10-15   19  \n",
       "150953 -58.381520      Retiro       1        0        0 2021-10-15   20  \n",
       "150954 -58.381520      Retiro       0        1        0 2021-10-15   20  \n",
       "\n",
       "[70739 rows x 12 columns]"
      ]
     },
     "execution_count": 50,
     "metadata": {},
     "output_type": "execute_result"
    }
   ],
   "source": [
    "ds_small = ds_small[ds_small.Interna != 1] #para eliminar el sentido de circulación interno\n",
    "ds_small"
   ]
  },
  {
   "cell_type": "code",
   "execution_count": 51,
   "metadata": {
    "id": "nbGvzCuVLg7W"
   },
   "outputs": [],
   "source": [
    "ds_small.drop(columns=['CODIGO_LOCACION','LATITUD','LONGITUD','Interna'], inplace=True) # Eliminamos el resto de los campos que no usamos"
   ]
  },
  {
   "cell_type": "code",
   "execution_count": 52,
   "metadata": {
    "colab": {
     "base_uri": "https://localhost:8080/",
     "height": 206
    },
    "executionInfo": {
     "elapsed": 29,
     "status": "ok",
     "timestamp": 1637273484553,
     "user": {
      "displayName": "Javier Laudadío",
      "photoUrl": "https://lh3.googleusercontent.com/a/default-user=s64",
      "userId": "07494710345697859273"
     },
     "user_tz": 180
    },
    "id": "loD52yKiLv1i",
    "outputId": "bb571786-0102-4d22-e548-6587148aae82"
   },
   "outputs": [
    {
     "data": {
      "text/html": [
       "<div>\n",
       "<style scoped>\n",
       "    .dataframe tbody tr th:only-of-type {\n",
       "        vertical-align: middle;\n",
       "    }\n",
       "\n",
       "    .dataframe tbody tr th {\n",
       "        vertical-align: top;\n",
       "    }\n",
       "\n",
       "    .dataframe thead th {\n",
       "        text-align: right;\n",
       "    }\n",
       "</style>\n",
       "<table border=\"1\" class=\"dataframe\">\n",
       "  <thead>\n",
       "    <tr style=\"text-align: right;\">\n",
       "      <th></th>\n",
       "      <th>HORA</th>\n",
       "      <th>CANTIDAD</th>\n",
       "      <th>SENTIDO</th>\n",
       "      <th>Coordenadas</th>\n",
       "      <th>Egreso</th>\n",
       "      <th>Ingreso</th>\n",
       "      <th>Fecha</th>\n",
       "      <th>Hora</th>\n",
       "    </tr>\n",
       "  </thead>\n",
       "  <tbody>\n",
       "    <tr>\n",
       "      <th>1</th>\n",
       "      <td>2020-03-31 15:00:00</td>\n",
       "      <td>447</td>\n",
       "      <td>Egreso</td>\n",
       "      <td>Retiro</td>\n",
       "      <td>1</td>\n",
       "      <td>0</td>\n",
       "      <td>2020-03-31</td>\n",
       "      <td>15</td>\n",
       "    </tr>\n",
       "    <tr>\n",
       "      <th>3</th>\n",
       "      <td>2020-03-31 15:00:00</td>\n",
       "      <td>1186</td>\n",
       "      <td>Egreso</td>\n",
       "      <td>Flores</td>\n",
       "      <td>1</td>\n",
       "      <td>0</td>\n",
       "      <td>2020-03-31</td>\n",
       "      <td>15</td>\n",
       "    </tr>\n",
       "    <tr>\n",
       "      <th>4</th>\n",
       "      <td>2020-03-31 15:00:00</td>\n",
       "      <td>35</td>\n",
       "      <td>Egreso</td>\n",
       "      <td>Palermo</td>\n",
       "      <td>1</td>\n",
       "      <td>0</td>\n",
       "      <td>2020-03-31</td>\n",
       "      <td>15</td>\n",
       "    </tr>\n",
       "    <tr>\n",
       "      <th>7</th>\n",
       "      <td>2020-03-31 15:00:00</td>\n",
       "      <td>1235</td>\n",
       "      <td>Ingreso</td>\n",
       "      <td>Flores</td>\n",
       "      <td>0</td>\n",
       "      <td>1</td>\n",
       "      <td>2020-03-31</td>\n",
       "      <td>15</td>\n",
       "    </tr>\n",
       "    <tr>\n",
       "      <th>8</th>\n",
       "      <td>2020-03-31 14:00:00</td>\n",
       "      <td>1535</td>\n",
       "      <td>Egreso</td>\n",
       "      <td>Flores</td>\n",
       "      <td>1</td>\n",
       "      <td>0</td>\n",
       "      <td>2020-03-31</td>\n",
       "      <td>14</td>\n",
       "    </tr>\n",
       "  </tbody>\n",
       "</table>\n",
       "</div>"
      ],
      "text/plain": [
       "                  HORA  CANTIDAD  SENTIDO Coordenadas  Egreso  Ingreso  \\\n",
       "1  2020-03-31 15:00:00       447   Egreso      Retiro       1        0   \n",
       "3  2020-03-31 15:00:00      1186   Egreso      Flores       1        0   \n",
       "4  2020-03-31 15:00:00        35   Egreso     Palermo       1        0   \n",
       "7  2020-03-31 15:00:00      1235  Ingreso      Flores       0        1   \n",
       "8  2020-03-31 14:00:00      1535   Egreso      Flores       1        0   \n",
       "\n",
       "       Fecha Hora  \n",
       "1 2020-03-31   15  \n",
       "3 2020-03-31   15  \n",
       "4 2020-03-31   15  \n",
       "7 2020-03-31   15  \n",
       "8 2020-03-31   14  "
      ]
     },
     "execution_count": 52,
     "metadata": {},
     "output_type": "execute_result"
    }
   ],
   "source": [
    "ds_small.head() # Chequeo visual"
   ]
  },
  {
   "cell_type": "code",
   "execution_count": 53,
   "metadata": {
    "colab": {
     "base_uri": "https://localhost:8080/"
    },
    "executionInfo": {
     "elapsed": 27,
     "status": "ok",
     "timestamp": 1637273484554,
     "user": {
      "displayName": "Javier Laudadío",
      "photoUrl": "https://lh3.googleusercontent.com/a/default-user=s64",
      "userId": "07494710345697859273"
     },
     "user_tz": 180
    },
    "id": "g2JyefAUMQX5",
    "outputId": "fe914922-cefa-4039-cd3d-e5722ca2c747"
   },
   "outputs": [
    {
     "data": {
      "text/plain": [
       "array(['Retiro', 'Flores', 'Palermo'], dtype=object)"
      ]
     },
     "execution_count": 53,
     "metadata": {},
     "output_type": "execute_result"
    }
   ],
   "source": [
    "ds_small['Coordenadas'].unique() # Vemos los sensores que aportan info de entrada y salida"
   ]
  },
  {
   "cell_type": "code",
   "execution_count": 54,
   "metadata": {
    "colab": {
     "base_uri": "https://localhost:8080/",
     "height": 313
    },
    "executionInfo": {
     "elapsed": 636,
     "status": "ok",
     "timestamp": 1637273485174,
     "user": {
      "displayName": "Javier Laudadío",
      "photoUrl": "https://lh3.googleusercontent.com/a/default-user=s64",
      "userId": "07494710345697859273"
     },
     "user_tz": 180
    },
    "id": "xe2i8vcKRnK_",
    "outputId": "4f24218f-9f02-4650-9f98-4b305f769bd4"
   },
   "outputs": [
    {
     "data": {
      "text/html": [
       "<div>\n",
       "<style scoped>\n",
       "    .dataframe tbody tr th:only-of-type {\n",
       "        vertical-align: middle;\n",
       "    }\n",
       "\n",
       "    .dataframe tbody tr th {\n",
       "        vertical-align: top;\n",
       "    }\n",
       "\n",
       "    .dataframe thead th {\n",
       "        text-align: right;\n",
       "    }\n",
       "</style>\n",
       "<table border=\"1\" class=\"dataframe\">\n",
       "  <thead>\n",
       "    <tr style=\"text-align: right;\">\n",
       "      <th></th>\n",
       "      <th>Fecha</th>\n",
       "      <th>Dia_Semana</th>\n",
       "      <th>Dia_Mes</th>\n",
       "      <th>Dia_Anio</th>\n",
       "      <th>Dia_Sema_Mes</th>\n",
       "      <th>Semana_Mes</th>\n",
       "      <th>Semana_Anio</th>\n",
       "      <th>Mes</th>\n",
       "      <th>Trimestre</th>\n",
       "      <th>Anio</th>\n",
       "      <th>Fecha_Habil_Posterior</th>\n",
       "      <th>Fecha_Habil_Anterior</th>\n",
       "      <th>Fecha_Saldo</th>\n",
       "      <th>Fecha_Habil</th>\n",
       "    </tr>\n",
       "  </thead>\n",
       "  <tbody>\n",
       "    <tr>\n",
       "      <th>0</th>\n",
       "      <td>2020-03-31</td>\n",
       "      <td>3</td>\n",
       "      <td>31</td>\n",
       "      <td>91</td>\n",
       "      <td>5</td>\n",
       "      <td>5</td>\n",
       "      <td>13</td>\n",
       "      <td>3</td>\n",
       "      <td>1</td>\n",
       "      <td>2020</td>\n",
       "      <td>2020-04-01</td>\n",
       "      <td>2020-03-30</td>\n",
       "      <td>2020-03-30</td>\n",
       "      <td>0</td>\n",
       "    </tr>\n",
       "    <tr>\n",
       "      <th>1</th>\n",
       "      <td>2020-04-01</td>\n",
       "      <td>4</td>\n",
       "      <td>1</td>\n",
       "      <td>92</td>\n",
       "      <td>1</td>\n",
       "      <td>0</td>\n",
       "      <td>13</td>\n",
       "      <td>4</td>\n",
       "      <td>2</td>\n",
       "      <td>2020</td>\n",
       "      <td>2020-04-02</td>\n",
       "      <td>2020-03-30</td>\n",
       "      <td>2020-04-01</td>\n",
       "      <td>1</td>\n",
       "    </tr>\n",
       "    <tr>\n",
       "      <th>2</th>\n",
       "      <td>2020-04-02</td>\n",
       "      <td>5</td>\n",
       "      <td>2</td>\n",
       "      <td>93</td>\n",
       "      <td>1</td>\n",
       "      <td>0</td>\n",
       "      <td>13</td>\n",
       "      <td>4</td>\n",
       "      <td>2</td>\n",
       "      <td>2020</td>\n",
       "      <td>2020-04-03</td>\n",
       "      <td>2020-04-01</td>\n",
       "      <td>2020-04-02</td>\n",
       "      <td>1</td>\n",
       "    </tr>\n",
       "    <tr>\n",
       "      <th>3</th>\n",
       "      <td>2020-04-03</td>\n",
       "      <td>6</td>\n",
       "      <td>3</td>\n",
       "      <td>94</td>\n",
       "      <td>1</td>\n",
       "      <td>0</td>\n",
       "      <td>13</td>\n",
       "      <td>4</td>\n",
       "      <td>2</td>\n",
       "      <td>2020</td>\n",
       "      <td>2020-04-06</td>\n",
       "      <td>2020-04-02</td>\n",
       "      <td>2020-04-03</td>\n",
       "      <td>1</td>\n",
       "    </tr>\n",
       "    <tr>\n",
       "      <th>4</th>\n",
       "      <td>2020-04-04</td>\n",
       "      <td>7</td>\n",
       "      <td>4</td>\n",
       "      <td>95</td>\n",
       "      <td>1</td>\n",
       "      <td>0</td>\n",
       "      <td>13</td>\n",
       "      <td>4</td>\n",
       "      <td>2</td>\n",
       "      <td>2020</td>\n",
       "      <td>2020-04-06</td>\n",
       "      <td>2020-04-03</td>\n",
       "      <td>2020-04-03</td>\n",
       "      <td>0</td>\n",
       "    </tr>\n",
       "  </tbody>\n",
       "</table>\n",
       "</div>"
      ],
      "text/plain": [
       "       Fecha  Dia_Semana  Dia_Mes  Dia_Anio  Dia_Sema_Mes  Semana_Mes  \\\n",
       "0 2020-03-31           3       31        91             5           5   \n",
       "1 2020-04-01           4        1        92             1           0   \n",
       "2 2020-04-02           5        2        93             1           0   \n",
       "3 2020-04-03           6        3        94             1           0   \n",
       "4 2020-04-04           7        4        95             1           0   \n",
       "\n",
       "   Semana_Anio  Mes  Trimestre  Anio Fecha_Habil_Posterior  \\\n",
       "0           13    3          1  2020            2020-04-01   \n",
       "1           13    4          2  2020            2020-04-02   \n",
       "2           13    4          2  2020            2020-04-03   \n",
       "3           13    4          2  2020            2020-04-06   \n",
       "4           13    4          2  2020            2020-04-06   \n",
       "\n",
       "  Fecha_Habil_Anterior Fecha_Saldo  Fecha_Habil  \n",
       "0           2020-03-30  2020-03-30            0  \n",
       "1           2020-03-30  2020-04-01            1  \n",
       "2           2020-04-01  2020-04-02            1  \n",
       "3           2020-04-02  2020-04-03            1  \n",
       "4           2020-04-03  2020-04-03            0  "
      ]
     },
     "execution_count": 54,
     "metadata": {},
     "output_type": "execute_result"
    }
   ],
   "source": [
    "# Importamos un dataset calendario:\n",
    "ds_calendario = pd.read_excel('calendario.xlsx')\n",
    "ds_calendario.head() # Cargo el nuevo dataset y chequeo la info que trae ( de antemano me aseguré que tenga datos para el rango de tiempo completo de nuestro ds principal)"
   ]
  },
  {
   "cell_type": "code",
   "execution_count": 55,
   "metadata": {
    "id": "z9yUdv18SFiu"
   },
   "outputs": [],
   "source": [
    "# Solo neceitamos los campos fecha para poder juntar los ds, dia_semana, y fecha_habil"
   ]
  },
  {
   "cell_type": "code",
   "execution_count": 56,
   "metadata": {
    "id": "uSe18g8RSag2"
   },
   "outputs": [],
   "source": [
    "ds_calendario.drop(columns=['Dia_Mes','Dia_Anio','Dia_Sema_Mes','Semana_Mes','Semana_Anio','Mes','Trimestre','Anio','Fecha_Habil_Posterior','Fecha_Habil_Anterior','Fecha_Saldo'], inplace=True)\n",
    "ds_calendario.columns=['Fecha','dia_semana','fecha_habil']"
   ]
  },
  {
   "cell_type": "code",
   "execution_count": 57,
   "metadata": {
    "colab": {
     "base_uri": "https://localhost:8080/",
     "height": 206
    },
    "executionInfo": {
     "elapsed": 66,
     "status": "ok",
     "timestamp": 1637273485178,
     "user": {
      "displayName": "Javier Laudadío",
      "photoUrl": "https://lh3.googleusercontent.com/a/default-user=s64",
      "userId": "07494710345697859273"
     },
     "user_tz": 180
    },
    "id": "XAhWMf_BTFT1",
    "outputId": "448490dd-bbca-441b-9814-9f56ef409c18"
   },
   "outputs": [
    {
     "data": {
      "text/html": [
       "<div>\n",
       "<style scoped>\n",
       "    .dataframe tbody tr th:only-of-type {\n",
       "        vertical-align: middle;\n",
       "    }\n",
       "\n",
       "    .dataframe tbody tr th {\n",
       "        vertical-align: top;\n",
       "    }\n",
       "\n",
       "    .dataframe thead th {\n",
       "        text-align: right;\n",
       "    }\n",
       "</style>\n",
       "<table border=\"1\" class=\"dataframe\">\n",
       "  <thead>\n",
       "    <tr style=\"text-align: right;\">\n",
       "      <th></th>\n",
       "      <th>HORA</th>\n",
       "      <th>CANTIDAD</th>\n",
       "      <th>SENTIDO</th>\n",
       "      <th>Coordenadas</th>\n",
       "      <th>Egreso</th>\n",
       "      <th>Ingreso</th>\n",
       "      <th>Fecha</th>\n",
       "      <th>Hora</th>\n",
       "      <th>dia_semana</th>\n",
       "      <th>fecha_habil</th>\n",
       "    </tr>\n",
       "  </thead>\n",
       "  <tbody>\n",
       "    <tr>\n",
       "      <th>0</th>\n",
       "      <td>2020-03-31 15:00:00</td>\n",
       "      <td>447</td>\n",
       "      <td>Egreso</td>\n",
       "      <td>Retiro</td>\n",
       "      <td>1</td>\n",
       "      <td>0</td>\n",
       "      <td>2020-03-31</td>\n",
       "      <td>15</td>\n",
       "      <td>3.0</td>\n",
       "      <td>0.0</td>\n",
       "    </tr>\n",
       "    <tr>\n",
       "      <th>1</th>\n",
       "      <td>2020-03-31 15:00:00</td>\n",
       "      <td>1186</td>\n",
       "      <td>Egreso</td>\n",
       "      <td>Flores</td>\n",
       "      <td>1</td>\n",
       "      <td>0</td>\n",
       "      <td>2020-03-31</td>\n",
       "      <td>15</td>\n",
       "      <td>3.0</td>\n",
       "      <td>0.0</td>\n",
       "    </tr>\n",
       "    <tr>\n",
       "      <th>2</th>\n",
       "      <td>2020-03-31 15:00:00</td>\n",
       "      <td>35</td>\n",
       "      <td>Egreso</td>\n",
       "      <td>Palermo</td>\n",
       "      <td>1</td>\n",
       "      <td>0</td>\n",
       "      <td>2020-03-31</td>\n",
       "      <td>15</td>\n",
       "      <td>3.0</td>\n",
       "      <td>0.0</td>\n",
       "    </tr>\n",
       "    <tr>\n",
       "      <th>3</th>\n",
       "      <td>2020-03-31 15:00:00</td>\n",
       "      <td>1235</td>\n",
       "      <td>Ingreso</td>\n",
       "      <td>Flores</td>\n",
       "      <td>0</td>\n",
       "      <td>1</td>\n",
       "      <td>2020-03-31</td>\n",
       "      <td>15</td>\n",
       "      <td>3.0</td>\n",
       "      <td>0.0</td>\n",
       "    </tr>\n",
       "    <tr>\n",
       "      <th>4</th>\n",
       "      <td>2020-03-31 14:00:00</td>\n",
       "      <td>1535</td>\n",
       "      <td>Egreso</td>\n",
       "      <td>Flores</td>\n",
       "      <td>1</td>\n",
       "      <td>0</td>\n",
       "      <td>2020-03-31</td>\n",
       "      <td>14</td>\n",
       "      <td>3.0</td>\n",
       "      <td>0.0</td>\n",
       "    </tr>\n",
       "  </tbody>\n",
       "</table>\n",
       "</div>"
      ],
      "text/plain": [
       "                  HORA  CANTIDAD  SENTIDO Coordenadas  Egreso  Ingreso  \\\n",
       "0  2020-03-31 15:00:00       447   Egreso      Retiro       1        0   \n",
       "1  2020-03-31 15:00:00      1186   Egreso      Flores       1        0   \n",
       "2  2020-03-31 15:00:00        35   Egreso     Palermo       1        0   \n",
       "3  2020-03-31 15:00:00      1235  Ingreso      Flores       0        1   \n",
       "4  2020-03-31 14:00:00      1535   Egreso      Flores       1        0   \n",
       "\n",
       "       Fecha Hora  dia_semana  fecha_habil  \n",
       "0 2020-03-31   15         3.0          0.0  \n",
       "1 2020-03-31   15         3.0          0.0  \n",
       "2 2020-03-31   15         3.0          0.0  \n",
       "3 2020-03-31   15         3.0          0.0  \n",
       "4 2020-03-31   14         3.0          0.0  "
      ]
     },
     "execution_count": 57,
     "metadata": {},
     "output_type": "execute_result"
    }
   ],
   "source": [
    "ds_rich = pd.merge(ds_small, ds_calendario, on='Fecha', how='left') # Creamos un nuevo dataset enriquecido haciendo el joinleft de small y calendario\n",
    "ds_rich.head() # Chequeo visual"
   ]
  },
  {
   "cell_type": "code",
   "execution_count": 58,
   "metadata": {
    "colab": {
     "base_uri": "https://localhost:8080/"
    },
    "executionInfo": {
     "elapsed": 65,
     "status": "ok",
     "timestamp": 1637273485180,
     "user": {
      "displayName": "Javier Laudadío",
      "photoUrl": "https://lh3.googleusercontent.com/a/default-user=s64",
      "userId": "07494710345697859273"
     },
     "user_tz": 180
    },
    "id": "eYH20MBnTwPu",
    "outputId": "ea125345-7cd9-486a-b818-d046fb02346c"
   },
   "outputs": [
    {
     "name": "stdout",
     "output_type": "stream",
     "text": [
      "Filas: 70,739 \n",
      "Columnas: 10\n"
     ]
    }
   ],
   "source": [
    "filas_rich = np.shape(ds_rich)[0]\n",
    "columnas_rich = np.shape(ds_rich)[1]\n",
    "print('Filas: {:,.0f}'.format(filas_rich), f'\\nColumnas: {columnas_rich}' ) # Vemos el tamaño del nuevo dataset"
   ]
  },
  {
   "cell_type": "code",
   "execution_count": 59,
   "metadata": {
    "colab": {
     "base_uri": "https://localhost:8080/"
    },
    "executionInfo": {
     "elapsed": 58,
     "status": "ok",
     "timestamp": 1637273485181,
     "user": {
      "displayName": "Javier Laudadío",
      "photoUrl": "https://lh3.googleusercontent.com/a/default-user=s64",
      "userId": "07494710345697859273"
     },
     "user_tz": 180
    },
    "id": "q0YEuwAFT_js",
    "outputId": "36e20cae-4442-4b97-905c-2570ea3495d2"
   },
   "outputs": [
    {
     "data": {
      "text/plain": [
       "HORA                   object\n",
       "CANTIDAD                int64\n",
       "SENTIDO                object\n",
       "Coordenadas            object\n",
       "Egreso                  uint8\n",
       "Ingreso                 uint8\n",
       "Fecha          datetime64[ns]\n",
       "Hora                   object\n",
       "dia_semana            float64\n",
       "fecha_habil           float64\n",
       "dtype: object"
      ]
     },
     "execution_count": 59,
     "metadata": {},
     "output_type": "execute_result"
    }
   ],
   "source": [
    "ds_rich.dtypes # Vemos en el chequeo visual que algunos datos no estan formateados de la mejor forma"
   ]
  },
  {
   "cell_type": "code",
   "execution_count": 60,
   "metadata": {
    "id": "Wjb-qxWyafB6"
   },
   "outputs": [],
   "source": [
    "# Al querer pasar los días de semana a 'int' nos avisa que hay valores NaN, por lo que los dropeamos\n",
    "ds_rich.dropna(subset=[\"dia_semana\"],inplace=True)\n",
    "ds_rich.dropna(subset=[\"fecha_habil\"],inplace=True)"
   ]
  },
  {
   "cell_type": "code",
   "execution_count": 61,
   "metadata": {
    "colab": {
     "base_uri": "https://localhost:8080/",
     "height": 206
    },
    "executionInfo": {
     "elapsed": 55,
     "status": "ok",
     "timestamp": 1637273485185,
     "user": {
      "displayName": "Javier Laudadío",
      "photoUrl": "https://lh3.googleusercontent.com/a/default-user=s64",
      "userId": "07494710345697859273"
     },
     "user_tz": 180
    },
    "id": "dG8OuGYoZtJc",
    "outputId": "9026832b-7258-44cf-f937-06f0351b63f7"
   },
   "outputs": [
    {
     "data": {
      "text/html": [
       "<div>\n",
       "<style scoped>\n",
       "    .dataframe tbody tr th:only-of-type {\n",
       "        vertical-align: middle;\n",
       "    }\n",
       "\n",
       "    .dataframe tbody tr th {\n",
       "        vertical-align: top;\n",
       "    }\n",
       "\n",
       "    .dataframe thead th {\n",
       "        text-align: right;\n",
       "    }\n",
       "</style>\n",
       "<table border=\"1\" class=\"dataframe\">\n",
       "  <thead>\n",
       "    <tr style=\"text-align: right;\">\n",
       "      <th></th>\n",
       "      <th>HORA</th>\n",
       "      <th>SENTIDO</th>\n",
       "      <th>Coordenadas</th>\n",
       "      <th>Egreso</th>\n",
       "      <th>Ingreso</th>\n",
       "      <th>Fecha</th>\n",
       "      <th>Hora</th>\n",
       "      <th>dia_semana</th>\n",
       "      <th>fecha_habil</th>\n",
       "      <th>Cantidad</th>\n",
       "    </tr>\n",
       "  </thead>\n",
       "  <tbody>\n",
       "    <tr>\n",
       "      <th>0</th>\n",
       "      <td>2020-03-31 15:00:00</td>\n",
       "      <td>Egreso</td>\n",
       "      <td>Retiro</td>\n",
       "      <td>1</td>\n",
       "      <td>0</td>\n",
       "      <td>2020-03-31</td>\n",
       "      <td>15</td>\n",
       "      <td>3</td>\n",
       "      <td>0</td>\n",
       "      <td>447</td>\n",
       "    </tr>\n",
       "    <tr>\n",
       "      <th>1</th>\n",
       "      <td>2020-03-31 15:00:00</td>\n",
       "      <td>Egreso</td>\n",
       "      <td>Flores</td>\n",
       "      <td>1</td>\n",
       "      <td>0</td>\n",
       "      <td>2020-03-31</td>\n",
       "      <td>15</td>\n",
       "      <td>3</td>\n",
       "      <td>0</td>\n",
       "      <td>1186</td>\n",
       "    </tr>\n",
       "    <tr>\n",
       "      <th>2</th>\n",
       "      <td>2020-03-31 15:00:00</td>\n",
       "      <td>Egreso</td>\n",
       "      <td>Palermo</td>\n",
       "      <td>1</td>\n",
       "      <td>0</td>\n",
       "      <td>2020-03-31</td>\n",
       "      <td>15</td>\n",
       "      <td>3</td>\n",
       "      <td>0</td>\n",
       "      <td>35</td>\n",
       "    </tr>\n",
       "    <tr>\n",
       "      <th>3</th>\n",
       "      <td>2020-03-31 15:00:00</td>\n",
       "      <td>Ingreso</td>\n",
       "      <td>Flores</td>\n",
       "      <td>0</td>\n",
       "      <td>1</td>\n",
       "      <td>2020-03-31</td>\n",
       "      <td>15</td>\n",
       "      <td>3</td>\n",
       "      <td>0</td>\n",
       "      <td>1235</td>\n",
       "    </tr>\n",
       "    <tr>\n",
       "      <th>4</th>\n",
       "      <td>2020-03-31 14:00:00</td>\n",
       "      <td>Egreso</td>\n",
       "      <td>Flores</td>\n",
       "      <td>1</td>\n",
       "      <td>0</td>\n",
       "      <td>2020-03-31</td>\n",
       "      <td>14</td>\n",
       "      <td>3</td>\n",
       "      <td>0</td>\n",
       "      <td>1535</td>\n",
       "    </tr>\n",
       "  </tbody>\n",
       "</table>\n",
       "</div>"
      ],
      "text/plain": [
       "                  HORA  SENTIDO Coordenadas  Egreso  Ingreso      Fecha Hora  \\\n",
       "0  2020-03-31 15:00:00   Egreso      Retiro       1        0 2020-03-31   15   \n",
       "1  2020-03-31 15:00:00   Egreso      Flores       1        0 2020-03-31   15   \n",
       "2  2020-03-31 15:00:00   Egreso     Palermo       1        0 2020-03-31   15   \n",
       "3  2020-03-31 15:00:00  Ingreso      Flores       0        1 2020-03-31   15   \n",
       "4  2020-03-31 14:00:00   Egreso      Flores       1        0 2020-03-31   14   \n",
       "\n",
       "   dia_semana  fecha_habil  Cantidad  \n",
       "0           3            0       447  \n",
       "1           3            0      1186  \n",
       "2           3            0        35  \n",
       "3           3            0      1235  \n",
       "4           3            0      1535  "
      ]
     },
     "execution_count": 61,
     "metadata": {},
     "output_type": "execute_result"
    }
   ],
   "source": [
    "ds_rich['Cantidad'] = ds_rich['CANTIDAD'].astype('int')\n",
    "ds_rich.drop(columns=['CANTIDAD'],inplace=True) # Columna duplicada por cambio de nombre, la eliminamos\n",
    "ds_rich['dia_semana'] = ds_rich['dia_semana'].astype('int')\n",
    "ds_rich['fecha_habil'] = ds_rich['fecha_habil'].astype('int')\n",
    "# Pasamos los campos a \"integer\"\n",
    "ds_rich.head() # Chequeo Visual"
   ]
  },
  {
   "cell_type": "code",
   "execution_count": 62,
   "metadata": {
    "id": "Y3ukdsfhblFy"
   },
   "outputs": [],
   "source": [
    "dias_semana = ['domingo','lunes','martes','miercoles','jueves','viernes','sabado']\n",
    "dias = [1, 2, 3, 4, 5, 6, 7] # Creamos 2 listas con los días para hacer el reemplazo en el ds y facilitar la lectura de los datos\n",
    "ds_rich.sort_values(by=['dia_semana'], inplace=True) # Ordenamos el ds para que sea de domingo a sabado\n",
    "ds_rich['dia_semana'].replace(dias, dias_semana, inplace=True)"
   ]
  },
  {
   "cell_type": "code",
   "execution_count": 63,
   "metadata": {
    "colab": {
     "base_uri": "https://localhost:8080/",
     "height": 293
    },
    "executionInfo": {
     "elapsed": 55,
     "status": "ok",
     "timestamp": 1637273485188,
     "user": {
      "displayName": "Javier Laudadío",
      "photoUrl": "https://lh3.googleusercontent.com/a/default-user=s64",
      "userId": "07494710345697859273"
     },
     "user_tz": 180
    },
    "id": "ShMOsawQeXoG",
    "outputId": "45e6df62-0c40-4a61-fb35-e47089ac4815"
   },
   "outputs": [
    {
     "data": {
      "text/html": [
       "<div>\n",
       "<style scoped>\n",
       "    .dataframe tbody tr th:only-of-type {\n",
       "        vertical-align: middle;\n",
       "    }\n",
       "\n",
       "    .dataframe tbody tr th {\n",
       "        vertical-align: top;\n",
       "    }\n",
       "\n",
       "    .dataframe thead th {\n",
       "        text-align: right;\n",
       "    }\n",
       "</style>\n",
       "<table border=\"1\" class=\"dataframe\">\n",
       "  <thead>\n",
       "    <tr style=\"text-align: right;\">\n",
       "      <th></th>\n",
       "      <th>HORA</th>\n",
       "      <th>SENTIDO</th>\n",
       "      <th>Coordenadas</th>\n",
       "      <th>Egreso</th>\n",
       "      <th>Ingreso</th>\n",
       "      <th>Fecha</th>\n",
       "      <th>Hora</th>\n",
       "      <th>dia_semana</th>\n",
       "      <th>fecha_habil</th>\n",
       "      <th>Cantidad</th>\n",
       "    </tr>\n",
       "  </thead>\n",
       "  <tbody>\n",
       "    <tr>\n",
       "      <th>56500</th>\n",
       "      <td>2021-06-13 08:00:00</td>\n",
       "      <td>Ingreso</td>\n",
       "      <td>Retiro</td>\n",
       "      <td>0</td>\n",
       "      <td>1</td>\n",
       "      <td>2021-06-13</td>\n",
       "      <td>08</td>\n",
       "      <td>domingo</td>\n",
       "      <td>0</td>\n",
       "      <td>361</td>\n",
       "    </tr>\n",
       "    <tr>\n",
       "      <th>68119</th>\n",
       "      <td>2021-08-29 11:00:00</td>\n",
       "      <td>Egreso</td>\n",
       "      <td>Retiro</td>\n",
       "      <td>1</td>\n",
       "      <td>0</td>\n",
       "      <td>2021-08-29</td>\n",
       "      <td>11</td>\n",
       "      <td>domingo</td>\n",
       "      <td>0</td>\n",
       "      <td>2489</td>\n",
       "    </tr>\n",
       "    <tr>\n",
       "      <th>68118</th>\n",
       "      <td>2021-08-29 10:00:00</td>\n",
       "      <td>Ingreso</td>\n",
       "      <td>Retiro</td>\n",
       "      <td>0</td>\n",
       "      <td>1</td>\n",
       "      <td>2021-08-29</td>\n",
       "      <td>10</td>\n",
       "      <td>domingo</td>\n",
       "      <td>0</td>\n",
       "      <td>997</td>\n",
       "    </tr>\n",
       "    <tr>\n",
       "      <th>68117</th>\n",
       "      <td>2021-08-29 10:00:00</td>\n",
       "      <td>Egreso</td>\n",
       "      <td>Retiro</td>\n",
       "      <td>1</td>\n",
       "      <td>0</td>\n",
       "      <td>2021-08-29</td>\n",
       "      <td>10</td>\n",
       "      <td>domingo</td>\n",
       "      <td>0</td>\n",
       "      <td>1717</td>\n",
       "    </tr>\n",
       "    <tr>\n",
       "      <th>68116</th>\n",
       "      <td>2021-08-29 09:00:00</td>\n",
       "      <td>Ingreso</td>\n",
       "      <td>Retiro</td>\n",
       "      <td>0</td>\n",
       "      <td>1</td>\n",
       "      <td>2021-08-29</td>\n",
       "      <td>09</td>\n",
       "      <td>domingo</td>\n",
       "      <td>0</td>\n",
       "      <td>741</td>\n",
       "    </tr>\n",
       "  </tbody>\n",
       "</table>\n",
       "</div>"
      ],
      "text/plain": [
       "                      HORA  SENTIDO Coordenadas  Egreso  Ingreso      Fecha  \\\n",
       "56500  2021-06-13 08:00:00  Ingreso      Retiro       0        1 2021-06-13   \n",
       "68119  2021-08-29 11:00:00   Egreso      Retiro       1        0 2021-08-29   \n",
       "68118  2021-08-29 10:00:00  Ingreso      Retiro       0        1 2021-08-29   \n",
       "68117  2021-08-29 10:00:00   Egreso      Retiro       1        0 2021-08-29   \n",
       "68116  2021-08-29 09:00:00  Ingreso      Retiro       0        1 2021-08-29   \n",
       "\n",
       "      Hora dia_semana  fecha_habil  Cantidad  \n",
       "56500   08    domingo            0       361  \n",
       "68119   11    domingo            0      2489  \n",
       "68118   10    domingo            0       997  \n",
       "68117   10    domingo            0      1717  \n",
       "68116   09    domingo            0       741  "
      ]
     },
     "execution_count": 63,
     "metadata": {},
     "output_type": "execute_result"
    }
   ],
   "source": [
    "ds_rich.head() # Chequeo visual"
   ]
  },
  {
   "cell_type": "code",
   "execution_count": 64,
   "metadata": {
    "id": "lgCHlUTbFTk4"
   },
   "outputs": [],
   "source": [
    "dummies = pd.get_dummies(ds_rich['dia_semana'])\n",
    "ds_rich = pd.concat([ds_rich,dummies],axis = 1)"
   ]
  },
  {
   "cell_type": "code",
   "execution_count": 65,
   "metadata": {
    "id": "D1TBNFtcGhwn"
   },
   "outputs": [],
   "source": [
    "ds_final = ds_rich.copy(deep=True)"
   ]
  },
  {
   "cell_type": "code",
   "execution_count": 66,
   "metadata": {
    "id": "JBNHa-aAfjf6"
   },
   "outputs": [],
   "source": [
    "ds_rich.rename(columns={'Coordenadas': 'Sensor','dia_semana':'Dia', 'fecha_habil':'Habil'}, inplace=True) # Estandarizamos el nombre de los campos"
   ]
  },
  {
   "cell_type": "code",
   "execution_count": 67,
   "metadata": {
    "id": "9WcWBvqkggES"
   },
   "outputs": [],
   "source": [
    "ds_rich.reset_index(drop=True, inplace=True) # Reiniciamos índice por las dudas"
   ]
  },
  {
   "cell_type": "code",
   "execution_count": 68,
   "metadata": {
    "colab": {
     "base_uri": "https://localhost:8080/"
    },
    "executionInfo": {
     "elapsed": 56,
     "status": "ok",
     "timestamp": 1637273485194,
     "user": {
      "displayName": "Javier Laudadío",
      "photoUrl": "https://lh3.googleusercontent.com/a/default-user=s64",
      "userId": "07494710345697859273"
     },
     "user_tz": 180
    },
    "id": "Nt780xCpgpVe",
    "outputId": "75f4dc84-43c8-4f48-c884-46cb90d603c9"
   },
   "outputs": [
    {
     "name": "stdout",
     "output_type": "stream",
     "text": [
      "Filas: 67,259 \n",
      "Columnas: 17\n"
     ]
    }
   ],
   "source": [
    "filas_rich = np.shape(ds_rich)[0]\n",
    "columnas_rich = np.shape(ds_rich)[1]\n",
    "print('Filas: {:,.0f}'.format(filas_rich), f'\\nColumnas: {columnas_rich}' ) # Dimensión actual del dataset"
   ]
  },
  {
   "cell_type": "code",
   "execution_count": 69,
   "metadata": {
    "colab": {
     "base_uri": "https://localhost:8080/",
     "height": 399
    },
    "executionInfo": {
     "elapsed": 51,
     "status": "ok",
     "timestamp": 1637273485195,
     "user": {
      "displayName": "Javier Laudadío",
      "photoUrl": "https://lh3.googleusercontent.com/a/default-user=s64",
      "userId": "07494710345697859273"
     },
     "user_tz": 180
    },
    "id": "cLCwqSe8xFQZ",
    "outputId": "5dbad8f3-353e-432f-b769-9252d595bd0d"
   },
   "outputs": [
    {
     "data": {
      "text/html": [
       "<div>\n",
       "<style scoped>\n",
       "    .dataframe tbody tr th:only-of-type {\n",
       "        vertical-align: middle;\n",
       "    }\n",
       "\n",
       "    .dataframe tbody tr th {\n",
       "        vertical-align: top;\n",
       "    }\n",
       "\n",
       "    .dataframe thead th {\n",
       "        text-align: right;\n",
       "    }\n",
       "</style>\n",
       "<table border=\"1\" class=\"dataframe\">\n",
       "  <thead>\n",
       "    <tr style=\"text-align: right;\">\n",
       "      <th></th>\n",
       "      <th>HORA</th>\n",
       "      <th>SENTIDO</th>\n",
       "      <th>Sensor</th>\n",
       "      <th>Egreso</th>\n",
       "      <th>Ingreso</th>\n",
       "      <th>Fecha</th>\n",
       "      <th>Hora</th>\n",
       "      <th>Dia</th>\n",
       "      <th>Habil</th>\n",
       "      <th>Cantidad</th>\n",
       "      <th>domingo</th>\n",
       "      <th>jueves</th>\n",
       "      <th>lunes</th>\n",
       "      <th>martes</th>\n",
       "      <th>miercoles</th>\n",
       "      <th>sabado</th>\n",
       "      <th>viernes</th>\n",
       "    </tr>\n",
       "  </thead>\n",
       "  <tbody>\n",
       "    <tr>\n",
       "      <th>0</th>\n",
       "      <td>2021-06-13 08:00:00</td>\n",
       "      <td>Ingreso</td>\n",
       "      <td>Retiro</td>\n",
       "      <td>0</td>\n",
       "      <td>1</td>\n",
       "      <td>2021-06-13</td>\n",
       "      <td>08</td>\n",
       "      <td>domingo</td>\n",
       "      <td>0</td>\n",
       "      <td>361</td>\n",
       "      <td>1</td>\n",
       "      <td>0</td>\n",
       "      <td>0</td>\n",
       "      <td>0</td>\n",
       "      <td>0</td>\n",
       "      <td>0</td>\n",
       "      <td>0</td>\n",
       "    </tr>\n",
       "    <tr>\n",
       "      <th>1</th>\n",
       "      <td>2021-08-29 11:00:00</td>\n",
       "      <td>Egreso</td>\n",
       "      <td>Retiro</td>\n",
       "      <td>1</td>\n",
       "      <td>0</td>\n",
       "      <td>2021-08-29</td>\n",
       "      <td>11</td>\n",
       "      <td>domingo</td>\n",
       "      <td>0</td>\n",
       "      <td>2489</td>\n",
       "      <td>1</td>\n",
       "      <td>0</td>\n",
       "      <td>0</td>\n",
       "      <td>0</td>\n",
       "      <td>0</td>\n",
       "      <td>0</td>\n",
       "      <td>0</td>\n",
       "    </tr>\n",
       "    <tr>\n",
       "      <th>2</th>\n",
       "      <td>2021-08-29 10:00:00</td>\n",
       "      <td>Ingreso</td>\n",
       "      <td>Retiro</td>\n",
       "      <td>0</td>\n",
       "      <td>1</td>\n",
       "      <td>2021-08-29</td>\n",
       "      <td>10</td>\n",
       "      <td>domingo</td>\n",
       "      <td>0</td>\n",
       "      <td>997</td>\n",
       "      <td>1</td>\n",
       "      <td>0</td>\n",
       "      <td>0</td>\n",
       "      <td>0</td>\n",
       "      <td>0</td>\n",
       "      <td>0</td>\n",
       "      <td>0</td>\n",
       "    </tr>\n",
       "    <tr>\n",
       "      <th>3</th>\n",
       "      <td>2021-08-29 10:00:00</td>\n",
       "      <td>Egreso</td>\n",
       "      <td>Retiro</td>\n",
       "      <td>1</td>\n",
       "      <td>0</td>\n",
       "      <td>2021-08-29</td>\n",
       "      <td>10</td>\n",
       "      <td>domingo</td>\n",
       "      <td>0</td>\n",
       "      <td>1717</td>\n",
       "      <td>1</td>\n",
       "      <td>0</td>\n",
       "      <td>0</td>\n",
       "      <td>0</td>\n",
       "      <td>0</td>\n",
       "      <td>0</td>\n",
       "      <td>0</td>\n",
       "    </tr>\n",
       "    <tr>\n",
       "      <th>4</th>\n",
       "      <td>2021-08-29 09:00:00</td>\n",
       "      <td>Ingreso</td>\n",
       "      <td>Retiro</td>\n",
       "      <td>0</td>\n",
       "      <td>1</td>\n",
       "      <td>2021-08-29</td>\n",
       "      <td>09</td>\n",
       "      <td>domingo</td>\n",
       "      <td>0</td>\n",
       "      <td>741</td>\n",
       "      <td>1</td>\n",
       "      <td>0</td>\n",
       "      <td>0</td>\n",
       "      <td>0</td>\n",
       "      <td>0</td>\n",
       "      <td>0</td>\n",
       "      <td>0</td>\n",
       "    </tr>\n",
       "  </tbody>\n",
       "</table>\n",
       "</div>"
      ],
      "text/plain": [
       "                  HORA  SENTIDO  Sensor  Egreso  Ingreso      Fecha Hora  \\\n",
       "0  2021-06-13 08:00:00  Ingreso  Retiro       0        1 2021-06-13   08   \n",
       "1  2021-08-29 11:00:00   Egreso  Retiro       1        0 2021-08-29   11   \n",
       "2  2021-08-29 10:00:00  Ingreso  Retiro       0        1 2021-08-29   10   \n",
       "3  2021-08-29 10:00:00   Egreso  Retiro       1        0 2021-08-29   10   \n",
       "4  2021-08-29 09:00:00  Ingreso  Retiro       0        1 2021-08-29   09   \n",
       "\n",
       "       Dia  Habil  Cantidad  domingo  jueves  lunes  martes  miercoles  \\\n",
       "0  domingo      0       361        1       0      0       0          0   \n",
       "1  domingo      0      2489        1       0      0       0          0   \n",
       "2  domingo      0       997        1       0      0       0          0   \n",
       "3  domingo      0      1717        1       0      0       0          0   \n",
       "4  domingo      0       741        1       0      0       0          0   \n",
       "\n",
       "   sabado  viernes  \n",
       "0       0        0  \n",
       "1       0        0  \n",
       "2       0        0  \n",
       "3       0        0  \n",
       "4       0        0  "
      ]
     },
     "execution_count": 69,
     "metadata": {},
     "output_type": "execute_result"
    }
   ],
   "source": [
    "ds_rich.head()"
   ]
  },
  {
   "cell_type": "code",
   "execution_count": 70,
   "metadata": {
    "id": "DgsKCfdXfVmW"
   },
   "outputs": [],
   "source": [
    "# Hacemos algunas visualizaciones para entender mejor los datos"
   ]
  },
  {
   "cell_type": "code",
   "execution_count": 71,
   "metadata": {
    "colab": {
     "base_uri": "https://localhost:8080/",
     "height": 301
    },
    "executionInfo": {
     "elapsed": 905,
     "status": "ok",
     "timestamp": 1637273486446,
     "user": {
      "displayName": "Javier Laudadío",
      "photoUrl": "https://lh3.googleusercontent.com/a/default-user=s64",
      "userId": "07494710345697859273"
     },
     "user_tz": 180
    },
    "id": "neOpOvSLfbX1",
    "outputId": "68e3cf1a-a211-4caf-bf81-ac95e42b905e"
   },
   "outputs": [
    {
     "data": {
      "image/png": "[encoded data removed]",
      "text/plain": [
       "<Figure size 1440x504 with 1 Axes>"
      ]
     },
     "metadata": {
      "needs_background": "light"
     },
     "output_type": "display_data"
    }
   ],
   "source": [
    "plt.figure(figsize=(20, 7))\n",
    "sns.set_context(\"paper\")\n",
    "sns.lineplot(data=ds_rich, y='Cantidad', x='Fecha', ci=None, estimator=sum)\n",
    "plt.xlabel(\"Fecha\", size=8)\n",
    "plt.xticks(rotation=45)\n",
    "plt.ylabel(\"Cantidad\", size=10)\n",
    "plt.title('Cantidad de Vehiculos', size=20)\n",
    "plt.subplots_adjust(bottom=0.275)\n",
    "plt.show()"
   ]
  },
  {
   "cell_type": "code",
   "execution_count": 72,
   "metadata": {
    "id": "NLvPRVaxjJUC"
   },
   "outputs": [],
   "source": [
    "# Para evitar el ruido, creamos un ds para los días habiles solamente\n",
    "ds_habiles = ds_rich.copy(deep=True)"
   ]
  },
  {
   "cell_type": "code",
   "execution_count": 73,
   "metadata": {
    "id": "GrpGskbxkS_D"
   },
   "outputs": [],
   "source": [
    "ds_habiles.drop(ds_habiles[ds_habiles.Habil == 0].index, inplace=True) # Eliminamos los findes y feriados"
   ]
  },
  {
   "cell_type": "code",
   "execution_count": 74,
   "metadata": {
    "colab": {
     "base_uri": "https://localhost:8080/",
     "height": 399
    },
    "executionInfo": {
     "elapsed": 15,
     "status": "ok",
     "timestamp": 1637273486449,
     "user": {
      "displayName": "Javier Laudadío",
      "photoUrl": "https://lh3.googleusercontent.com/a/default-user=s64",
      "userId": "07494710345697859273"
     },
     "user_tz": 180
    },
    "id": "P9-syz22lCdN",
    "outputId": "95317840-ec6e-4b42-c73f-ea7818397caa"
   },
   "outputs": [
    {
     "data": {
      "text/html": [
       "<div>\n",
       "<style scoped>\n",
       "    .dataframe tbody tr th:only-of-type {\n",
       "        vertical-align: middle;\n",
       "    }\n",
       "\n",
       "    .dataframe tbody tr th {\n",
       "        vertical-align: top;\n",
       "    }\n",
       "\n",
       "    .dataframe thead th {\n",
       "        text-align: right;\n",
       "    }\n",
       "</style>\n",
       "<table border=\"1\" class=\"dataframe\">\n",
       "  <thead>\n",
       "    <tr style=\"text-align: right;\">\n",
       "      <th></th>\n",
       "      <th>HORA</th>\n",
       "      <th>SENTIDO</th>\n",
       "      <th>Sensor</th>\n",
       "      <th>Egreso</th>\n",
       "      <th>Ingreso</th>\n",
       "      <th>Fecha</th>\n",
       "      <th>Hora</th>\n",
       "      <th>Dia</th>\n",
       "      <th>Habil</th>\n",
       "      <th>Cantidad</th>\n",
       "      <th>domingo</th>\n",
       "      <th>jueves</th>\n",
       "      <th>lunes</th>\n",
       "      <th>martes</th>\n",
       "      <th>miercoles</th>\n",
       "      <th>sabado</th>\n",
       "      <th>viernes</th>\n",
       "    </tr>\n",
       "  </thead>\n",
       "  <tbody>\n",
       "    <tr>\n",
       "      <th>9467</th>\n",
       "      <td>2020-10-26 20:00:00</td>\n",
       "      <td>Ingreso</td>\n",
       "      <td>Flores</td>\n",
       "      <td>0</td>\n",
       "      <td>1</td>\n",
       "      <td>2020-10-26</td>\n",
       "      <td>20</td>\n",
       "      <td>lunes</td>\n",
       "      <td>1</td>\n",
       "      <td>2121</td>\n",
       "      <td>0</td>\n",
       "      <td>0</td>\n",
       "      <td>1</td>\n",
       "      <td>0</td>\n",
       "      <td>0</td>\n",
       "      <td>0</td>\n",
       "      <td>0</td>\n",
       "    </tr>\n",
       "    <tr>\n",
       "      <th>9468</th>\n",
       "      <td>2020-12-21 13:00:00</td>\n",
       "      <td>Ingreso</td>\n",
       "      <td>Flores</td>\n",
       "      <td>0</td>\n",
       "      <td>1</td>\n",
       "      <td>2020-12-21</td>\n",
       "      <td>13</td>\n",
       "      <td>lunes</td>\n",
       "      <td>1</td>\n",
       "      <td>8228</td>\n",
       "      <td>0</td>\n",
       "      <td>0</td>\n",
       "      <td>1</td>\n",
       "      <td>0</td>\n",
       "      <td>0</td>\n",
       "      <td>0</td>\n",
       "      <td>0</td>\n",
       "    </tr>\n",
       "    <tr>\n",
       "      <th>9469</th>\n",
       "      <td>2020-10-26 16:00:00</td>\n",
       "      <td>Egreso</td>\n",
       "      <td>Flores</td>\n",
       "      <td>1</td>\n",
       "      <td>0</td>\n",
       "      <td>2020-10-26</td>\n",
       "      <td>16</td>\n",
       "      <td>lunes</td>\n",
       "      <td>1</td>\n",
       "      <td>6367</td>\n",
       "      <td>0</td>\n",
       "      <td>0</td>\n",
       "      <td>1</td>\n",
       "      <td>0</td>\n",
       "      <td>0</td>\n",
       "      <td>0</td>\n",
       "      <td>0</td>\n",
       "    </tr>\n",
       "    <tr>\n",
       "      <th>9470</th>\n",
       "      <td>2020-10-26 21:00:00</td>\n",
       "      <td>Ingreso</td>\n",
       "      <td>Flores</td>\n",
       "      <td>0</td>\n",
       "      <td>1</td>\n",
       "      <td>2020-10-26</td>\n",
       "      <td>21</td>\n",
       "      <td>lunes</td>\n",
       "      <td>1</td>\n",
       "      <td>1495</td>\n",
       "      <td>0</td>\n",
       "      <td>0</td>\n",
       "      <td>1</td>\n",
       "      <td>0</td>\n",
       "      <td>0</td>\n",
       "      <td>0</td>\n",
       "      <td>0</td>\n",
       "    </tr>\n",
       "    <tr>\n",
       "      <th>9471</th>\n",
       "      <td>2020-12-21 04:00:00</td>\n",
       "      <td>Ingreso</td>\n",
       "      <td>Flores</td>\n",
       "      <td>0</td>\n",
       "      <td>1</td>\n",
       "      <td>2020-12-21</td>\n",
       "      <td>04</td>\n",
       "      <td>lunes</td>\n",
       "      <td>1</td>\n",
       "      <td>1112</td>\n",
       "      <td>0</td>\n",
       "      <td>0</td>\n",
       "      <td>1</td>\n",
       "      <td>0</td>\n",
       "      <td>0</td>\n",
       "      <td>0</td>\n",
       "      <td>0</td>\n",
       "    </tr>\n",
       "  </tbody>\n",
       "</table>\n",
       "</div>"
      ],
      "text/plain": [
       "                     HORA  SENTIDO  Sensor  Egreso  Ingreso      Fecha Hora  \\\n",
       "9467  2020-10-26 20:00:00  Ingreso  Flores       0        1 2020-10-26   20   \n",
       "9468  2020-12-21 13:00:00  Ingreso  Flores       0        1 2020-12-21   13   \n",
       "9469  2020-10-26 16:00:00   Egreso  Flores       1        0 2020-10-26   16   \n",
       "9470  2020-10-26 21:00:00  Ingreso  Flores       0        1 2020-10-26   21   \n",
       "9471  2020-12-21 04:00:00  Ingreso  Flores       0        1 2020-12-21   04   \n",
       "\n",
       "        Dia  Habil  Cantidad  domingo  jueves  lunes  martes  miercoles  \\\n",
       "9467  lunes      1      2121        0       0      1       0          0   \n",
       "9468  lunes      1      8228        0       0      1       0          0   \n",
       "9469  lunes      1      6367        0       0      1       0          0   \n",
       "9470  lunes      1      1495        0       0      1       0          0   \n",
       "9471  lunes      1      1112        0       0      1       0          0   \n",
       "\n",
       "      sabado  viernes  \n",
       "9467       0        0  \n",
       "9468       0        0  \n",
       "9469       0        0  \n",
       "9470       0        0  \n",
       "9471       0        0  "
      ]
     },
     "execution_count": 74,
     "metadata": {},
     "output_type": "execute_result"
    }
   ],
   "source": [
    "ds_habiles.head() # ChV"
   ]
  },
  {
   "cell_type": "code",
   "execution_count": 75,
   "metadata": {
    "id": "6yX-0Q2QmyFQ"
   },
   "outputs": [],
   "source": [
    "ds_habiles = ds_habiles.groupby(['Fecha'], as_index=False).sum() # Agrupamos y sumamos para obtener la cantidad total por fecha"
   ]
  },
  {
   "cell_type": "code",
   "execution_count": 76,
   "metadata": {
    "colab": {
     "base_uri": "https://localhost:8080/",
     "height": 325
    },
    "executionInfo": {
     "elapsed": 775,
     "status": "ok",
     "timestamp": 1637273487213,
     "user": {
      "displayName": "Javier Laudadío",
      "photoUrl": "https://lh3.googleusercontent.com/a/default-user=s64",
      "userId": "07494710345697859273"
     },
     "user_tz": 180
    },
    "id": "xXHCRqillWky",
    "outputId": "7543b70b-cc1b-4f30-e38a-7bb901a89224"
   },
   "outputs": [
    {
     "data": {
      "image/png": "[encoded data removed]",
      "text/plain": [
       "<Figure size 1440x504 with 1 Axes>"
      ]
     },
     "metadata": {
      "needs_background": "light"
     },
     "output_type": "display_data"
    }
   ],
   "source": [
    "plt.figure(figsize=(20, 7))\n",
    "sns.set_context(\"paper\")\n",
    "sns.lineplot(data=ds_habiles, y='Cantidad', x='Fecha')\n",
    "plt.xlabel(\"Fecha\", size=8)\n",
    "plt.xticks(rotation=45)\n",
    "plt.ylabel(\"Cantidad\", size=10)\n",
    "plt.title('Cantidad de Vehiculos', size=20)\n",
    "plt.subplots_adjust(bottom=0.275)\n",
    "plt.show()"
   ]
  },
  {
   "cell_type": "code",
   "execution_count": 77,
   "metadata": {
    "colab": {
     "base_uri": "https://localhost:8080/"
    },
    "executionInfo": {
     "elapsed": 29,
     "status": "ok",
     "timestamp": 1637273487214,
     "user": {
      "displayName": "Javier Laudadío",
      "photoUrl": "https://lh3.googleusercontent.com/a/default-user=s64",
      "userId": "07494710345697859273"
     },
     "user_tz": 180
    },
    "id": "S8vdA2A5l-lL",
    "outputId": "5bc0444c-e138-400b-8a79-b15c27dc3fed"
   },
   "outputs": [
    {
     "name": "stdout",
     "output_type": "stream",
     "text": [
      "368   2021-10-07\n",
      "Name: Fecha, dtype: datetime64[ns]\n",
      "177   2020-12-23\n",
      "Name: Fecha, dtype: datetime64[ns]\n"
     ]
    }
   ],
   "source": [
    "max_tot = ds_habiles['Cantidad'].max()\n",
    "min_tot = ds_habiles['Cantidad'].min()\n",
    "print(ds_habiles[ds_habiles['Cantidad']==max_tot]['Fecha'] )\n",
    "print(ds_habiles[ds_habiles['Cantidad']==min_tot]['Fecha'] ) # Comprobaciones para asegurarnos que estamos graficando la info correcta"
   ]
  },
  {
   "cell_type": "code",
   "execution_count": 79,
   "metadata": {
    "colab": {
     "base_uri": "https://localhost:8080/",
     "height": 309
    },
    "executionInfo": {
     "elapsed": 22,
     "status": "ok",
     "timestamp": 1637273487215,
     "user": {
      "displayName": "Javier Laudadío",
      "photoUrl": "https://lh3.googleusercontent.com/a/default-user=s64",
      "userId": "07494710345697859273"
     },
     "user_tz": 180
    },
    "id": "xeoMQ42DoDXv",
    "outputId": "e8af895c-b506-45ab-bc19-ca7b59a79a51",
    "scrolled": false
   },
   "outputs": [
    {
     "data": {
      "image/png": "[encoded data removed]",
      "text/plain": [
       "<Figure size 720x504 with 1 Axes>"
      ]
     },
     "metadata": {
      "needs_background": "light"
     },
     "output_type": "display_data"
    }
   ],
   "source": [
    "plt.figure(figsize=(10, 7))\n",
    "sns.set_context(\"paper\")\n",
    "sns.barplot(data=ds_rich, y='Cantidad', x='Dia', ci=None, estimator=sum)\n",
    "plt.xlabel(\"\", size=1)\n",
    "plt.xticks(rotation=45, size=15)\n",
    "plt.ylabel(\"Cantidad\", size=15)\n",
    "plt.title('Cantidad de Vehiculos', size=20)\n",
    "plt.subplots_adjust(bottom=0.275)\n",
    "plt.show() # Graficamos todos los vehiculos por día"
   ]
  },
  {
   "cell_type": "code",
   "execution_count": 80,
   "metadata": {
    "colab": {
     "base_uri": "https://localhost:8080/",
     "height": 307
    },
    "executionInfo": {
     "elapsed": 509,
     "status": "ok",
     "timestamp": 1637273487705,
     "user": {
      "displayName": "Javier Laudadío",
      "photoUrl": "https://lh3.googleusercontent.com/a/default-user=s64",
      "userId": "07494710345697859273"
     },
     "user_tz": 180
    },
    "id": "HGlp5J4VoJ4I",
    "outputId": "2490b6b6-eba7-4c78-cf7d-9a68a2de18fb"
   },
   "outputs": [
    {
     "data": {
      "image/png": "[encoded data removed]",
      "text/plain": [
       "<Figure size 720x504 with 1 Axes>"
      ]
     },
     "metadata": {
      "needs_background": "light"
     },
     "output_type": "display_data"
    }
   ],
   "source": [
    "plt.figure(figsize=(10, 7))\n",
    "sns.set_context(\"paper\")\n",
    "sns.barplot(data=ds_rich, y='Cantidad', x='Dia', ci=None)\n",
    "plt.xlabel(\"\", size=1)\n",
    "plt.xticks(rotation=45, size=15)\n",
    "plt.ylabel(\"Cantidad\", size=15)\n",
    "plt.title('Cantidad Media de Vehiculos', size=20)\n",
    "plt.subplots_adjust(bottom=0.275)\n",
    "plt.show()"
   ]
  },
  {
   "cell_type": "code",
   "execution_count": 81,
   "metadata": {
    "colab": {
     "base_uri": "https://localhost:8080/"
    },
    "executionInfo": {
     "elapsed": 39,
     "status": "ok",
     "timestamp": 1637273487706,
     "user": {
      "displayName": "Javier Laudadío",
      "photoUrl": "https://lh3.googleusercontent.com/a/default-user=s64",
      "userId": "07494710345697859273"
     },
     "user_tz": 180
    },
    "id": "HDg-Phm0tzV0",
    "outputId": "635478c6-c7b0-4019-cc02-df1cea0d0664"
   },
   "outputs": [
    {
     "data": {
      "text/plain": [
       "1148.1867539875357"
      ]
     },
     "execution_count": 81,
     "metadata": {},
     "output_type": "execute_result"
    }
   ],
   "source": [
    "ds_rich[ds_rich['Dia']=='viernes']['Cantidad'].mean()\n",
    "ds_rich[ds_rich['Dia']=='domingo']['Cantidad'].mean() # Chequeo los valores"
   ]
  },
  {
   "cell_type": "code",
   "execution_count": 82,
   "metadata": {
    "colab": {
     "base_uri": "https://localhost:8080/",
     "height": 287
    },
    "executionInfo": {
     "elapsed": 25,
     "status": "ok",
     "timestamp": 1637273487707,
     "user": {
      "displayName": "Javier Laudadío",
      "photoUrl": "https://lh3.googleusercontent.com/a/default-user=s64",
      "userId": "07494710345697859273"
     },
     "user_tz": 180
    },
    "id": "8aDaLFcxuvKy",
    "outputId": "b27f9b0f-d035-4304-84f6-b972aab29368"
   },
   "outputs": [
    {
     "data": {
      "image/png": "[encoded data removed]",
      "text/plain": [
       "<Figure size 720x504 with 1 Axes>"
      ]
     },
     "metadata": {
      "needs_background": "light"
     },
     "output_type": "display_data"
    }
   ],
   "source": [
    "# Ahora vemos esta info, pero separando entrada y salida\n",
    "plt.figure(figsize=(10, 7))\n",
    "sns.set_context(\"paper\")\n",
    "sns.barplot(data=ds_rich, y='Cantidad', x='Dia', ci=None, hue='SENTIDO') # hue separa por variable categorica, x eso tuve que mantener el campo SENTIDO\n",
    "plt.ylabel(\"Cantidad\", size=10)\n",
    "plt.xlabel(\"\", size=1)\n",
    "plt.yticks(size=10)\n",
    "plt.xticks(size=15)\n",
    "plt.title('Cantidad de Vehiculos', size=20)\n",
    "plt.subplots_adjust(bottom=0.275)\n",
    "plt.savefig('cantidad_vehiculos.png', dpi=300, bbox_inches='tight') #para exportar la imagen\n",
    "plt.show()\n"
   ]
  },
  {
   "cell_type": "code",
   "execution_count": 83,
   "metadata": {
    "colab": {
     "base_uri": "https://localhost:8080/",
     "height": 276
    },
    "executionInfo": {
     "elapsed": 881,
     "status": "ok",
     "timestamp": 1637273488566,
     "user": {
      "displayName": "Javier Laudadío",
      "photoUrl": "https://lh3.googleusercontent.com/a/default-user=s64",
      "userId": "07494710345697859273"
     },
     "user_tz": 180
    },
    "id": "1613FYpwvqfY",
    "outputId": "de61e399-d07f-4411-ffe7-7298eaa81533"
   },
   "outputs": [
    {
     "data": {
      "image/png": "[encoded data removed]",
      "text/plain": [
       "<Figure size 720x504 with 1 Axes>"
      ]
     },
     "metadata": {
      "needs_background": "light"
     },
     "output_type": "display_data"
    }
   ],
   "source": [
    "ds_rich.sort_values(by=['Hora'], inplace=True) # Ordeno para que el grafico salga con horario creciente\n",
    "plt.figure(figsize=(10, 7))\n",
    "sns.set_context(\"paper\")\n",
    "sns.barplot(data=ds_rich, y='Cantidad', x='Hora', ci=None, hue='SENTIDO')\n",
    "plt.xlabel(\"\", size=1)\n",
    "plt.xticks(rotation=45, size=15)\n",
    "plt.yticks(size=10)\n",
    "plt.ylabel(\"Cantidad\", size=15)\n",
    "plt.title('Distribución diaria de ingresos y egresos', size=20)\n",
    "plt.subplots_adjust(bottom=0.275)\n",
    "plt.savefig('distribucion_diaria.png', dpi=300, bbox_inches='tight') #para exportar la imagen\n",
    "plt.show()"
   ]
  },
  {
   "cell_type": "code",
   "execution_count": 84,
   "metadata": {
    "id": "-xXXqlCqwjHT"
   },
   "outputs": [],
   "source": [
    "# Este gráfico tiene sentido, si entendemos que la dinámica ingreso/egreso no es \"suma 0\"\n",
    "# Para esto, deberíamos tener muchos más sensores distribuidos de forma homogenea"
   ]
  },
  {
   "cell_type": "code",
   "execution_count": 85,
   "metadata": {
    "id": "tSJEgWJ_sI3V"
   },
   "outputs": [],
   "source": [
    "y =  ds_rich.Cantidad"
   ]
  },
  {
   "cell_type": "code",
   "execution_count": 86,
   "metadata": {
    "colab": {
     "base_uri": "https://localhost:8080/",
     "height": 335
    },
    "executionInfo": {
     "elapsed": 753,
     "status": "ok",
     "timestamp": 1637273489312,
     "user": {
      "displayName": "Javier Laudadío",
      "photoUrl": "https://lh3.googleusercontent.com/a/default-user=s64",
      "userId": "07494710345697859273"
     },
     "user_tz": 180
    },
    "id": "1qkx8x0BKuwd",
    "outputId": "cc1ae4fa-484f-441f-d21d-a63afdbbd716"
   },
   "outputs": [
    {
     "name": "stderr",
     "output_type": "stream",
     "text": [
      "C:\\Users\\sofip\\anaconda3\\lib\\site-packages\\seaborn\\distributions.py:2551: FutureWarning: `distplot` is a deprecated function and will be removed in a future version. Please adapt your code to use either `displot` (a figure-level function with similar flexibility) or `histplot` (an axes-level function for histograms).\n",
      "  warnings.warn(msg, FutureWarning)\n"
     ]
    },
    {
     "data": {
      "image/png": "[encoded data removed]",
      "text/plain": [
       "<Figure size 432x288 with 1 Axes>"
      ]
     },
     "metadata": {
      "needs_background": "light"
     },
     "output_type": "display_data"
    }
   ],
   "source": [
    "sns.distplot(y)\n",
    "plt.xlabel('Etiqueta (cantidad autos)')\n",
    "plt.show() # Vemos como se distribuyen las cantidades"
   ]
  },
  {
   "cell_type": "code",
   "execution_count": 87,
   "metadata": {
    "id": "aSy0rRbZLe1M"
   },
   "outputs": [],
   "source": [
    "cantidad_97 = ds_rich.Cantidad.quantile(0.97)\n",
    "ds_rich = ds_rich.loc[(ds_rich.Cantidad < cantidad_97)]"
   ]
  },
  {
   "cell_type": "code",
   "execution_count": 88,
   "metadata": {
    "colab": {
     "base_uri": "https://localhost:8080/"
    },
    "executionInfo": {
     "elapsed": 18,
     "status": "ok",
     "timestamp": 1637273489315,
     "user": {
      "displayName": "Javier Laudadío",
      "photoUrl": "https://lh3.googleusercontent.com/a/default-user=s64",
      "userId": "07494710345697859273"
     },
     "user_tz": 180
    },
    "id": "YcgIJF6QRy5Q",
    "outputId": "6bd66da8-3a3e-4fbf-f3ec-763f66f8edd6"
   },
   "outputs": [
    {
     "data": {
      "text/plain": [
       "7455"
      ]
     },
     "execution_count": 88,
     "metadata": {},
     "output_type": "execute_result"
    }
   ],
   "source": [
    "ds_rich.Cantidad.max()"
   ]
  },
  {
   "cell_type": "code",
   "execution_count": 89,
   "metadata": {
    "colab": {
     "base_uri": "https://localhost:8080/",
     "height": 335
    },
    "executionInfo": {
     "elapsed": 2850,
     "status": "ok",
     "timestamp": 1637273492155,
     "user": {
      "displayName": "Javier Laudadío",
      "photoUrl": "https://lh3.googleusercontent.com/a/default-user=s64",
      "userId": "07494710345697859273"
     },
     "user_tz": 180
    },
    "id": "U-pqbbE79dtj",
    "outputId": "27e28baa-e2e3-4501-ba7d-6c5b760be9c6"
   },
   "outputs": [
    {
     "name": "stderr",
     "output_type": "stream",
     "text": [
      "C:\\Users\\sofip\\anaconda3\\lib\\site-packages\\seaborn\\distributions.py:2551: FutureWarning: `distplot` is a deprecated function and will be removed in a future version. Please adapt your code to use either `displot` (a figure-level function with similar flexibility) or `histplot` (an axes-level function for histograms).\n",
      "  warnings.warn(msg, FutureWarning)\n"
     ]
    },
    {
     "data": {
      "image/png": "[encoded data removed]",
      "text/plain": [
       "<Figure size 432x288 with 1 Axes>"
      ]
     },
     "metadata": {
      "needs_background": "light"
     },
     "output_type": "display_data"
    }
   ],
   "source": [
    "sns.distplot(ds_rich.Cantidad, fit=gamma)\n",
    "plt.xlabel('Etiqueta (cantidad autos)')\n",
    "plt.show() # Vemos como se distribuyen las cantidades"
   ]
  },
  {
   "cell_type": "code",
   "execution_count": 90,
   "metadata": {
    "id": "0QgN_nEZ-THo"
   },
   "outputs": [
    {
     "data": {
      "image/png": "[encoded data removed]",
      "text/plain": [
       "<Figure size 720x360 with 2 Axes>"
      ]
     },
     "metadata": {
      "needs_background": "light"
     },
     "output_type": "display_data"
    }
   ],
   "source": [
    "corrmat = ds_rich.corr()\n",
    "plt.figure(figsize=(10,5))\n",
    "g = sns.heatmap(ds_rich.corr(),annot=True,cmap=\"RdYlGn\") #Vemos las correlaciones de nuestras features"
   ]
  },
  {
   "cell_type": "code",
   "execution_count": 91,
   "metadata": {
    "colab": {
     "base_uri": "https://localhost:8080/",
     "height": 206
    },
    "executionInfo": {
     "elapsed": 16,
     "status": "ok",
     "timestamp": 1637273492157,
     "user": {
      "displayName": "Javier Laudadío",
      "photoUrl": "https://lh3.googleusercontent.com/a/default-user=s64",
      "userId": "07494710345697859273"
     },
     "user_tz": 180
    },
    "id": "wLtUMKPGQGhk",
    "outputId": "fd3a3864-2ad9-4752-c332-5291450b8117"
   },
   "outputs": [
    {
     "data": {
      "text/html": [
       "<div>\n",
       "<style scoped>\n",
       "    .dataframe tbody tr th:only-of-type {\n",
       "        vertical-align: middle;\n",
       "    }\n",
       "\n",
       "    .dataframe tbody tr th {\n",
       "        vertical-align: top;\n",
       "    }\n",
       "\n",
       "    .dataframe thead th {\n",
       "        text-align: right;\n",
       "    }\n",
       "</style>\n",
       "<table border=\"1\" class=\"dataframe\">\n",
       "  <thead>\n",
       "    <tr style=\"text-align: right;\">\n",
       "      <th></th>\n",
       "      <th>Fecha</th>\n",
       "      <th>Egreso</th>\n",
       "      <th>Ingreso</th>\n",
       "      <th>Habil</th>\n",
       "      <th>Cantidad</th>\n",
       "      <th>domingo</th>\n",
       "      <th>jueves</th>\n",
       "      <th>lunes</th>\n",
       "      <th>martes</th>\n",
       "      <th>miercoles</th>\n",
       "      <th>sabado</th>\n",
       "      <th>viernes</th>\n",
       "    </tr>\n",
       "  </thead>\n",
       "  <tbody>\n",
       "    <tr>\n",
       "      <th>0</th>\n",
       "      <td>2020-04-01</td>\n",
       "      <td>72</td>\n",
       "      <td>48</td>\n",
       "      <td>120</td>\n",
       "      <td>154744</td>\n",
       "      <td>0</td>\n",
       "      <td>0</td>\n",
       "      <td>0</td>\n",
       "      <td>0</td>\n",
       "      <td>120</td>\n",
       "      <td>0</td>\n",
       "      <td>0</td>\n",
       "    </tr>\n",
       "    <tr>\n",
       "      <th>1</th>\n",
       "      <td>2020-04-02</td>\n",
       "      <td>72</td>\n",
       "      <td>48</td>\n",
       "      <td>120</td>\n",
       "      <td>154575</td>\n",
       "      <td>0</td>\n",
       "      <td>120</td>\n",
       "      <td>0</td>\n",
       "      <td>0</td>\n",
       "      <td>0</td>\n",
       "      <td>0</td>\n",
       "      <td>0</td>\n",
       "    </tr>\n",
       "    <tr>\n",
       "      <th>2</th>\n",
       "      <td>2020-04-03</td>\n",
       "      <td>72</td>\n",
       "      <td>48</td>\n",
       "      <td>120</td>\n",
       "      <td>163083</td>\n",
       "      <td>0</td>\n",
       "      <td>0</td>\n",
       "      <td>0</td>\n",
       "      <td>0</td>\n",
       "      <td>0</td>\n",
       "      <td>0</td>\n",
       "      <td>120</td>\n",
       "    </tr>\n",
       "    <tr>\n",
       "      <th>3</th>\n",
       "      <td>2020-04-06</td>\n",
       "      <td>72</td>\n",
       "      <td>48</td>\n",
       "      <td>120</td>\n",
       "      <td>159651</td>\n",
       "      <td>0</td>\n",
       "      <td>0</td>\n",
       "      <td>120</td>\n",
       "      <td>0</td>\n",
       "      <td>0</td>\n",
       "      <td>0</td>\n",
       "      <td>0</td>\n",
       "    </tr>\n",
       "    <tr>\n",
       "      <th>4</th>\n",
       "      <td>2020-04-07</td>\n",
       "      <td>72</td>\n",
       "      <td>48</td>\n",
       "      <td>120</td>\n",
       "      <td>170870</td>\n",
       "      <td>0</td>\n",
       "      <td>0</td>\n",
       "      <td>0</td>\n",
       "      <td>120</td>\n",
       "      <td>0</td>\n",
       "      <td>0</td>\n",
       "      <td>0</td>\n",
       "    </tr>\n",
       "  </tbody>\n",
       "</table>\n",
       "</div>"
      ],
      "text/plain": [
       "       Fecha  Egreso  Ingreso  Habil  Cantidad  domingo  jueves  lunes  \\\n",
       "0 2020-04-01      72       48    120    154744        0       0      0   \n",
       "1 2020-04-02      72       48    120    154575        0     120      0   \n",
       "2 2020-04-03      72       48    120    163083        0       0      0   \n",
       "3 2020-04-06      72       48    120    159651        0       0    120   \n",
       "4 2020-04-07      72       48    120    170870        0       0      0   \n",
       "\n",
       "   martes  miercoles  sabado  viernes  \n",
       "0       0        120       0        0  \n",
       "1       0          0       0        0  \n",
       "2       0          0       0      120  \n",
       "3       0          0       0        0  \n",
       "4     120          0       0        0  "
      ]
     },
     "execution_count": 91,
     "metadata": {},
     "output_type": "execute_result"
    }
   ],
   "source": [
    "ds_habiles.head()"
   ]
  },
  {
   "cell_type": "code",
   "execution_count": 92,
   "metadata": {
    "id": "dyu493aWL4r-"
   },
   "outputs": [],
   "source": [
    "ds_habiles['Cantidad_ma5'] = ds_habiles.rolling(on='Fecha', window=5, center=True)['Cantidad'].mean() # Hago una columna de media movil para intentar ver efectos de estacionalidad semanal, bi semanal, mensual\n",
    "ds_habiles['Cantidad_ma10'] = ds_habiles.rolling(on='Fecha', window=10, center=True)['Cantidad'].mean()\n",
    "ds_habiles['Cantidad_ma20'] = ds_habiles.rolling(on='Fecha', window=20, center=True)['Cantidad'].mean()\n"
   ]
  },
  {
   "cell_type": "code",
   "execution_count": null,
   "metadata": {
    "colab": {
     "base_uri": "https://localhost:8080/",
     "height": 556
    },
    "executionInfo": {
     "elapsed": 15,
     "status": "ok",
     "timestamp": 1637273492158,
     "user": {
      "displayName": "Javier Laudadío",
      "photoUrl": "https://lh3.googleusercontent.com/a/default-user=s64",
      "userId": "07494710345697859273"
     },
     "user_tz": 180
    },
    "id": "J6OPWYjNSTFm",
    "outputId": "3534662a-4bf8-4fdf-d1b3-260c1f6abd7e"
   },
   "outputs": [
    {
     "data": {
      "text/html": [
       "<div>\n",
       "<style scoped>\n",
       "    .dataframe tbody tr th:only-of-type {\n",
       "        vertical-align: middle;\n",
       "    }\n",
       "\n",
       "    .dataframe tbody tr th {\n",
       "        vertical-align: top;\n",
       "    }\n",
       "\n",
       "    .dataframe thead th {\n",
       "        text-align: right;\n",
       "    }\n",
       "</style>\n",
       "<table border=\"1\" class=\"dataframe\">\n",
       "  <thead>\n",
       "    <tr style=\"text-align: right;\">\n",
       "      <th></th>\n",
       "      <th>Fecha</th>\n",
       "      <th>Egreso</th>\n",
       "      <th>Ingreso</th>\n",
       "      <th>Habil</th>\n",
       "      <th>Cantidad</th>\n",
       "      <th>domingo</th>\n",
       "      <th>jueves</th>\n",
       "      <th>lunes</th>\n",
       "      <th>martes</th>\n",
       "      <th>miercoles</th>\n",
       "      <th>sabado</th>\n",
       "      <th>viernes</th>\n",
       "      <th>Cantidad_ma5</th>\n",
       "      <th>Cantidad_ma10</th>\n",
       "      <th>Cantidad_ma20</th>\n",
       "      <th>suave</th>\n",
       "    </tr>\n",
       "  </thead>\n",
       "  <tbody>\n",
       "    <tr>\n",
       "      <th>10</th>\n",
       "      <td>2020-04-17</td>\n",
       "      <td>72</td>\n",
       "      <td>48</td>\n",
       "      <td>120</td>\n",
       "      <td>228916</td>\n",
       "      <td>0</td>\n",
       "      <td>0</td>\n",
       "      <td>0</td>\n",
       "      <td>0</td>\n",
       "      <td>0</td>\n",
       "      <td>0</td>\n",
       "      <td>120</td>\n",
       "      <td>222830.0</td>\n",
       "      <td>218537.0</td>\n",
       "      <td>215696.95</td>\n",
       "      <td>219021.316667</td>\n",
       "    </tr>\n",
       "    <tr>\n",
       "      <th>11</th>\n",
       "      <td>2020-04-20</td>\n",
       "      <td>72</td>\n",
       "      <td>48</td>\n",
       "      <td>120</td>\n",
       "      <td>226690</td>\n",
       "      <td>0</td>\n",
       "      <td>0</td>\n",
       "      <td>120</td>\n",
       "      <td>0</td>\n",
       "      <td>0</td>\n",
       "      <td>0</td>\n",
       "      <td>0</td>\n",
       "      <td>229488.0</td>\n",
       "      <td>225899.6</td>\n",
       "      <td>221858.65</td>\n",
       "      <td>225748.750000</td>\n",
       "    </tr>\n",
       "    <tr>\n",
       "      <th>12</th>\n",
       "      <td>2020-04-21</td>\n",
       "      <td>72</td>\n",
       "      <td>48</td>\n",
       "      <td>120</td>\n",
       "      <td>231340</td>\n",
       "      <td>0</td>\n",
       "      <td>0</td>\n",
       "      <td>0</td>\n",
       "      <td>120</td>\n",
       "      <td>0</td>\n",
       "      <td>0</td>\n",
       "      <td>0</td>\n",
       "      <td>234801.0</td>\n",
       "      <td>231804.7</td>\n",
       "      <td>228318.40</td>\n",
       "      <td>231641.366667</td>\n",
       "    </tr>\n",
       "    <tr>\n",
       "      <th>13</th>\n",
       "      <td>2020-04-22</td>\n",
       "      <td>72</td>\n",
       "      <td>48</td>\n",
       "      <td>120</td>\n",
       "      <td>242835</td>\n",
       "      <td>0</td>\n",
       "      <td>0</td>\n",
       "      <td>0</td>\n",
       "      <td>0</td>\n",
       "      <td>120</td>\n",
       "      <td>0</td>\n",
       "      <td>0</td>\n",
       "      <td>240803.4</td>\n",
       "      <td>236049.6</td>\n",
       "      <td>234590.70</td>\n",
       "      <td>237147.900000</td>\n",
       "    </tr>\n",
       "    <tr>\n",
       "      <th>14</th>\n",
       "      <td>2020-04-23</td>\n",
       "      <td>72</td>\n",
       "      <td>48</td>\n",
       "      <td>120</td>\n",
       "      <td>244224</td>\n",
       "      <td>0</td>\n",
       "      <td>120</td>\n",
       "      <td>0</td>\n",
       "      <td>0</td>\n",
       "      <td>0</td>\n",
       "      <td>0</td>\n",
       "      <td>0</td>\n",
       "      <td>246220.6</td>\n",
       "      <td>243388.3</td>\n",
       "      <td>241572.90</td>\n",
       "      <td>243727.266667</td>\n",
       "    </tr>\n",
       "    <tr>\n",
       "      <th>15</th>\n",
       "      <td>2020-04-24</td>\n",
       "      <td>72</td>\n",
       "      <td>48</td>\n",
       "      <td>120</td>\n",
       "      <td>258928</td>\n",
       "      <td>0</td>\n",
       "      <td>0</td>\n",
       "      <td>0</td>\n",
       "      <td>0</td>\n",
       "      <td>0</td>\n",
       "      <td>0</td>\n",
       "      <td>120</td>\n",
       "      <td>249269.2</td>\n",
       "      <td>249965.1</td>\n",
       "      <td>248758.55</td>\n",
       "      <td>249330.950000</td>\n",
       "    </tr>\n",
       "    <tr>\n",
       "      <th>16</th>\n",
       "      <td>2020-04-27</td>\n",
       "      <td>72</td>\n",
       "      <td>48</td>\n",
       "      <td>120</td>\n",
       "      <td>253776</td>\n",
       "      <td>0</td>\n",
       "      <td>0</td>\n",
       "      <td>120</td>\n",
       "      <td>0</td>\n",
       "      <td>0</td>\n",
       "      <td>0</td>\n",
       "      <td>0</td>\n",
       "      <td>257288.6</td>\n",
       "      <td>254871.3</td>\n",
       "      <td>254717.85</td>\n",
       "      <td>255625.916667</td>\n",
       "    </tr>\n",
       "    <tr>\n",
       "      <th>17</th>\n",
       "      <td>2020-04-28</td>\n",
       "      <td>72</td>\n",
       "      <td>48</td>\n",
       "      <td>120</td>\n",
       "      <td>246583</td>\n",
       "      <td>0</td>\n",
       "      <td>0</td>\n",
       "      <td>0</td>\n",
       "      <td>120</td>\n",
       "      <td>0</td>\n",
       "      <td>0</td>\n",
       "      <td>0</td>\n",
       "      <td>265129.2</td>\n",
       "      <td>260579.3</td>\n",
       "      <td>260506.90</td>\n",
       "      <td>262071.800000</td>\n",
       "    </tr>\n",
       "    <tr>\n",
       "      <th>18</th>\n",
       "      <td>2020-04-29</td>\n",
       "      <td>72</td>\n",
       "      <td>48</td>\n",
       "      <td>120</td>\n",
       "      <td>282932</td>\n",
       "      <td>0</td>\n",
       "      <td>0</td>\n",
       "      <td>0</td>\n",
       "      <td>0</td>\n",
       "      <td>120</td>\n",
       "      <td>0</td>\n",
       "      <td>0</td>\n",
       "      <td>268939.2</td>\n",
       "      <td>266298.2</td>\n",
       "      <td>266302.20</td>\n",
       "      <td>267179.866667</td>\n",
       "    </tr>\n",
       "    <tr>\n",
       "      <th>19</th>\n",
       "      <td>2020-04-30</td>\n",
       "      <td>72</td>\n",
       "      <td>48</td>\n",
       "      <td>120</td>\n",
       "      <td>283427</td>\n",
       "      <td>0</td>\n",
       "      <td>120</td>\n",
       "      <td>0</td>\n",
       "      <td>0</td>\n",
       "      <td>0</td>\n",
       "      <td>0</td>\n",
       "      <td>0</td>\n",
       "      <td>274938.0</td>\n",
       "      <td>271944.2</td>\n",
       "      <td>272133.35</td>\n",
       "      <td>273005.183333</td>\n",
       "    </tr>\n",
       "  </tbody>\n",
       "</table>\n",
       "</div>"
      ],
      "text/plain": [
       "        Fecha  Egreso  Ingreso  ...  Cantidad_ma10  Cantidad_ma20          suave\n",
       "10 2020-04-17      72       48  ...       218537.0      215696.95  219021.316667\n",
       "11 2020-04-20      72       48  ...       225899.6      221858.65  225748.750000\n",
       "12 2020-04-21      72       48  ...       231804.7      228318.40  231641.366667\n",
       "13 2020-04-22      72       48  ...       236049.6      234590.70  237147.900000\n",
       "14 2020-04-23      72       48  ...       243388.3      241572.90  243727.266667\n",
       "15 2020-04-24      72       48  ...       249965.1      248758.55  249330.950000\n",
       "16 2020-04-27      72       48  ...       254871.3      254717.85  255625.916667\n",
       "17 2020-04-28      72       48  ...       260579.3      260506.90  262071.800000\n",
       "18 2020-04-29      72       48  ...       266298.2      266302.20  267179.866667\n",
       "19 2020-04-30      72       48  ...       271944.2      272133.35  273005.183333\n",
       "\n",
       "[10 rows x 16 columns]"
      ]
     },
     "execution_count": 202,
     "metadata": {},
     "output_type": "execute_result"
    }
   ],
   "source": [
    "ds_habiles.dropna(subset=[\"Cantidad_ma20\"],inplace=True) # Para quietar los valores que no tienen media movil\n",
    "ds_habiles['suave'] = (ds_habiles['Cantidad_ma5'] + ds_habiles['Cantidad_ma10'] + ds_habiles['Cantidad_ma20'])/3 # simple curva \"promedio\" de las ma anteriores para suavizar\n",
    "ds_habiles.head(10)"
   ]
  },
  {
   "cell_type": "code",
   "execution_count": null,
   "metadata": {
    "colab": {
     "base_uri": "https://localhost:8080/",
     "height": 325
    },
    "executionInfo": {
     "elapsed": 940,
     "status": "ok",
     "timestamp": 1637273493086,
     "user": {
      "displayName": "Javier Laudadío",
      "photoUrl": "https://lh3.googleusercontent.com/a/default-user=s64",
      "userId": "07494710345697859273"
     },
     "user_tz": 180
    },
    "id": "r9w0_1shLVyf",
    "outputId": "4e32be54-30f9-4775-c0e9-988159d1ab67"
   },
   "outputs": [
    {
     "data": {
      "image/png": "[encoded data removed]",
      "text/plain": [
       "<Figure size 1440x504 with 1 Axes>"
      ]
     },
     "metadata": {},
     "output_type": "display_data"
    }
   ],
   "source": [
    "plt.figure(figsize=(20, 7))\n",
    "sns.set_context(\"paper\")\n",
    "sns.set_theme()\n",
    "linewidth = 1.5\n",
    "sns.lineplot(data=ds_habiles, y='Cantidad', x='Fecha',linewidth = 0.5)\n",
    "# sns.lineplot(data=ds_habiles, y='Cantidad_ma5', x='Fecha', linewidth = 2)\n",
    "sns.lineplot(data=ds_habiles, y='Cantidad_ma10', x='Fecha',linewidth = 2)\n",
    "sns.lineplot(data=ds_habiles, y='Cantidad_ma20', x='Fecha', linewidth = 2)\n",
    "sns.lineplot(data=ds_habiles, y=ds_habiles.rolling(on='Fecha', window=40, center=True)['Cantidad'].mean(), x='Fecha', linewidth = 2.5, color='yellow', legend='auto')\n",
    "plt.legend(['Cantidad', 'ma_5', 'ma_10', 'ma_20', 'suave'], fontsize='15')\n",
    "\n",
    "# plt.xlabel(\"Fecha\", size=8)\n",
    "# plt.xticks(rotation=45)\n",
    "# plt.ylabel(\"Cantidad\", size=10)\n",
    "# plt.title('Cantidad de Vehiculos', size=20)\n",
    "# plt.subplots_adjust(bottom=0.275)\n",
    "plt.show()"
   ]
  },
  {
   "cell_type": "code",
   "execution_count": null,
   "metadata": {
    "id": "g_xaj24K4ZTZ"
   },
   "outputs": [],
   "source": [
    "# Se nos presenta el desafio de modelizar con datos muy atípicos; desde que empieza la cuarentena, notandose el recupero gradual,\n",
    "#  viendo importantes disrupciones por medidas gubernamentales de alcance muy puntual y acotado en el timepo."
   ]
  },
  {
   "cell_type": "code",
   "execution_count": null,
   "metadata": {
    "id": "lH9Crw7Y4zKN"
   },
   "outputs": [],
   "source": [
    "# Luego de experimentar con algunas visualizaciones, y por la naturaleza de las fluctuaciones, se propone modificar el dataset:\n",
    "#  >> Se desestiman los datos anteriores a agosto 2020\n",
    "#  >> Por lo atipico de las fiestas de 2020, se reemplazan los valores de cantidad por media movil centrada de 20 dias habiles (4 semanas)\n",
    "#  >> Para las anomalías de junio 2021 (recrudecimiento de la cuarentena), los valores de mmc de 40 días hábiles (8 semanas)"
   ]
  },
  {
   "cell_type": "code",
   "execution_count": null,
   "metadata": {
    "colab": {
     "base_uri": "https://localhost:8080/",
     "height": 399
    },
    "executionInfo": {
     "elapsed": 615,
     "status": "ok",
     "timestamp": 1637273493687,
     "user": {
      "displayName": "Javier Laudadío",
      "photoUrl": "https://lh3.googleusercontent.com/a/default-user=s64",
      "userId": "07494710345697859273"
     },
     "user_tz": 180
    },
    "id": "UJIlhHlHsAvD",
    "outputId": "ec2d4d57-cc16-43ae-998f-79d77ce7b1a4"
   },
   "outputs": [
    {
     "data": {
      "text/html": [
       "<div>\n",
       "<style scoped>\n",
       "    .dataframe tbody tr th:only-of-type {\n",
       "        vertical-align: middle;\n",
       "    }\n",
       "\n",
       "    .dataframe tbody tr th {\n",
       "        vertical-align: top;\n",
       "    }\n",
       "\n",
       "    .dataframe thead th {\n",
       "        text-align: right;\n",
       "    }\n",
       "</style>\n",
       "<table border=\"1\" class=\"dataframe\">\n",
       "  <thead>\n",
       "    <tr style=\"text-align: right;\">\n",
       "      <th></th>\n",
       "      <th>HORA</th>\n",
       "      <th>Coordenadas</th>\n",
       "      <th>Egreso</th>\n",
       "      <th>Ingreso</th>\n",
       "      <th>Fecha</th>\n",
       "      <th>Hora</th>\n",
       "      <th>dia_semana</th>\n",
       "      <th>fecha_habil</th>\n",
       "      <th>Cantidad</th>\n",
       "      <th>domingo</th>\n",
       "      <th>jueves</th>\n",
       "      <th>lunes</th>\n",
       "      <th>martes</th>\n",
       "      <th>miercoles</th>\n",
       "      <th>sabado</th>\n",
       "      <th>viernes</th>\n",
       "    </tr>\n",
       "  </thead>\n",
       "  <tbody>\n",
       "    <tr>\n",
       "      <th>74</th>\n",
       "      <td>2020-03-31 00:00:00</td>\n",
       "      <td>Retiro</td>\n",
       "      <td>0</td>\n",
       "      <td>1</td>\n",
       "      <td>2020-03-31</td>\n",
       "      <td>00</td>\n",
       "      <td>martes</td>\n",
       "      <td>0</td>\n",
       "      <td>159</td>\n",
       "      <td>0</td>\n",
       "      <td>0</td>\n",
       "      <td>0</td>\n",
       "      <td>1</td>\n",
       "      <td>0</td>\n",
       "      <td>0</td>\n",
       "      <td>0</td>\n",
       "    </tr>\n",
       "    <tr>\n",
       "      <th>75</th>\n",
       "      <td>2020-03-31 00:00:00</td>\n",
       "      <td>Retiro</td>\n",
       "      <td>1</td>\n",
       "      <td>0</td>\n",
       "      <td>2020-03-31</td>\n",
       "      <td>00</td>\n",
       "      <td>martes</td>\n",
       "      <td>0</td>\n",
       "      <td>164</td>\n",
       "      <td>0</td>\n",
       "      <td>0</td>\n",
       "      <td>0</td>\n",
       "      <td>1</td>\n",
       "      <td>0</td>\n",
       "      <td>0</td>\n",
       "      <td>0</td>\n",
       "    </tr>\n",
       "    <tr>\n",
       "      <th>76</th>\n",
       "      <td>2020-03-31 00:00:00</td>\n",
       "      <td>Palermo</td>\n",
       "      <td>1</td>\n",
       "      <td>0</td>\n",
       "      <td>2020-03-31</td>\n",
       "      <td>00</td>\n",
       "      <td>martes</td>\n",
       "      <td>0</td>\n",
       "      <td>7</td>\n",
       "      <td>0</td>\n",
       "      <td>0</td>\n",
       "      <td>0</td>\n",
       "      <td>1</td>\n",
       "      <td>0</td>\n",
       "      <td>0</td>\n",
       "      <td>0</td>\n",
       "    </tr>\n",
       "    <tr>\n",
       "      <th>77</th>\n",
       "      <td>2020-03-31 00:00:00</td>\n",
       "      <td>Flores</td>\n",
       "      <td>1</td>\n",
       "      <td>0</td>\n",
       "      <td>2020-03-31</td>\n",
       "      <td>00</td>\n",
       "      <td>martes</td>\n",
       "      <td>0</td>\n",
       "      <td>378</td>\n",
       "      <td>0</td>\n",
       "      <td>0</td>\n",
       "      <td>0</td>\n",
       "      <td>1</td>\n",
       "      <td>0</td>\n",
       "      <td>0</td>\n",
       "      <td>0</td>\n",
       "    </tr>\n",
       "    <tr>\n",
       "      <th>78</th>\n",
       "      <td>2020-03-31 00:00:00</td>\n",
       "      <td>Flores</td>\n",
       "      <td>0</td>\n",
       "      <td>1</td>\n",
       "      <td>2020-03-31</td>\n",
       "      <td>00</td>\n",
       "      <td>martes</td>\n",
       "      <td>0</td>\n",
       "      <td>358</td>\n",
       "      <td>0</td>\n",
       "      <td>0</td>\n",
       "      <td>0</td>\n",
       "      <td>1</td>\n",
       "      <td>0</td>\n",
       "      <td>0</td>\n",
       "      <td>0</td>\n",
       "    </tr>\n",
       "  </tbody>\n",
       "</table>\n",
       "</div>"
      ],
      "text/plain": [
       "                   HORA Coordenadas  Egreso  ...  miercoles sabado viernes\n",
       "74  2020-03-31 00:00:00      Retiro       0  ...          0      0       0\n",
       "75  2020-03-31 00:00:00      Retiro       1  ...          0      0       0\n",
       "76  2020-03-31 00:00:00     Palermo       1  ...          0      0       0\n",
       "77  2020-03-31 00:00:00      Flores       1  ...          0      0       0\n",
       "78  2020-03-31 00:00:00      Flores       0  ...          0      0       0\n",
       "\n",
       "[5 rows x 16 columns]"
      ]
     },
     "execution_count": 206,
     "metadata": {},
     "output_type": "execute_result"
    }
   ],
   "source": [
    "ds_final.drop(columns=['SENTIDO'], inplace=True) # Quito la columna ya que no la necesito más (este ds no es para graficar)\n",
    "ds_final.sort_values(by=['Fecha', 'Hora'], inplace=True) # Ordenamos por Fechay y Hora\n",
    "ds_final.head()"
   ]
  },
  {
   "cell_type": "code",
   "execution_count": null,
   "metadata": {
    "id": "giAHSVOysOEr"
   },
   "outputs": [],
   "source": [
    "dummies = pd.get_dummies(ds_final['Coordenadas']) # Definimos los dummies para la localizacion de los sensores\n",
    "ds_final = pd.concat([ds_final,dummies],axis = 1) # Generamos los dummies y los agregamos al ds"
   ]
  },
  {
   "cell_type": "code",
   "execution_count": null,
   "metadata": {
    "id": "6jSgUtsbssww"
   },
   "outputs": [],
   "source": [
    "ds_final = ds_final[ds_final.Fecha >= '2020-08-01'] # Eliminamos todo lo anterior a agosto 2020"
   ]
  },
  {
   "cell_type": "code",
   "execution_count": null,
   "metadata": {
    "id": "X2TvoTjRKCOa"
   },
   "outputs": [],
   "source": [
    "ds_final['4s'] = ds_final.rolling(on='Fecha', window=28, center=True)['Cantidad'].mean()\n",
    "ds_final['8s'] = ds_final.rolling(on='Fecha', window=56, center=True)['Cantidad'].mean()\n",
    "ds_final.dropna(subset=['8s'],inplace=True)"
   ]
  },
  {
   "cell_type": "code",
   "execution_count": null,
   "metadata": {
    "id": "tGIkh_MbwTvc"
   },
   "outputs": [],
   "source": [
    "date_aux_s4 = ds_final['Fecha'].loc[(ds_final['Fecha'] >= '2020-12-20') & (ds_final['Fecha'] < '2021-01-01')]\n",
    "date_aux_s8 = ds_final['Fecha'].loc[(ds_final['Fecha'] >= '2021-05-23') & (ds_final['Fecha'] < '2021-06-07')]"
   ]
  },
  {
   "cell_type": "code",
   "execution_count": null,
   "metadata": {
    "id": "1Hq3sjt8jTZd"
   },
   "outputs": [],
   "source": [
    "for i in range(len(ds_final)):\n",
    "   if ds_final.iloc[i, 3] in date_aux_s4:\n",
    "     ds_final.iloc[i, 7] = ds_final.iloc[i, 11]\n",
    "     print(ds_final.iloc[i, 11])\n",
    "   elif ds_final.iloc[i, 3] in date_aux_s8:\n",
    "     ds_final.iloc[i, 7] = ds_final.iloc[i, 12] + 1000\n",
    "     print(ds_final.iloc[i, 12])"
   ]
  },
  {
   "cell_type": "code",
   "execution_count": null,
   "metadata": {
    "id": "Yk3_-efKu6DK"
   },
   "outputs": [],
   "source": [
    "ds_new['Cantidad_final'] = ds_new['Fecha'].apply(lambda x: ds_4s if x in date_aux_s4 else ds_new['Cantidad'])"
   ]
  },
  {
   "cell_type": "code",
   "execution_count": null,
   "metadata": {
    "id": "d2KBWU8uUpOg"
   },
   "outputs": [],
   "source": [
    "ds_new['Cantidad'] = ds_new['Fecha'].apply(lambda x: ds_new['8s'] if x in date_aux_s8 else ds_new['Cantidad'])"
   ]
  },
  {
   "cell_type": "code",
   "execution_count": null,
   "metadata": {
    "id": "ckwoyfFlV5BJ"
   },
   "outputs": [],
   "source": [
    "ds_final['Cantidad_2'] = ds_final['Fecha'].apply(lambda x: ds_final['Cantidad'] if x not in ds_final['Cantidad2'] else np.NaN)"
   ]
  },
  {
   "cell_type": "code",
   "execution_count": null,
   "metadata": {
    "colab": {
     "base_uri": "https://localhost:8080/",
     "height": 326
    },
    "executionInfo": {
     "elapsed": 12048,
     "status": "ok",
     "timestamp": 1637273505728,
     "user": {
      "displayName": "Javier Laudadío",
      "photoUrl": "https://lh3.googleusercontent.com/a/default-user=s64",
      "userId": "07494710345697859273"
     },
     "user_tz": 180
    },
    "id": "CG6JGC2rRFUm",
    "outputId": "07779f5e-3574-4d31-9506-8e3a0b400143"
   },
   "outputs": [
    {
     "data": {
      "image/png": "[encoded data removed]",
      "text/plain": [
       "<Figure size 1440x504 with 1 Axes>"
      ]
     },
     "metadata": {},
     "output_type": "display_data"
    }
   ],
   "source": [
    "plt.figure(figsize=(20, 7))\n",
    "sns.set_context(\"paper\")\n",
    "sns.set_theme()\n",
    "linewidth = 1.5\n",
    "sns.lineplot(data=ds_final, y='Cantidad', x='Fecha',linewidth = 2)\n",
    "plt.legend(['Cantidad'], fontsize='15')\n",
    "\n",
    "plt.show()"
   ]
  },
  {
   "cell_type": "code",
   "execution_count": null,
   "metadata": {
    "colab": {
     "base_uri": "https://localhost:8080/",
     "height": 399
    },
    "executionInfo": {
     "elapsed": 33,
     "status": "ok",
     "timestamp": 1637273505728,
     "user": {
      "displayName": "Javier Laudadío",
      "photoUrl": "https://lh3.googleusercontent.com/a/default-user=s64",
      "userId": "07494710345697859273"
     },
     "user_tz": 180
    },
    "id": "mVXyWap6R4So",
    "outputId": "52e40e18-b85a-40f3-8036-038d5cf2d406"
   },
   "outputs": [
    {
     "data": {
      "text/html": [
       "<div>\n",
       "<style scoped>\n",
       "    .dataframe tbody tr th:only-of-type {\n",
       "        vertical-align: middle;\n",
       "    }\n",
       "\n",
       "    .dataframe tbody tr th {\n",
       "        vertical-align: top;\n",
       "    }\n",
       "\n",
       "    .dataframe thead th {\n",
       "        text-align: right;\n",
       "    }\n",
       "</style>\n",
       "<table border=\"1\" class=\"dataframe\">\n",
       "  <thead>\n",
       "    <tr style=\"text-align: right;\">\n",
       "      <th></th>\n",
       "      <th>HORA</th>\n",
       "      <th>Coordenadas</th>\n",
       "      <th>Egreso</th>\n",
       "      <th>Ingreso</th>\n",
       "      <th>Fecha</th>\n",
       "      <th>Hora</th>\n",
       "      <th>dia_semana</th>\n",
       "      <th>fecha_habil</th>\n",
       "      <th>Cantidad</th>\n",
       "      <th>domingo</th>\n",
       "      <th>jueves</th>\n",
       "      <th>lunes</th>\n",
       "      <th>martes</th>\n",
       "      <th>miercoles</th>\n",
       "      <th>sabado</th>\n",
       "      <th>viernes</th>\n",
       "      <th>Flores</th>\n",
       "      <th>Palermo</th>\n",
       "      <th>Retiro</th>\n",
       "    </tr>\n",
       "  </thead>\n",
       "  <tbody>\n",
       "    <tr>\n",
       "      <th>20857</th>\n",
       "      <td>2020-08-01 00:00:00</td>\n",
       "      <td>Palermo</td>\n",
       "      <td>1</td>\n",
       "      <td>0</td>\n",
       "      <td>2020-08-01</td>\n",
       "      <td>00</td>\n",
       "      <td>sabado</td>\n",
       "      <td>0</td>\n",
       "      <td>28</td>\n",
       "      <td>0</td>\n",
       "      <td>0</td>\n",
       "      <td>0</td>\n",
       "      <td>0</td>\n",
       "      <td>0</td>\n",
       "      <td>1</td>\n",
       "      <td>0</td>\n",
       "      <td>0</td>\n",
       "      <td>1</td>\n",
       "      <td>0</td>\n",
       "    </tr>\n",
       "    <tr>\n",
       "      <th>20640</th>\n",
       "      <td>2020-08-01 00:00:00</td>\n",
       "      <td>Flores</td>\n",
       "      <td>0</td>\n",
       "      <td>1</td>\n",
       "      <td>2020-08-01</td>\n",
       "      <td>00</td>\n",
       "      <td>sabado</td>\n",
       "      <td>0</td>\n",
       "      <td>655</td>\n",
       "      <td>0</td>\n",
       "      <td>0</td>\n",
       "      <td>0</td>\n",
       "      <td>0</td>\n",
       "      <td>0</td>\n",
       "      <td>1</td>\n",
       "      <td>0</td>\n",
       "      <td>1</td>\n",
       "      <td>0</td>\n",
       "      <td>0</td>\n",
       "    </tr>\n",
       "    <tr>\n",
       "      <th>20639</th>\n",
       "      <td>2020-08-01 00:00:00</td>\n",
       "      <td>Flores</td>\n",
       "      <td>1</td>\n",
       "      <td>0</td>\n",
       "      <td>2020-08-01</td>\n",
       "      <td>00</td>\n",
       "      <td>sabado</td>\n",
       "      <td>0</td>\n",
       "      <td>706</td>\n",
       "      <td>0</td>\n",
       "      <td>0</td>\n",
       "      <td>0</td>\n",
       "      <td>0</td>\n",
       "      <td>0</td>\n",
       "      <td>1</td>\n",
       "      <td>0</td>\n",
       "      <td>1</td>\n",
       "      <td>0</td>\n",
       "      <td>0</td>\n",
       "    </tr>\n",
       "    <tr>\n",
       "      <th>21037</th>\n",
       "      <td>2020-08-01 00:00:00</td>\n",
       "      <td>Retiro</td>\n",
       "      <td>0</td>\n",
       "      <td>1</td>\n",
       "      <td>2020-08-01</td>\n",
       "      <td>00</td>\n",
       "      <td>sabado</td>\n",
       "      <td>0</td>\n",
       "      <td>352</td>\n",
       "      <td>0</td>\n",
       "      <td>0</td>\n",
       "      <td>0</td>\n",
       "      <td>0</td>\n",
       "      <td>0</td>\n",
       "      <td>1</td>\n",
       "      <td>0</td>\n",
       "      <td>0</td>\n",
       "      <td>0</td>\n",
       "      <td>1</td>\n",
       "    </tr>\n",
       "    <tr>\n",
       "      <th>21036</th>\n",
       "      <td>2020-08-01 00:00:00</td>\n",
       "      <td>Retiro</td>\n",
       "      <td>1</td>\n",
       "      <td>0</td>\n",
       "      <td>2020-08-01</td>\n",
       "      <td>00</td>\n",
       "      <td>sabado</td>\n",
       "      <td>0</td>\n",
       "      <td>358</td>\n",
       "      <td>0</td>\n",
       "      <td>0</td>\n",
       "      <td>0</td>\n",
       "      <td>0</td>\n",
       "      <td>0</td>\n",
       "      <td>1</td>\n",
       "      <td>0</td>\n",
       "      <td>0</td>\n",
       "      <td>0</td>\n",
       "      <td>1</td>\n",
       "    </tr>\n",
       "  </tbody>\n",
       "</table>\n",
       "</div>"
      ],
      "text/plain": [
       "                      HORA Coordenadas  Egreso  ...  Flores Palermo Retiro\n",
       "20857  2020-08-01 00:00:00     Palermo       1  ...       0       1      0\n",
       "20640  2020-08-01 00:00:00      Flores       0  ...       1       0      0\n",
       "20639  2020-08-01 00:00:00      Flores       1  ...       1       0      0\n",
       "21037  2020-08-01 00:00:00      Retiro       0  ...       0       0      1\n",
       "21036  2020-08-01 00:00:00      Retiro       1  ...       0       0      1\n",
       "\n",
       "[5 rows x 19 columns]"
      ]
     },
     "execution_count": 216,
     "metadata": {},
     "output_type": "execute_result"
    }
   ],
   "source": [
    "ds_final.head()"
   ]
  },
  {
   "cell_type": "code",
   "execution_count": null,
   "metadata": {
    "colab": {
     "base_uri": "https://localhost:8080/"
    },
    "executionInfo": {
     "elapsed": 31,
     "status": "ok",
     "timestamp": 1637273505729,
     "user": {
      "displayName": "Javier Laudadío",
      "photoUrl": "https://lh3.googleusercontent.com/a/default-user=s64",
      "userId": "07494710345697859273"
     },
     "user_tz": 180
    },
    "id": "QV_y_93DSX5Q",
    "outputId": "7fe5a6d4-e5a6-44a8-e9c7-31d8718d9c04"
   },
   "outputs": [
    {
     "data": {
      "text/plain": [
       "HORA                   object\n",
       "Coordenadas            object\n",
       "Egreso                  uint8\n",
       "Ingreso                 uint8\n",
       "Fecha          datetime64[ns]\n",
       "Hora                   object\n",
       "dia_semana             object\n",
       "fecha_habil             int64\n",
       "Cantidad                int64\n",
       "domingo                 uint8\n",
       "jueves                  uint8\n",
       "lunes                   uint8\n",
       "martes                  uint8\n",
       "miercoles               uint8\n",
       "sabado                  uint8\n",
       "viernes                 uint8\n",
       "Flores                  uint8\n",
       "Palermo                 uint8\n",
       "Retiro                  uint8\n",
       "dtype: object"
      ]
     },
     "execution_count": 217,
     "metadata": {},
     "output_type": "execute_result"
    }
   ],
   "source": [
    "ds_final.dtypes"
   ]
  },
  {
   "cell_type": "code",
   "execution_count": null,
   "metadata": {
    "id": "gdnUMFMORnIX"
   },
   "outputs": [],
   "source": [
    "ds_final.drop(columns={'Coordenadas','Fecha', 'Hora'}, inplace=True)"
   ]
  },
  {
   "cell_type": "code",
   "execution_count": null,
   "metadata": {
    "id": "fumxn_VZXlCj"
   },
   "outputs": [],
   "source": [
    "ds_final.reset_index(drop=True, inplace=True)"
   ]
  },
  {
   "cell_type": "code",
   "execution_count": null,
   "metadata": {
    "id": "Zzae1jYiHBHB"
   },
   "outputs": [],
   "source": [
    "ds_final.drop(columns='dia_semana', inplace=True)"
   ]
  },
  {
   "cell_type": "code",
   "execution_count": null,
   "metadata": {
    "colab": {
     "base_uri": "https://localhost:8080/",
     "height": 729
    },
    "executionInfo": {
     "elapsed": 325,
     "status": "ok",
     "timestamp": 1637273604285,
     "user": {
      "displayName": "Javier Laudadío",
      "photoUrl": "https://lh3.googleusercontent.com/a/default-user=s64",
      "userId": "07494710345697859273"
     },
     "user_tz": 180
    },
    "id": "TVAIY7H0aAqa",
    "outputId": "89cce6f8-e340-4e51-b9b8-2bf47f7c9cb7"
   },
   "outputs": [
    {
     "data": {
      "text/html": [
       "<div>\n",
       "<style scoped>\n",
       "    .dataframe tbody tr th:only-of-type {\n",
       "        vertical-align: middle;\n",
       "    }\n",
       "\n",
       "    .dataframe tbody tr th {\n",
       "        vertical-align: top;\n",
       "    }\n",
       "\n",
       "    .dataframe thead th {\n",
       "        text-align: right;\n",
       "    }\n",
       "</style>\n",
       "<table border=\"1\" class=\"dataframe\">\n",
       "  <thead>\n",
       "    <tr style=\"text-align: right;\">\n",
       "      <th></th>\n",
       "      <th>HORA</th>\n",
       "      <th>Egreso</th>\n",
       "      <th>Ingreso</th>\n",
       "      <th>fecha_habil</th>\n",
       "      <th>Cantidad</th>\n",
       "      <th>domingo</th>\n",
       "      <th>jueves</th>\n",
       "      <th>lunes</th>\n",
       "      <th>martes</th>\n",
       "      <th>miercoles</th>\n",
       "      <th>sabado</th>\n",
       "      <th>viernes</th>\n",
       "      <th>Flores</th>\n",
       "      <th>Palermo</th>\n",
       "      <th>Retiro</th>\n",
       "    </tr>\n",
       "  </thead>\n",
       "  <tbody>\n",
       "    <tr>\n",
       "      <th>0</th>\n",
       "      <td>2020-08-01 00:00:00</td>\n",
       "      <td>1</td>\n",
       "      <td>0</td>\n",
       "      <td>0</td>\n",
       "      <td>28</td>\n",
       "      <td>0</td>\n",
       "      <td>0</td>\n",
       "      <td>0</td>\n",
       "      <td>0</td>\n",
       "      <td>0</td>\n",
       "      <td>1</td>\n",
       "      <td>0</td>\n",
       "      <td>0</td>\n",
       "      <td>1</td>\n",
       "      <td>0</td>\n",
       "    </tr>\n",
       "    <tr>\n",
       "      <th>1</th>\n",
       "      <td>2020-08-01 00:00:00</td>\n",
       "      <td>0</td>\n",
       "      <td>1</td>\n",
       "      <td>0</td>\n",
       "      <td>655</td>\n",
       "      <td>0</td>\n",
       "      <td>0</td>\n",
       "      <td>0</td>\n",
       "      <td>0</td>\n",
       "      <td>0</td>\n",
       "      <td>1</td>\n",
       "      <td>0</td>\n",
       "      <td>1</td>\n",
       "      <td>0</td>\n",
       "      <td>0</td>\n",
       "    </tr>\n",
       "    <tr>\n",
       "      <th>2</th>\n",
       "      <td>2020-08-01 00:00:00</td>\n",
       "      <td>1</td>\n",
       "      <td>0</td>\n",
       "      <td>0</td>\n",
       "      <td>706</td>\n",
       "      <td>0</td>\n",
       "      <td>0</td>\n",
       "      <td>0</td>\n",
       "      <td>0</td>\n",
       "      <td>0</td>\n",
       "      <td>1</td>\n",
       "      <td>0</td>\n",
       "      <td>1</td>\n",
       "      <td>0</td>\n",
       "      <td>0</td>\n",
       "    </tr>\n",
       "    <tr>\n",
       "      <th>3</th>\n",
       "      <td>2020-08-01 00:00:00</td>\n",
       "      <td>0</td>\n",
       "      <td>1</td>\n",
       "      <td>0</td>\n",
       "      <td>352</td>\n",
       "      <td>0</td>\n",
       "      <td>0</td>\n",
       "      <td>0</td>\n",
       "      <td>0</td>\n",
       "      <td>0</td>\n",
       "      <td>1</td>\n",
       "      <td>0</td>\n",
       "      <td>0</td>\n",
       "      <td>0</td>\n",
       "      <td>1</td>\n",
       "    </tr>\n",
       "    <tr>\n",
       "      <th>4</th>\n",
       "      <td>2020-08-01 00:00:00</td>\n",
       "      <td>1</td>\n",
       "      <td>0</td>\n",
       "      <td>0</td>\n",
       "      <td>358</td>\n",
       "      <td>0</td>\n",
       "      <td>0</td>\n",
       "      <td>0</td>\n",
       "      <td>0</td>\n",
       "      <td>0</td>\n",
       "      <td>1</td>\n",
       "      <td>0</td>\n",
       "      <td>0</td>\n",
       "      <td>0</td>\n",
       "      <td>1</td>\n",
       "    </tr>\n",
       "    <tr>\n",
       "      <th>5</th>\n",
       "      <td>2020-08-01 01:00:00</td>\n",
       "      <td>1</td>\n",
       "      <td>0</td>\n",
       "      <td>0</td>\n",
       "      <td>29</td>\n",
       "      <td>0</td>\n",
       "      <td>0</td>\n",
       "      <td>0</td>\n",
       "      <td>0</td>\n",
       "      <td>0</td>\n",
       "      <td>1</td>\n",
       "      <td>0</td>\n",
       "      <td>0</td>\n",
       "      <td>1</td>\n",
       "      <td>0</td>\n",
       "    </tr>\n",
       "    <tr>\n",
       "      <th>6</th>\n",
       "      <td>2020-08-01 01:00:00</td>\n",
       "      <td>1</td>\n",
       "      <td>0</td>\n",
       "      <td>0</td>\n",
       "      <td>439</td>\n",
       "      <td>0</td>\n",
       "      <td>0</td>\n",
       "      <td>0</td>\n",
       "      <td>0</td>\n",
       "      <td>0</td>\n",
       "      <td>1</td>\n",
       "      <td>0</td>\n",
       "      <td>1</td>\n",
       "      <td>0</td>\n",
       "      <td>0</td>\n",
       "    </tr>\n",
       "    <tr>\n",
       "      <th>7</th>\n",
       "      <td>2020-08-01 01:00:00</td>\n",
       "      <td>0</td>\n",
       "      <td>1</td>\n",
       "      <td>0</td>\n",
       "      <td>422</td>\n",
       "      <td>0</td>\n",
       "      <td>0</td>\n",
       "      <td>0</td>\n",
       "      <td>0</td>\n",
       "      <td>0</td>\n",
       "      <td>1</td>\n",
       "      <td>0</td>\n",
       "      <td>1</td>\n",
       "      <td>0</td>\n",
       "      <td>0</td>\n",
       "    </tr>\n",
       "    <tr>\n",
       "      <th>8</th>\n",
       "      <td>2020-08-01 01:00:00</td>\n",
       "      <td>0</td>\n",
       "      <td>1</td>\n",
       "      <td>0</td>\n",
       "      <td>287</td>\n",
       "      <td>0</td>\n",
       "      <td>0</td>\n",
       "      <td>0</td>\n",
       "      <td>0</td>\n",
       "      <td>0</td>\n",
       "      <td>1</td>\n",
       "      <td>0</td>\n",
       "      <td>0</td>\n",
       "      <td>0</td>\n",
       "      <td>1</td>\n",
       "    </tr>\n",
       "    <tr>\n",
       "      <th>9</th>\n",
       "      <td>2020-08-01 01:00:00</td>\n",
       "      <td>1</td>\n",
       "      <td>0</td>\n",
       "      <td>0</td>\n",
       "      <td>290</td>\n",
       "      <td>0</td>\n",
       "      <td>0</td>\n",
       "      <td>0</td>\n",
       "      <td>0</td>\n",
       "      <td>0</td>\n",
       "      <td>1</td>\n",
       "      <td>0</td>\n",
       "      <td>0</td>\n",
       "      <td>0</td>\n",
       "      <td>1</td>\n",
       "    </tr>\n",
       "  </tbody>\n",
       "</table>\n",
       "</div>"
      ],
      "text/plain": [
       "                  HORA  Egreso  Ingreso  ...  Flores  Palermo  Retiro\n",
       "0  2020-08-01 00:00:00       1        0  ...       0        1       0\n",
       "1  2020-08-01 00:00:00       0        1  ...       1        0       0\n",
       "2  2020-08-01 00:00:00       1        0  ...       1        0       0\n",
       "3  2020-08-01 00:00:00       0        1  ...       0        0       1\n",
       "4  2020-08-01 00:00:00       1        0  ...       0        0       1\n",
       "5  2020-08-01 01:00:00       1        0  ...       0        1       0\n",
       "6  2020-08-01 01:00:00       1        0  ...       1        0       0\n",
       "7  2020-08-01 01:00:00       0        1  ...       1        0       0\n",
       "8  2020-08-01 01:00:00       0        1  ...       0        0       1\n",
       "9  2020-08-01 01:00:00       1        0  ...       0        0       1\n",
       "\n",
       "[10 rows x 15 columns]"
      ]
     },
     "execution_count": 222,
     "metadata": {},
     "output_type": "execute_result"
    }
   ],
   "source": [
    "ds_final.head(10)"
   ]
  },
  {
   "cell_type": "code",
   "execution_count": null,
   "metadata": {
    "id": "jFPWPyiH4lEm"
   },
   "outputs": [],
   "source": [
    "path = 'ds_final.xlsx'\n",
    "ds_final.to_excel(path, index=True)"
   ]
  }
 ],
 "metadata": {
  "colab": {
   "collapsed_sections": [],
   "name": "Grupo_5_EDA.ipynb",
   "provenance": []
  },
  "kernelspec": {
   "display_name": "Python 3",
   "language": "python",
   "name": "python3"
  },
  "language_info": {
   "codemirror_mode": {
    "name": "ipython",
    "version": 3
   },
   "file_extension": ".py",
   "mimetype": "text/x-python",
   "name": "python",
   "nbconvert_exporter": "python",
   "pygments_lexer": "ipython3",
   "version": "3.8.5"
  }
 },
 "nbformat": 4,
 "nbformat_minor": 1
}
