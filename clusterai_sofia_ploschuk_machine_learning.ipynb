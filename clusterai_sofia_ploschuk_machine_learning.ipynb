{
 "cells": [
  {
   "cell_type": "code",
   "execution_count": 189,
   "metadata": {
    "executionInfo": {
     "elapsed": 392,
     "status": "ok",
     "timestamp": 1637446428592,
     "user": {
      "displayName": "Javier Laudadío",
      "photoUrl": "https://lh3.googleusercontent.com/a/default-user=s64",
      "userId": "07494710345697859273"
     },
     "user_tz": 180
    },
    "id": "sM0fpBZGjmlq"
   },
   "outputs": [],
   "source": [
    "# Data Manipulation\n",
    "import numpy as np\n",
    "import pandas as pd\n",
    "from scipy import stats\n",
    "from scipy.stats import norm, skew \n",
    "import datetime as dt\n",
    "from datetime import datetime\n",
    "# Visualization\n",
    "import matplotlib.pyplot as plt\n",
    "import seaborn as sns\n",
    "plt.style.use('seaborn-whitegrid')\n",
    "\n",
    "#MachineLearning\n",
    "from sklearn import ensemble, tree, linear_model\n",
    "from sklearn.model_selection import train_test_split, cross_val_score\n",
    "from sklearn.metrics import r2_score, mean_squared_error\n",
    "from sklearn.utils import shuffle\n",
    "from sklearn.model_selection import cross_val_score, train_test_split\n",
    "from sklearn.preprocessing import StandardScaler\n",
    "from sklearn import preprocessing\n",
    "from sklearn.preprocessing import LabelEncoder\n",
    "from sklearn.linear_model import LinearRegression, RidgeCV, LassoCV, ElasticNetCV\n",
    "from sklearn.svm import SVR, LinearSVR\n",
    "from sklearn.neighbors import KNeighborsRegressor\n",
    "from sklearn.metrics import mean_squared_error, make_scorer\n",
    "from sklearn.model_selection import GridSearchCV\n",
    "from sklearn.ensemble import RandomForestRegressor"
   ]
  },
  {
   "cell_type": "code",
   "execution_count": 190,
   "metadata": {
    "executionInfo": {
     "elapsed": 7339,
     "status": "ok",
     "timestamp": 1637446436192,
     "user": {
      "displayName": "Javier Laudadío",
      "photoUrl": "https://lh3.googleusercontent.com/a/default-user=s64",
      "userId": "07494710345697859273"
     },
     "user_tz": 180
    },
    "id": "Kqutk0htlQU6"
   },
   "outputs": [],
   "source": [
    "df = pd.read_excel('ds_final.xlsx')"
   ]
  },
  {
   "cell_type": "code",
   "execution_count": 191,
   "metadata": {
    "colab": {
     "base_uri": "https://localhost:8080/",
     "height": 204
    },
    "executionInfo": {
     "elapsed": 21,
     "status": "ok",
     "timestamp": 1637446436193,
     "user": {
      "displayName": "Javier Laudadío",
      "photoUrl": "https://lh3.googleusercontent.com/a/default-user=s64",
      "userId": "07494710345697859273"
     },
     "user_tz": 180
    },
    "id": "-Sm9xupMXKsv",
    "outputId": "44e7a56a-af16-45b6-851c-99f9abe98282"
   },
   "outputs": [
    {
     "data": {
      "text/html": [
       "<div>\n",
       "<style scoped>\n",
       "    .dataframe tbody tr th:only-of-type {\n",
       "        vertical-align: middle;\n",
       "    }\n",
       "\n",
       "    .dataframe tbody tr th {\n",
       "        vertical-align: top;\n",
       "    }\n",
       "\n",
       "    .dataframe thead th {\n",
       "        text-align: right;\n",
       "    }\n",
       "</style>\n",
       "<table border=\"1\" class=\"dataframe\">\n",
       "  <thead>\n",
       "    <tr style=\"text-align: right;\">\n",
       "      <th></th>\n",
       "      <th>Unnamed: 0</th>\n",
       "      <th>HORA</th>\n",
       "      <th>Egreso</th>\n",
       "      <th>Ingreso</th>\n",
       "      <th>fecha_habil</th>\n",
       "      <th>Cantidad</th>\n",
       "      <th>domingo</th>\n",
       "      <th>jueves</th>\n",
       "      <th>lunes</th>\n",
       "      <th>martes</th>\n",
       "      <th>miercoles</th>\n",
       "      <th>sabado</th>\n",
       "      <th>viernes</th>\n",
       "      <th>Flores</th>\n",
       "      <th>Palermo</th>\n",
       "      <th>Retiro</th>\n",
       "    </tr>\n",
       "  </thead>\n",
       "  <tbody>\n",
       "    <tr>\n",
       "      <th>0</th>\n",
       "      <td>0</td>\n",
       "      <td>2020-08-01 00:00:00</td>\n",
       "      <td>1</td>\n",
       "      <td>0</td>\n",
       "      <td>0</td>\n",
       "      <td>28</td>\n",
       "      <td>0</td>\n",
       "      <td>0</td>\n",
       "      <td>0</td>\n",
       "      <td>0</td>\n",
       "      <td>0</td>\n",
       "      <td>1</td>\n",
       "      <td>0</td>\n",
       "      <td>0</td>\n",
       "      <td>1</td>\n",
       "      <td>0</td>\n",
       "    </tr>\n",
       "    <tr>\n",
       "      <th>1</th>\n",
       "      <td>1</td>\n",
       "      <td>2020-08-01 00:00:00</td>\n",
       "      <td>0</td>\n",
       "      <td>1</td>\n",
       "      <td>0</td>\n",
       "      <td>655</td>\n",
       "      <td>0</td>\n",
       "      <td>0</td>\n",
       "      <td>0</td>\n",
       "      <td>0</td>\n",
       "      <td>0</td>\n",
       "      <td>1</td>\n",
       "      <td>0</td>\n",
       "      <td>1</td>\n",
       "      <td>0</td>\n",
       "      <td>0</td>\n",
       "    </tr>\n",
       "    <tr>\n",
       "      <th>2</th>\n",
       "      <td>2</td>\n",
       "      <td>2020-08-01 00:00:00</td>\n",
       "      <td>1</td>\n",
       "      <td>0</td>\n",
       "      <td>0</td>\n",
       "      <td>706</td>\n",
       "      <td>0</td>\n",
       "      <td>0</td>\n",
       "      <td>0</td>\n",
       "      <td>0</td>\n",
       "      <td>0</td>\n",
       "      <td>1</td>\n",
       "      <td>0</td>\n",
       "      <td>1</td>\n",
       "      <td>0</td>\n",
       "      <td>0</td>\n",
       "    </tr>\n",
       "    <tr>\n",
       "      <th>3</th>\n",
       "      <td>3</td>\n",
       "      <td>2020-08-01 00:00:00</td>\n",
       "      <td>0</td>\n",
       "      <td>1</td>\n",
       "      <td>0</td>\n",
       "      <td>352</td>\n",
       "      <td>0</td>\n",
       "      <td>0</td>\n",
       "      <td>0</td>\n",
       "      <td>0</td>\n",
       "      <td>0</td>\n",
       "      <td>1</td>\n",
       "      <td>0</td>\n",
       "      <td>0</td>\n",
       "      <td>0</td>\n",
       "      <td>1</td>\n",
       "    </tr>\n",
       "    <tr>\n",
       "      <th>4</th>\n",
       "      <td>4</td>\n",
       "      <td>2020-08-01 00:00:00</td>\n",
       "      <td>1</td>\n",
       "      <td>0</td>\n",
       "      <td>0</td>\n",
       "      <td>358</td>\n",
       "      <td>0</td>\n",
       "      <td>0</td>\n",
       "      <td>0</td>\n",
       "      <td>0</td>\n",
       "      <td>0</td>\n",
       "      <td>1</td>\n",
       "      <td>0</td>\n",
       "      <td>0</td>\n",
       "      <td>0</td>\n",
       "      <td>1</td>\n",
       "    </tr>\n",
       "  </tbody>\n",
       "</table>\n",
       "</div>"
      ],
      "text/plain": [
       "   Unnamed: 0                 HORA  Egreso  Ingreso  fecha_habil  Cantidad  \\\n",
       "0           0  2020-08-01 00:00:00       1        0            0        28   \n",
       "1           1  2020-08-01 00:00:00       0        1            0       655   \n",
       "2           2  2020-08-01 00:00:00       1        0            0       706   \n",
       "3           3  2020-08-01 00:00:00       0        1            0       352   \n",
       "4           4  2020-08-01 00:00:00       1        0            0       358   \n",
       "\n",
       "   domingo  jueves  lunes  martes  miercoles  sabado  viernes  Flores  \\\n",
       "0        0       0      0       0          0       1        0       0   \n",
       "1        0       0      0       0          0       1        0       1   \n",
       "2        0       0      0       0          0       1        0       1   \n",
       "3        0       0      0       0          0       1        0       0   \n",
       "4        0       0      0       0          0       1        0       0   \n",
       "\n",
       "   Palermo  Retiro  \n",
       "0        1       0  \n",
       "1        0       0  \n",
       "2        0       0  \n",
       "3        0       1  \n",
       "4        0       1  "
      ]
     },
     "execution_count": 191,
     "metadata": {},
     "output_type": "execute_result"
    }
   ],
   "source": [
    "df.head()"
   ]
  },
  {
   "cell_type": "code",
   "execution_count": 192,
   "metadata": {
    "executionInfo": {
     "elapsed": 20,
     "status": "ok",
     "timestamp": 1637446436194,
     "user": {
      "displayName": "Javier Laudadío",
      "photoUrl": "https://lh3.googleusercontent.com/a/default-user=s64",
      "userId": "07494710345697859273"
     },
     "user_tz": 180
    },
    "id": "ygBMtl530qrP"
   },
   "outputs": [],
   "source": [
    "df.drop(columns='Unnamed: 0', inplace=True) # Quito la columna indice que tenía el excel"
   ]
  },
  {
   "cell_type": "code",
   "execution_count": 193,
   "metadata": {
    "executionInfo": {
     "elapsed": 19,
     "status": "ok",
     "timestamp": 1637446436194,
     "user": {
      "displayName": "Javier Laudadío",
      "photoUrl": "https://lh3.googleusercontent.com/a/default-user=s64",
      "userId": "07494710345697859273"
     },
     "user_tz": 180
    },
    "id": "230YN8iLUbEy"
   },
   "outputs": [],
   "source": [
    "df['HORA'] = df['HORA'].astype('str') # Paso HORA a texto para poder separar facilmente\n",
    "df['Año'] = df.HORA.str.slice(0,4).astype('str')  #Al parecer Regresion no funciona bien con fecha tipo datetime, asiq se pasa todo a número\n",
    "df['Mes'] = df.HORA.str.slice(5,7).astype('int') \n",
    "df['Día'] = df.HORA.str.slice(8,10).astype('int') \n",
    "df['Hora'] = df.HORA.str.slice(11,13).astype('int') "
   ]
  },
  {
   "cell_type": "code",
   "execution_count": 194,
   "metadata": {
    "colab": {
     "base_uri": "https://localhost:8080/"
    },
    "executionInfo": {
     "elapsed": 20,
     "status": "ok",
     "timestamp": 1637446436195,
     "user": {
      "displayName": "Javier Laudadío",
      "photoUrl": "https://lh3.googleusercontent.com/a/default-user=s64",
      "userId": "07494710345697859273"
     },
     "user_tz": 180
    },
    "id": "3Oqrap-ehFQS",
    "outputId": "0a27e4ed-9dec-4d13-c9f1-446627b5bcab"
   },
   "outputs": [
    {
     "data": {
      "text/plain": [
       "HORA           object\n",
       "Egreso          int64\n",
       "Ingreso         int64\n",
       "fecha_habil     int64\n",
       "Cantidad        int64\n",
       "domingo         int64\n",
       "jueves          int64\n",
       "lunes           int64\n",
       "martes          int64\n",
       "miercoles       int64\n",
       "sabado          int64\n",
       "viernes         int64\n",
       "Flores          int64\n",
       "Palermo         int64\n",
       "Retiro          int64\n",
       "Año            object\n",
       "Mes             int32\n",
       "Día             int32\n",
       "Hora            int32\n",
       "dtype: object"
      ]
     },
     "execution_count": 194,
     "metadata": {},
     "output_type": "execute_result"
    }
   ],
   "source": [
    "df.dtypes"
   ]
  },
  {
   "cell_type": "code",
   "execution_count": 195,
   "metadata": {
    "executionInfo": {
     "elapsed": 538,
     "status": "ok",
     "timestamp": 1637446436719,
     "user": {
      "displayName": "Javier Laudadío",
      "photoUrl": "https://lh3.googleusercontent.com/a/default-user=s64",
      "userId": "07494710345697859273"
     },
     "user_tz": 180
    },
    "id": "Zckr9iRoZSRH"
   },
   "outputs": [],
   "source": [
    "# Luego de correr los dummies, vemos que hay muchas columnas de nombre repetido (se junta el mes 12, con la hora 12, con el día 12 x ejem))\n",
    "# Por ende, antes de correr dummies, tenemos que nombrar cada hora, dia y mes, para evitar confusiones\n",
    "# Vamos a proceder de la misma forma que hicimos con los dias de la semana en el EDA: creamos las lista con nombres, luego reemplazamos en el dataset"
   ]
  },
  {
   "cell_type": "code",
   "execution_count": 196,
   "metadata": {
    "executionInfo": {
     "elapsed": 22,
     "status": "ok",
     "timestamp": 1637446436721,
     "user": {
      "displayName": "Javier Laudadío",
      "photoUrl": "https://lh3.googleusercontent.com/a/default-user=s64",
      "userId": "07494710345697859273"
     },
     "user_tz": 180
    },
    "id": "JUSCZ4DOaKHA"
   },
   "outputs": [],
   "source": [
    "# Primero creamos listas ordenas, nos ayudamos de un loop \"for\" para no hacerlo a mano\n",
    "horas = []\n",
    "dias_mes = []\n",
    "meses = []\n",
    "n_horas = []\n",
    "n_dias_mes = []\n",
    "n_meses = []"
   ]
  },
  {
   "cell_type": "code",
   "execution_count": 197,
   "metadata": {
    "executionInfo": {
     "elapsed": 22,
     "status": "ok",
     "timestamp": 1637446436722,
     "user": {
      "displayName": "Javier Laudadío",
      "photoUrl": "https://lh3.googleusercontent.com/a/default-user=s64",
      "userId": "07494710345697859273"
     },
     "user_tz": 180
    },
    "id": "vrLYMv9zaZa7"
   },
   "outputs": [],
   "source": [
    "for i in range(31):\n",
    "  if i < 12:\n",
    "    horas.append(f'{i}am')\n",
    "    dias_mes.append(f'dia_{i+1}')\n",
    "    meses.append(f'mes_{i+1}')\n",
    "    n_horas.append(i)\n",
    "    n_dias_mes.append(i+1)\n",
    "    n_meses.append(i+1)\n",
    "  elif i < 24:\n",
    "    horas.append(f'{i}pm')\n",
    "    dias_mes.append(f'dia_{i+1}')\n",
    "    n_horas.append(i)\n",
    "    n_dias_mes.append(i+1)\n",
    "  else:\n",
    "    dias_mes.append(f'dia_{i+1}')\n",
    "    n_dias_mes.append(i+1)"
   ]
  },
  {
   "cell_type": "code",
   "execution_count": 198,
   "metadata": {
    "colab": {
     "base_uri": "https://localhost:8080/"
    },
    "executionInfo": {
     "elapsed": 22,
     "status": "ok",
     "timestamp": 1637446436723,
     "user": {
      "displayName": "Javier Laudadío",
      "photoUrl": "https://lh3.googleusercontent.com/a/default-user=s64",
      "userId": "07494710345697859273"
     },
     "user_tz": 180
    },
    "id": "wlFKj6Kmcf0-",
    "outputId": "6ea6b37a-e862-477d-8c48-56dfa8b302ed"
   },
   "outputs": [
    {
     "name": "stdout",
     "output_type": "stream",
     "text": [
      "[1, 2, 3, 4, 5, 6, 7, 8, 9, 10, 11, 12, 13, 14, 15, 16, 17, 18, 19, 20, 21, 22, 23, 24, 25, 26, 27, 28, 29, 30, 31] [0, 1, 2, 3, 4, 5, 6, 7, 8, 9, 10, 11, 12, 13, 14, 15, 16, 17, 18, 19, 20, 21, 22, 23] [1, 2, 3, 4, 5, 6, 7, 8, 9, 10, 11, 12]\n"
     ]
    }
   ],
   "source": [
    "print(n_dias_mes,n_horas, n_meses) # Chequeamos valores nuemericos"
   ]
  },
  {
   "cell_type": "code",
   "execution_count": 199,
   "metadata": {
    "colab": {
     "base_uri": "https://localhost:8080/"
    },
    "executionInfo": {
     "elapsed": 19,
     "status": "ok",
     "timestamp": 1637446436724,
     "user": {
      "displayName": "Javier Laudadío",
      "photoUrl": "https://lh3.googleusercontent.com/a/default-user=s64",
      "userId": "07494710345697859273"
     },
     "user_tz": 180
    },
    "id": "k-r0QBppdAIL",
    "outputId": "137e9b9f-6ecb-46df-ec20-09c38452a86a"
   },
   "outputs": [
    {
     "name": "stdout",
     "output_type": "stream",
     "text": [
      "['0am', '1am', '2am', '3am', '4am', '5am', '6am', '7am', '8am', '9am', '10am', '11am', '12pm', '13pm', '14pm', '15pm', '16pm', '17pm', '18pm', '19pm', '20pm', '21pm', '22pm', '23pm'] ['dia_1', 'dia_2', 'dia_3', 'dia_4', 'dia_5', 'dia_6', 'dia_7', 'dia_8', 'dia_9', 'dia_10', 'dia_11', 'dia_12', 'dia_13', 'dia_14', 'dia_15', 'dia_16', 'dia_17', 'dia_18', 'dia_19', 'dia_20', 'dia_21', 'dia_22', 'dia_23', 'dia_24', 'dia_25', 'dia_26', 'dia_27', 'dia_28', 'dia_29', 'dia_30', 'dia_31'] ['mes_1', 'mes_2', 'mes_3', 'mes_4', 'mes_5', 'mes_6', 'mes_7', 'mes_8', 'mes_9', 'mes_10', 'mes_11', 'mes_12']\n"
     ]
    }
   ],
   "source": [
    "print(horas, dias_mes, meses) # Chequeamos listas (futuras features)"
   ]
  },
  {
   "cell_type": "code",
   "execution_count": 200,
   "metadata": {
    "executionInfo": {
     "elapsed": 17,
     "status": "ok",
     "timestamp": 1637446436725,
     "user": {
      "displayName": "Javier Laudadío",
      "photoUrl": "https://lh3.googleusercontent.com/a/default-user=s64",
      "userId": "07494710345697859273"
     },
     "user_tz": 180
    },
    "id": "R8DWxdC8daR7"
   },
   "outputs": [],
   "source": [
    "# Viendo que esta todo ok, pasamos a reemplazar valores numericos a nombres"
   ]
  },
  {
   "cell_type": "code",
   "execution_count": 201,
   "metadata": {
    "executionInfo": {
     "elapsed": 18,
     "status": "ok",
     "timestamp": 1637446436726,
     "user": {
      "displayName": "Javier Laudadío",
      "photoUrl": "https://lh3.googleusercontent.com/a/default-user=s64",
      "userId": "07494710345697859273"
     },
     "user_tz": 180
    },
    "id": "hedCPLxdjnb8"
   },
   "outputs": [],
   "source": [
    "df.sort_values(by=['Año', 'Mes', 'Día', 'Hora'], inplace=True)"
   ]
  },
  {
   "cell_type": "code",
   "execution_count": 202,
   "metadata": {
    "executionInfo": {
     "elapsed": 19,
     "status": "ok",
     "timestamp": 1637446436727,
     "user": {
      "displayName": "Javier Laudadío",
      "photoUrl": "https://lh3.googleusercontent.com/a/default-user=s64",
      "userId": "07494710345697859273"
     },
     "user_tz": 180
    },
    "id": "-PxIp36bdeTR"
   },
   "outputs": [],
   "source": [
    "df['Hora'].replace(n_horas, horas, inplace=True)\n",
    "df['Día'].replace(n_dias_mes, dias_mes, inplace=True)\n",
    "df['Mes'].replace(n_meses, meses, inplace=True)"
   ]
  },
  {
   "cell_type": "code",
   "execution_count": 203,
   "metadata": {
    "colab": {
     "base_uri": "https://localhost:8080/",
     "height": 204
    },
    "executionInfo": {
     "elapsed": 19,
     "status": "ok",
     "timestamp": 1637446436728,
     "user": {
      "displayName": "Javier Laudadío",
      "photoUrl": "https://lh3.googleusercontent.com/a/default-user=s64",
      "userId": "07494710345697859273"
     },
     "user_tz": 180
    },
    "id": "DNue9K7TaM-j",
    "outputId": "f4277302-d845-47bf-af68-739e9299c447"
   },
   "outputs": [
    {
     "data": {
      "text/html": [
       "<div>\n",
       "<style scoped>\n",
       "    .dataframe tbody tr th:only-of-type {\n",
       "        vertical-align: middle;\n",
       "    }\n",
       "\n",
       "    .dataframe tbody tr th {\n",
       "        vertical-align: top;\n",
       "    }\n",
       "\n",
       "    .dataframe thead th {\n",
       "        text-align: right;\n",
       "    }\n",
       "</style>\n",
       "<table border=\"1\" class=\"dataframe\">\n",
       "  <thead>\n",
       "    <tr style=\"text-align: right;\">\n",
       "      <th></th>\n",
       "      <th>HORA</th>\n",
       "      <th>Egreso</th>\n",
       "      <th>Ingreso</th>\n",
       "      <th>fecha_habil</th>\n",
       "      <th>Cantidad</th>\n",
       "      <th>domingo</th>\n",
       "      <th>jueves</th>\n",
       "      <th>lunes</th>\n",
       "      <th>martes</th>\n",
       "      <th>miercoles</th>\n",
       "      <th>sabado</th>\n",
       "      <th>viernes</th>\n",
       "      <th>Flores</th>\n",
       "      <th>Palermo</th>\n",
       "      <th>Retiro</th>\n",
       "      <th>Año</th>\n",
       "      <th>Mes</th>\n",
       "      <th>Día</th>\n",
       "      <th>Hora</th>\n",
       "    </tr>\n",
       "  </thead>\n",
       "  <tbody>\n",
       "    <tr>\n",
       "      <th>0</th>\n",
       "      <td>2020-08-01 00:00:00</td>\n",
       "      <td>1</td>\n",
       "      <td>0</td>\n",
       "      <td>0</td>\n",
       "      <td>28</td>\n",
       "      <td>0</td>\n",
       "      <td>0</td>\n",
       "      <td>0</td>\n",
       "      <td>0</td>\n",
       "      <td>0</td>\n",
       "      <td>1</td>\n",
       "      <td>0</td>\n",
       "      <td>0</td>\n",
       "      <td>1</td>\n",
       "      <td>0</td>\n",
       "      <td>2020</td>\n",
       "      <td>mes_8</td>\n",
       "      <td>dia_1</td>\n",
       "      <td>0am</td>\n",
       "    </tr>\n",
       "    <tr>\n",
       "      <th>1</th>\n",
       "      <td>2020-08-01 00:00:00</td>\n",
       "      <td>0</td>\n",
       "      <td>1</td>\n",
       "      <td>0</td>\n",
       "      <td>655</td>\n",
       "      <td>0</td>\n",
       "      <td>0</td>\n",
       "      <td>0</td>\n",
       "      <td>0</td>\n",
       "      <td>0</td>\n",
       "      <td>1</td>\n",
       "      <td>0</td>\n",
       "      <td>1</td>\n",
       "      <td>0</td>\n",
       "      <td>0</td>\n",
       "      <td>2020</td>\n",
       "      <td>mes_8</td>\n",
       "      <td>dia_1</td>\n",
       "      <td>0am</td>\n",
       "    </tr>\n",
       "    <tr>\n",
       "      <th>2</th>\n",
       "      <td>2020-08-01 00:00:00</td>\n",
       "      <td>1</td>\n",
       "      <td>0</td>\n",
       "      <td>0</td>\n",
       "      <td>706</td>\n",
       "      <td>0</td>\n",
       "      <td>0</td>\n",
       "      <td>0</td>\n",
       "      <td>0</td>\n",
       "      <td>0</td>\n",
       "      <td>1</td>\n",
       "      <td>0</td>\n",
       "      <td>1</td>\n",
       "      <td>0</td>\n",
       "      <td>0</td>\n",
       "      <td>2020</td>\n",
       "      <td>mes_8</td>\n",
       "      <td>dia_1</td>\n",
       "      <td>0am</td>\n",
       "    </tr>\n",
       "    <tr>\n",
       "      <th>3</th>\n",
       "      <td>2020-08-01 00:00:00</td>\n",
       "      <td>0</td>\n",
       "      <td>1</td>\n",
       "      <td>0</td>\n",
       "      <td>352</td>\n",
       "      <td>0</td>\n",
       "      <td>0</td>\n",
       "      <td>0</td>\n",
       "      <td>0</td>\n",
       "      <td>0</td>\n",
       "      <td>1</td>\n",
       "      <td>0</td>\n",
       "      <td>0</td>\n",
       "      <td>0</td>\n",
       "      <td>1</td>\n",
       "      <td>2020</td>\n",
       "      <td>mes_8</td>\n",
       "      <td>dia_1</td>\n",
       "      <td>0am</td>\n",
       "    </tr>\n",
       "    <tr>\n",
       "      <th>4</th>\n",
       "      <td>2020-08-01 00:00:00</td>\n",
       "      <td>1</td>\n",
       "      <td>0</td>\n",
       "      <td>0</td>\n",
       "      <td>358</td>\n",
       "      <td>0</td>\n",
       "      <td>0</td>\n",
       "      <td>0</td>\n",
       "      <td>0</td>\n",
       "      <td>0</td>\n",
       "      <td>1</td>\n",
       "      <td>0</td>\n",
       "      <td>0</td>\n",
       "      <td>0</td>\n",
       "      <td>1</td>\n",
       "      <td>2020</td>\n",
       "      <td>mes_8</td>\n",
       "      <td>dia_1</td>\n",
       "      <td>0am</td>\n",
       "    </tr>\n",
       "  </tbody>\n",
       "</table>\n",
       "</div>"
      ],
      "text/plain": [
       "                  HORA  Egreso  Ingreso  fecha_habil  Cantidad  domingo  \\\n",
       "0  2020-08-01 00:00:00       1        0            0        28        0   \n",
       "1  2020-08-01 00:00:00       0        1            0       655        0   \n",
       "2  2020-08-01 00:00:00       1        0            0       706        0   \n",
       "3  2020-08-01 00:00:00       0        1            0       352        0   \n",
       "4  2020-08-01 00:00:00       1        0            0       358        0   \n",
       "\n",
       "   jueves  lunes  martes  miercoles  sabado  viernes  Flores  Palermo  Retiro  \\\n",
       "0       0      0       0          0       1        0       0        1       0   \n",
       "1       0      0       0          0       1        0       1        0       0   \n",
       "2       0      0       0          0       1        0       1        0       0   \n",
       "3       0      0       0          0       1        0       0        0       1   \n",
       "4       0      0       0          0       1        0       0        0       1   \n",
       "\n",
       "    Año    Mes    Día Hora  \n",
       "0  2020  mes_8  dia_1  0am  \n",
       "1  2020  mes_8  dia_1  0am  \n",
       "2  2020  mes_8  dia_1  0am  \n",
       "3  2020  mes_8  dia_1  0am  \n",
       "4  2020  mes_8  dia_1  0am  "
      ]
     },
     "execution_count": 203,
     "metadata": {},
     "output_type": "execute_result"
    }
   ],
   "source": [
    "df.head() #chv"
   ]
  },
  {
   "cell_type": "code",
   "execution_count": 204,
   "metadata": {
    "executionInfo": {
     "elapsed": 19,
     "status": "ok",
     "timestamp": 1637446436728,
     "user": {
      "displayName": "Javier Laudadío",
      "photoUrl": "https://lh3.googleusercontent.com/a/default-user=s64",
      "userId": "07494710345697859273"
     },
     "user_tz": 180
    },
    "id": "zcxukFg1h-mj"
   },
   "outputs": [],
   "source": [
    "#  Luego de probar con el tipo de datos, logramos hacer los reemplazos de forma correcta, y ya estamos listo para \"dummizar\""
   ]
  },
  {
   "cell_type": "code",
   "execution_count": 205,
   "metadata": {
    "executionInfo": {
     "elapsed": 19,
     "status": "ok",
     "timestamp": 1637446436729,
     "user": {
      "displayName": "Javier Laudadío",
      "photoUrl": "https://lh3.googleusercontent.com/a/default-user=s64",
      "userId": "07494710345697859273"
     },
     "user_tz": 180
    },
    "id": "hu11r5gGURIO"
   },
   "outputs": [],
   "source": [
    "d_año = pd.get_dummies(df['Año']) # Para mejor el modelo conviene pasar todo a dummie cuando tratamos con tiempo\n",
    "df = pd.concat([df,d_año],axis = 1) #Se probó dejando la fecha pero no funcionaba y teniamos que pasarlo a un valor nuemrico tipo timestamp"
   ]
  },
  {
   "cell_type": "code",
   "execution_count": 206,
   "metadata": {
    "executionInfo": {
     "elapsed": 21,
     "status": "ok",
     "timestamp": 1637446436731,
     "user": {
      "displayName": "Javier Laudadío",
      "photoUrl": "https://lh3.googleusercontent.com/a/default-user=s64",
      "userId": "07494710345697859273"
     },
     "user_tz": 180
    },
    "id": "nT0KDiPXWD6a"
   },
   "outputs": [],
   "source": [
    "d_mes = pd.get_dummies(df['Mes'])\n",
    "df = pd.concat([df,d_mes],axis = 1)"
   ]
  },
  {
   "cell_type": "code",
   "execution_count": 207,
   "metadata": {
    "executionInfo": {
     "elapsed": 22,
     "status": "ok",
     "timestamp": 1637446436732,
     "user": {
      "displayName": "Javier Laudadío",
      "photoUrl": "https://lh3.googleusercontent.com/a/default-user=s64",
      "userId": "07494710345697859273"
     },
     "user_tz": 180
    },
    "id": "FPHlSBbWWI7s"
   },
   "outputs": [],
   "source": [
    "d_dia = pd.get_dummies(df['Día'])\n",
    "df = pd.concat([df,d_dia],axis = 1)"
   ]
  },
  {
   "cell_type": "code",
   "execution_count": 208,
   "metadata": {
    "executionInfo": {
     "elapsed": 23,
     "status": "ok",
     "timestamp": 1637446436733,
     "user": {
      "displayName": "Javier Laudadío",
      "photoUrl": "https://lh3.googleusercontent.com/a/default-user=s64",
      "userId": "07494710345697859273"
     },
     "user_tz": 180
    },
    "id": "MovRhOqlWOls"
   },
   "outputs": [],
   "source": [
    "d_hora = pd.get_dummies(df['Hora'])\n",
    "df = pd.concat([df,d_hora],axis = 1)"
   ]
  },
  {
   "cell_type": "code",
   "execution_count": 209,
   "metadata": {
    "executionInfo": {
     "elapsed": 476,
     "status": "ok",
     "timestamp": 1637446437187,
     "user": {
      "displayName": "Javier Laudadío",
      "photoUrl": "https://lh3.googleusercontent.com/a/default-user=s64",
      "userId": "07494710345697859273"
     },
     "user_tz": 180
    },
    "id": "h9DaqvWBV5U7"
   },
   "outputs": [],
   "source": [
    "df.drop(columns={'HORA', 'Hora', 'Día', 'Mes', 'Año'}, inplace=True)"
   ]
  },
  {
   "cell_type": "code",
   "execution_count": 210,
   "metadata": {
    "colab": {
     "base_uri": "https://localhost:8080/"
    },
    "executionInfo": {
     "elapsed": 13,
     "status": "ok",
     "timestamp": 1637446437188,
     "user": {
      "displayName": "Javier Laudadío",
      "photoUrl": "https://lh3.googleusercontent.com/a/default-user=s64",
      "userId": "07494710345697859273"
     },
     "user_tz": 180
    },
    "id": "1ANBOk3zWk4d",
    "outputId": "015df1fd-cb9b-4884-e6dc-11db4e17d524"
   },
   "outputs": [
    {
     "data": {
      "text/plain": [
       "(52508, 83)"
      ]
     },
     "execution_count": 210,
     "metadata": {},
     "output_type": "execute_result"
    }
   ],
   "source": [
    "np.shape(df)"
   ]
  },
  {
   "cell_type": "code",
   "execution_count": 211,
   "metadata": {
    "colab": {
     "base_uri": "https://localhost:8080/",
     "height": 408
    },
    "executionInfo": {
     "elapsed": 10,
     "status": "ok",
     "timestamp": 1637446437188,
     "user": {
      "displayName": "Javier Laudadío",
      "photoUrl": "https://lh3.googleusercontent.com/a/default-user=s64",
      "userId": "07494710345697859273"
     },
     "user_tz": 180
    },
    "id": "5IIAWazZWqPP",
    "outputId": "09e1c24a-bbb2-4568-a271-f52da55c6773"
   },
   "outputs": [
    {
     "data": {
      "text/html": [
       "<div>\n",
       "<style scoped>\n",
       "    .dataframe tbody tr th:only-of-type {\n",
       "        vertical-align: middle;\n",
       "    }\n",
       "\n",
       "    .dataframe tbody tr th {\n",
       "        vertical-align: top;\n",
       "    }\n",
       "\n",
       "    .dataframe thead th {\n",
       "        text-align: right;\n",
       "    }\n",
       "</style>\n",
       "<table border=\"1\" class=\"dataframe\">\n",
       "  <thead>\n",
       "    <tr style=\"text-align: right;\">\n",
       "      <th></th>\n",
       "      <th>Egreso</th>\n",
       "      <th>Ingreso</th>\n",
       "      <th>fecha_habil</th>\n",
       "      <th>Cantidad</th>\n",
       "      <th>domingo</th>\n",
       "      <th>jueves</th>\n",
       "      <th>lunes</th>\n",
       "      <th>martes</th>\n",
       "      <th>miercoles</th>\n",
       "      <th>sabado</th>\n",
       "      <th>...</th>\n",
       "      <th>22pm</th>\n",
       "      <th>23pm</th>\n",
       "      <th>2am</th>\n",
       "      <th>3am</th>\n",
       "      <th>4am</th>\n",
       "      <th>5am</th>\n",
       "      <th>6am</th>\n",
       "      <th>7am</th>\n",
       "      <th>8am</th>\n",
       "      <th>9am</th>\n",
       "    </tr>\n",
       "  </thead>\n",
       "  <tbody>\n",
       "    <tr>\n",
       "      <th>0</th>\n",
       "      <td>1</td>\n",
       "      <td>0</td>\n",
       "      <td>0</td>\n",
       "      <td>28</td>\n",
       "      <td>0</td>\n",
       "      <td>0</td>\n",
       "      <td>0</td>\n",
       "      <td>0</td>\n",
       "      <td>0</td>\n",
       "      <td>1</td>\n",
       "      <td>...</td>\n",
       "      <td>0</td>\n",
       "      <td>0</td>\n",
       "      <td>0</td>\n",
       "      <td>0</td>\n",
       "      <td>0</td>\n",
       "      <td>0</td>\n",
       "      <td>0</td>\n",
       "      <td>0</td>\n",
       "      <td>0</td>\n",
       "      <td>0</td>\n",
       "    </tr>\n",
       "    <tr>\n",
       "      <th>1</th>\n",
       "      <td>0</td>\n",
       "      <td>1</td>\n",
       "      <td>0</td>\n",
       "      <td>655</td>\n",
       "      <td>0</td>\n",
       "      <td>0</td>\n",
       "      <td>0</td>\n",
       "      <td>0</td>\n",
       "      <td>0</td>\n",
       "      <td>1</td>\n",
       "      <td>...</td>\n",
       "      <td>0</td>\n",
       "      <td>0</td>\n",
       "      <td>0</td>\n",
       "      <td>0</td>\n",
       "      <td>0</td>\n",
       "      <td>0</td>\n",
       "      <td>0</td>\n",
       "      <td>0</td>\n",
       "      <td>0</td>\n",
       "      <td>0</td>\n",
       "    </tr>\n",
       "    <tr>\n",
       "      <th>2</th>\n",
       "      <td>1</td>\n",
       "      <td>0</td>\n",
       "      <td>0</td>\n",
       "      <td>706</td>\n",
       "      <td>0</td>\n",
       "      <td>0</td>\n",
       "      <td>0</td>\n",
       "      <td>0</td>\n",
       "      <td>0</td>\n",
       "      <td>1</td>\n",
       "      <td>...</td>\n",
       "      <td>0</td>\n",
       "      <td>0</td>\n",
       "      <td>0</td>\n",
       "      <td>0</td>\n",
       "      <td>0</td>\n",
       "      <td>0</td>\n",
       "      <td>0</td>\n",
       "      <td>0</td>\n",
       "      <td>0</td>\n",
       "      <td>0</td>\n",
       "    </tr>\n",
       "    <tr>\n",
       "      <th>3</th>\n",
       "      <td>0</td>\n",
       "      <td>1</td>\n",
       "      <td>0</td>\n",
       "      <td>352</td>\n",
       "      <td>0</td>\n",
       "      <td>0</td>\n",
       "      <td>0</td>\n",
       "      <td>0</td>\n",
       "      <td>0</td>\n",
       "      <td>1</td>\n",
       "      <td>...</td>\n",
       "      <td>0</td>\n",
       "      <td>0</td>\n",
       "      <td>0</td>\n",
       "      <td>0</td>\n",
       "      <td>0</td>\n",
       "      <td>0</td>\n",
       "      <td>0</td>\n",
       "      <td>0</td>\n",
       "      <td>0</td>\n",
       "      <td>0</td>\n",
       "    </tr>\n",
       "    <tr>\n",
       "      <th>4</th>\n",
       "      <td>1</td>\n",
       "      <td>0</td>\n",
       "      <td>0</td>\n",
       "      <td>358</td>\n",
       "      <td>0</td>\n",
       "      <td>0</td>\n",
       "      <td>0</td>\n",
       "      <td>0</td>\n",
       "      <td>0</td>\n",
       "      <td>1</td>\n",
       "      <td>...</td>\n",
       "      <td>0</td>\n",
       "      <td>0</td>\n",
       "      <td>0</td>\n",
       "      <td>0</td>\n",
       "      <td>0</td>\n",
       "      <td>0</td>\n",
       "      <td>0</td>\n",
       "      <td>0</td>\n",
       "      <td>0</td>\n",
       "      <td>0</td>\n",
       "    </tr>\n",
       "    <tr>\n",
       "      <th>5</th>\n",
       "      <td>1</td>\n",
       "      <td>0</td>\n",
       "      <td>0</td>\n",
       "      <td>29</td>\n",
       "      <td>0</td>\n",
       "      <td>0</td>\n",
       "      <td>0</td>\n",
       "      <td>0</td>\n",
       "      <td>0</td>\n",
       "      <td>1</td>\n",
       "      <td>...</td>\n",
       "      <td>0</td>\n",
       "      <td>0</td>\n",
       "      <td>0</td>\n",
       "      <td>0</td>\n",
       "      <td>0</td>\n",
       "      <td>0</td>\n",
       "      <td>0</td>\n",
       "      <td>0</td>\n",
       "      <td>0</td>\n",
       "      <td>0</td>\n",
       "    </tr>\n",
       "    <tr>\n",
       "      <th>6</th>\n",
       "      <td>1</td>\n",
       "      <td>0</td>\n",
       "      <td>0</td>\n",
       "      <td>439</td>\n",
       "      <td>0</td>\n",
       "      <td>0</td>\n",
       "      <td>0</td>\n",
       "      <td>0</td>\n",
       "      <td>0</td>\n",
       "      <td>1</td>\n",
       "      <td>...</td>\n",
       "      <td>0</td>\n",
       "      <td>0</td>\n",
       "      <td>0</td>\n",
       "      <td>0</td>\n",
       "      <td>0</td>\n",
       "      <td>0</td>\n",
       "      <td>0</td>\n",
       "      <td>0</td>\n",
       "      <td>0</td>\n",
       "      <td>0</td>\n",
       "    </tr>\n",
       "    <tr>\n",
       "      <th>7</th>\n",
       "      <td>0</td>\n",
       "      <td>1</td>\n",
       "      <td>0</td>\n",
       "      <td>422</td>\n",
       "      <td>0</td>\n",
       "      <td>0</td>\n",
       "      <td>0</td>\n",
       "      <td>0</td>\n",
       "      <td>0</td>\n",
       "      <td>1</td>\n",
       "      <td>...</td>\n",
       "      <td>0</td>\n",
       "      <td>0</td>\n",
       "      <td>0</td>\n",
       "      <td>0</td>\n",
       "      <td>0</td>\n",
       "      <td>0</td>\n",
       "      <td>0</td>\n",
       "      <td>0</td>\n",
       "      <td>0</td>\n",
       "      <td>0</td>\n",
       "    </tr>\n",
       "    <tr>\n",
       "      <th>8</th>\n",
       "      <td>0</td>\n",
       "      <td>1</td>\n",
       "      <td>0</td>\n",
       "      <td>287</td>\n",
       "      <td>0</td>\n",
       "      <td>0</td>\n",
       "      <td>0</td>\n",
       "      <td>0</td>\n",
       "      <td>0</td>\n",
       "      <td>1</td>\n",
       "      <td>...</td>\n",
       "      <td>0</td>\n",
       "      <td>0</td>\n",
       "      <td>0</td>\n",
       "      <td>0</td>\n",
       "      <td>0</td>\n",
       "      <td>0</td>\n",
       "      <td>0</td>\n",
       "      <td>0</td>\n",
       "      <td>0</td>\n",
       "      <td>0</td>\n",
       "    </tr>\n",
       "    <tr>\n",
       "      <th>9</th>\n",
       "      <td>1</td>\n",
       "      <td>0</td>\n",
       "      <td>0</td>\n",
       "      <td>290</td>\n",
       "      <td>0</td>\n",
       "      <td>0</td>\n",
       "      <td>0</td>\n",
       "      <td>0</td>\n",
       "      <td>0</td>\n",
       "      <td>1</td>\n",
       "      <td>...</td>\n",
       "      <td>0</td>\n",
       "      <td>0</td>\n",
       "      <td>0</td>\n",
       "      <td>0</td>\n",
       "      <td>0</td>\n",
       "      <td>0</td>\n",
       "      <td>0</td>\n",
       "      <td>0</td>\n",
       "      <td>0</td>\n",
       "      <td>0</td>\n",
       "    </tr>\n",
       "  </tbody>\n",
       "</table>\n",
       "<p>10 rows × 83 columns</p>\n",
       "</div>"
      ],
      "text/plain": [
       "   Egreso  Ingreso  fecha_habil  Cantidad  domingo  jueves  lunes  martes  \\\n",
       "0       1        0            0        28        0       0      0       0   \n",
       "1       0        1            0       655        0       0      0       0   \n",
       "2       1        0            0       706        0       0      0       0   \n",
       "3       0        1            0       352        0       0      0       0   \n",
       "4       1        0            0       358        0       0      0       0   \n",
       "5       1        0            0        29        0       0      0       0   \n",
       "6       1        0            0       439        0       0      0       0   \n",
       "7       0        1            0       422        0       0      0       0   \n",
       "8       0        1            0       287        0       0      0       0   \n",
       "9       1        0            0       290        0       0      0       0   \n",
       "\n",
       "   miercoles  sabado  ...  22pm  23pm  2am  3am  4am  5am  6am  7am  8am  9am  \n",
       "0          0       1  ...     0     0    0    0    0    0    0    0    0    0  \n",
       "1          0       1  ...     0     0    0    0    0    0    0    0    0    0  \n",
       "2          0       1  ...     0     0    0    0    0    0    0    0    0    0  \n",
       "3          0       1  ...     0     0    0    0    0    0    0    0    0    0  \n",
       "4          0       1  ...     0     0    0    0    0    0    0    0    0    0  \n",
       "5          0       1  ...     0     0    0    0    0    0    0    0    0    0  \n",
       "6          0       1  ...     0     0    0    0    0    0    0    0    0    0  \n",
       "7          0       1  ...     0     0    0    0    0    0    0    0    0    0  \n",
       "8          0       1  ...     0     0    0    0    0    0    0    0    0    0  \n",
       "9          0       1  ...     0     0    0    0    0    0    0    0    0    0  \n",
       "\n",
       "[10 rows x 83 columns]"
      ]
     },
     "execution_count": 211,
     "metadata": {},
     "output_type": "execute_result"
    }
   ],
   "source": [
    "df.head(10)"
   ]
  },
  {
   "cell_type": "code",
   "execution_count": 212,
   "metadata": {
    "colab": {
     "base_uri": "https://localhost:8080/",
     "height": 297
    },
    "executionInfo": {
     "elapsed": 450,
     "status": "ok",
     "timestamp": 1637446437630,
     "user": {
      "displayName": "Javier Laudadío",
      "photoUrl": "https://lh3.googleusercontent.com/a/default-user=s64",
      "userId": "07494710345697859273"
     },
     "user_tz": 180
    },
    "id": "Pjscd645l0e5",
    "outputId": "9c227c97-e4b1-41a0-e08d-73aa7e07b126"
   },
   "outputs": [
    {
     "data": {
      "image/png": "[encoded data removed]",
      "text/plain": [
       "<Figure size 432x288 with 1 Axes>"
      ]
     },
     "metadata": {},
     "output_type": "display_data"
    }
   ],
   "source": [
    "sns.kdeplot(df.Cantidad, color=\"b\", shade = True)\n",
    "plt.xlabel(\"Cantidad\")\n",
    "plt.title('Distribucion de Cantidades',size = 20)\n",
    "plt.show()"
   ]
  },
  {
   "cell_type": "code",
   "execution_count": 213,
   "metadata": {
    "colab": {
     "base_uri": "https://localhost:8080/",
     "height": 633
    },
    "executionInfo": {
     "elapsed": 1950,
     "status": "ok",
     "timestamp": 1637446439577,
     "user": {
      "displayName": "Javier Laudadío",
      "photoUrl": "https://lh3.googleusercontent.com/a/default-user=s64",
      "userId": "07494710345697859273"
     },
     "user_tz": 180
    },
    "id": "88ksNoUCmBqE",
    "outputId": "888bb387-db27-4ab7-fe47-36164fcfc32e"
   },
   "outputs": [
    {
     "data": {
      "image/png": "[encoded data removed]",
      "text/plain": [
       "<Figure size 720x720 with 2 Axes>"
      ]
     },
     "metadata": {},
     "output_type": "display_data"
    }
   ],
   "source": [
    "plt.figure(figsize=(10,10))\n",
    "g = sns.heatmap(df.corr(),annot=False)  # corre en 31 seg, demasiada info, probamos desactivar valores y corre en 3 seg, peor aun así no es muy util"
   ]
  },
  {
   "cell_type": "code",
   "execution_count": 214,
   "metadata": {
    "colab": {
     "base_uri": "https://localhost:8080/",
     "height": 317
    },
    "executionInfo": {
     "elapsed": 6032,
     "status": "ok",
     "timestamp": 1637446445593,
     "user": {
      "displayName": "Javier Laudadío",
      "photoUrl": "https://lh3.googleusercontent.com/a/default-user=s64",
      "userId": "07494710345697859273"
     },
     "user_tz": 180
    },
    "id": "ct5Czep9YHEH",
    "outputId": "183f9948-450e-495b-c03d-80ed7c76a188"
   },
   "outputs": [
    {
     "data": {
      "text/plain": [
       "<AxesSubplot:>"
      ]
     },
     "execution_count": 214,
     "metadata": {},
     "output_type": "execute_result"
    },
    {
     "data": {
      "image/png": "[encoded data removed]",
      "text/plain": [
       "<Figure size 432x288 with 2 Axes>"
      ]
     },
     "metadata": {},
     "output_type": "display_data"
    }
   ],
   "source": [
    "sns.heatmap(df)"
   ]
  },
  {
   "cell_type": "code",
   "execution_count": 215,
   "metadata": {
    "executionInfo": {
     "elapsed": 10,
     "status": "ok",
     "timestamp": 1637446445593,
     "user": {
      "displayName": "Javier Laudadío",
      "photoUrl": "https://lh3.googleusercontent.com/a/default-user=s64",
      "userId": "07494710345697859273"
     },
     "user_tz": 180
    },
    "id": "r77S4TnhkG11"
   },
   "outputs": [],
   "source": [
    "# Como era de esperar, Cantidad esta en una escala muy superior al resto de las features (entre 0 y 1)\n",
    "# Para escalara podríamos usar MaxMin, pero como queremos minimizar la influencia de los valores anómalos que vimos en el EDA, usaremos StandarScaler"
   ]
  },
  {
   "cell_type": "code",
   "execution_count": 216,
   "metadata": {
    "executionInfo": {
     "elapsed": 11,
     "status": "ok",
     "timestamp": 1637446445595,
     "user": {
      "displayName": "Javier Laudadío",
      "photoUrl": "https://lh3.googleusercontent.com/a/default-user=s64",
      "userId": "07494710345697859273"
     },
     "user_tz": 180
    },
    "id": "QhwzsOMTnLLZ"
   },
   "outputs": [],
   "source": [
    "x = df\n",
    "y = df.Cantidad\n",
    "x.drop(columns='Cantidad', inplace=True)"
   ]
  },
  {
   "cell_type": "code",
   "execution_count": 217,
   "metadata": {
    "executionInfo": {
     "elapsed": 11,
     "status": "ok",
     "timestamp": 1637446445595,
     "user": {
      "displayName": "Javier Laudadío",
      "photoUrl": "https://lh3.googleusercontent.com/a/default-user=s64",
      "userId": "07494710345697859273"
     },
     "user_tz": 180
    },
    "id": "n3PG_hSX-AMR"
   },
   "outputs": [],
   "source": [
    "#  <<<<<<<<<<<<<<<<<<<<<<<<<<<<<<<<<<<<<<<<<<<<<<<<<<<<<<<<<<< Punto de quiebre >>>>>>>>>>>>>>>>>>>>>>>>>>>>>>>>>>>>>>>>>>>>>>>>>>>>>>>"
   ]
  },
  {
   "cell_type": "code",
   "execution_count": 218,
   "metadata": {
    "executionInfo": {
     "elapsed": 11,
     "status": "ok",
     "timestamp": 1637446445596,
     "user": {
      "displayName": "Javier Laudadío",
      "photoUrl": "https://lh3.googleusercontent.com/a/default-user=s64",
      "userId": "07494710345697859273"
     },
     "user_tz": 180
    },
    "id": "L0Yh7bQaU586"
   },
   "outputs": [],
   "source": [
    "xtrain, xtest, ytrain, ytest = train_test_split(x, y, test_size=0.20, random_state = 33) #En principio se jugó sin rnd state, pero luego los resultados fueron variando, x lo que se decidió usar para tener \"reproducibilidad\""
   ]
  },
  {
   "cell_type": "code",
   "execution_count": 219,
   "metadata": {
    "executionInfo": {
     "elapsed": 12,
     "status": "ok",
     "timestamp": 1637446445597,
     "user": {
      "displayName": "Javier Laudadío",
      "photoUrl": "https://lh3.googleusercontent.com/a/default-user=s64",
      "userId": "07494710345697859273"
     },
     "user_tz": 180
    },
    "id": "Z6SPAHXnVLaD"
   },
   "outputs": [],
   "source": [
    "scaler = preprocessing.StandardScaler().fit(xtrain)\n",
    "xtrain_scal = scaler.transform(xtrain)\n",
    "xtest_scal = scaler.transform(xtest)"
   ]
  },
  {
   "cell_type": "code",
   "execution_count": 220,
   "metadata": {
    "colab": {
     "base_uri": "https://localhost:8080/",
     "height": 611
    },
    "executionInfo": {
     "elapsed": 6418,
     "status": "ok",
     "timestamp": 1637446452004,
     "user": {
      "displayName": "Javier Laudadío",
      "photoUrl": "https://lh3.googleusercontent.com/a/default-user=s64",
      "userId": "07494710345697859273"
     },
     "user_tz": 180
    },
    "id": "JkiAtVt01bXF",
    "outputId": "6544c310-a5d5-4489-cf64-1d44734f4142"
   },
   "outputs": [
    {
     "data": {
      "text/plain": [
       "<AxesSubplot:>"
      ]
     },
     "execution_count": 220,
     "metadata": {},
     "output_type": "execute_result"
    },
    {
     "data": {
      "image/png": "[encoded data removed]",
      "text/plain": [
       "<Figure size 720x720 with 2 Axes>"
      ]
     },
     "metadata": {},
     "output_type": "display_data"
    }
   ],
   "source": [
    "plt.figure(figsize=(10,10))\n",
    "sns.heatmap(xtrain_scal)"
   ]
  },
  {
   "cell_type": "markdown",
   "metadata": {},
   "source": [
    "# K-Nearest Neighbor (KNN)"
   ]
  },
  {
   "cell_type": "code",
   "execution_count": 243,
   "metadata": {
    "executionInfo": {
     "elapsed": 16,
     "status": "ok",
     "timestamp": 1637446452005,
     "user": {
      "displayName": "Javier Laudadío",
      "photoUrl": "https://lh3.googleusercontent.com/a/default-user=s64",
      "userId": "07494710345697859273"
     },
     "user_tz": 180
    },
    "id": "njBQsVWc14-J"
   },
   "outputs": [],
   "source": [
    "#KNN Regressor(weights = 'distance')"
   ]
  },
  {
   "cell_type": "code",
   "execution_count": 229,
   "metadata": {
    "executionInfo": {
     "elapsed": 17,
     "status": "ok",
     "timestamp": 1637446452007,
     "user": {
      "displayName": "Javier Laudadío",
      "photoUrl": "https://lh3.googleusercontent.com/a/default-user=s64",
      "userId": "07494710345697859273"
     },
     "user_tz": 180
    },
    "id": "I-_p4uSe31pr"
   },
   "outputs": [],
   "source": [
    " knn = KNeighborsRegressor(weights = \"distance\") \n",
    " parameters_k = np.arange(10,31,4)\n",
    " parameters_knn = [{'n_neighbors': parameters_k}]\n",
    " regressor_knn = GridSearchCV(knn, parameters_knn, refit = True, cv=5, verbose=True)"
   ]
  },
  {
   "cell_type": "code",
   "execution_count": 230,
   "metadata": {
    "executionInfo": {
     "elapsed": 17,
     "status": "ok",
     "timestamp": 1637446452008,
     "user": {
      "displayName": "Javier Laudadío",
      "photoUrl": "https://lh3.googleusercontent.com/a/default-user=s64",
      "userId": "07494710345697859273"
     },
     "user_tz": 180
    },
    "id": "xlQSuBeV38xy"
   },
   "outputs": [
    {
     "name": "stdout",
     "output_type": "stream",
     "text": [
      "Fitting 5 folds for each of 6 candidates, totalling 30 fits\n"
     ]
    },
    {
     "name": "stderr",
     "output_type": "stream",
     "text": [
      "[Parallel(n_jobs=1)]: Using backend SequentialBackend with 1 concurrent workers.\n",
      "[Parallel(n_jobs=1)]: Done  30 out of  30 | elapsed: 33.2min finished\n"
     ]
    },
    {
     "data": {
      "text/plain": [
       "GridSearchCV(cv=5, estimator=KNeighborsRegressor(weights='distance'),\n",
       "             param_grid=[{'n_neighbors': array([10, 14, 18, 22, 26, 30])}],\n",
       "             verbose=True)"
      ]
     },
     "execution_count": 230,
     "metadata": {},
     "output_type": "execute_result"
    }
   ],
   "source": [
    " regressor_knn.fit(xtrain_scal, ytrain)"
   ]
  },
  {
   "cell_type": "code",
   "execution_count": 231,
   "metadata": {
    "executionInfo": {
     "elapsed": 17,
     "status": "ok",
     "timestamp": 1637446452008,
     "user": {
      "displayName": "Javier Laudadío",
      "photoUrl": "https://lh3.googleusercontent.com/a/default-user=s64",
      "userId": "07494710345697859273"
     },
     "user_tz": 180
    },
    "id": "Fj0AfUyx4IU_"
   },
   "outputs": [],
   "source": [
    " best_param_1 = regressor_knn.best_params_"
   ]
  },
  {
   "cell_type": "code",
   "execution_count": 232,
   "metadata": {
    "executionInfo": {
     "elapsed": 18,
     "status": "ok",
     "timestamp": 1637446452009,
     "user": {
      "displayName": "Javier Laudadío",
      "photoUrl": "https://lh3.googleusercontent.com/a/default-user=s64",
      "userId": "07494710345697859273"
     },
     "user_tz": 180
    },
    "id": "HvojZ30f4Lvr"
   },
   "outputs": [],
   "source": [
    " r2_1 = regressor_knn.best_score_"
   ]
  },
  {
   "cell_type": "code",
   "execution_count": 244,
   "metadata": {
    "executionInfo": {
     "elapsed": 19,
     "status": "ok",
     "timestamp": 1637446452010,
     "user": {
      "displayName": "Javier Laudadío",
      "photoUrl": "https://lh3.googleusercontent.com/a/default-user=s64",
      "userId": "07494710345697859273"
     },
     "user_tz": 180
    },
    "id": "HPG82ecY7nVj"
   },
   "outputs": [
    {
     "data": {
      "text/plain": [
       "1258.159768082789"
      ]
     },
     "execution_count": 244,
     "metadata": {},
     "output_type": "execute_result"
    }
   ],
   "source": [
    " ypred = regressor_knn.predict(xtest_scal)\n",
    " RMSE_1 = mean_squared_error(ytest, ypred, squared=False)#Squared: con True calcula MSE, con False el RMSE.\n",
    "RMSE_1"
   ]
  },
  {
   "cell_type": "code",
   "execution_count": 234,
   "metadata": {
    "executionInfo": {
     "elapsed": 19,
     "status": "ok",
     "timestamp": 1637446452010,
     "user": {
      "displayName": "Javier Laudadío",
      "photoUrl": "https://lh3.googleusercontent.com/a/default-user=s64",
      "userId": "07494710345697859273"
     },
     "user_tz": 180
    },
    "id": "ZyEtjUlRF2LU"
   },
   "outputs": [
    {
     "name": "stdout",
     "output_type": "stream",
     "text": [
      "{'n_neighbors': 22}\n"
     ]
    }
   ],
   "source": [
    " print(best_param_1)"
   ]
  },
  {
   "cell_type": "code",
   "execution_count": 236,
   "metadata": {
    "executionInfo": {
     "elapsed": 19,
     "status": "ok",
     "timestamp": 1637446452011,
     "user": {
      "displayName": "Javier Laudadío",
      "photoUrl": "https://lh3.googleusercontent.com/a/default-user=s64",
      "userId": "07494710345697859273"
     },
     "user_tz": 180
    },
    "id": "ZNZEwzxH4R0I"
   },
   "outputs": [],
   "source": [
    "# KNN Regressor (weights = \"uniform\")"
   ]
  },
  {
   "cell_type": "code",
   "execution_count": 237,
   "metadata": {
    "executionInfo": {
     "elapsed": 20,
     "status": "ok",
     "timestamp": 1637446452012,
     "user": {
      "displayName": "Javier Laudadío",
      "photoUrl": "https://lh3.googleusercontent.com/a/default-user=s64",
      "userId": "07494710345697859273"
     },
     "user_tz": 180
    },
    "id": "2DVnnNR4o3s7"
   },
   "outputs": [],
   "source": [
    "#  Probamos el mismo setup, modificando los pesos, para que sean proporcionales a la distancia, ya que, en teoría, el scaler nos minimiza la influencia de los outliers"
   ]
  },
  {
   "cell_type": "code",
   "execution_count": 238,
   "metadata": {
    "executionInfo": {
     "elapsed": 381,
     "status": "ok",
     "timestamp": 1637446452373,
     "user": {
      "displayName": "Javier Laudadío",
      "photoUrl": "https://lh3.googleusercontent.com/a/default-user=s64",
      "userId": "07494710345697859273"
     },
     "user_tz": 180
    },
    "id": "PKSSs2DA4Wnr"
   },
   "outputs": [],
   "source": [
    "knn_2 = KNeighborsRegressor(weights = \"uniform\")\n",
    "parameters_k_2 = np.arange(19,22,1)\n",
    "parameters_knn_2 = [{'n_neighbors': parameters_k_2}]\n",
    "regressor_knn_2 = GridSearchCV(knn_2, parameters_knn_2, refit = True, cv=5, verbose=True)"
   ]
  },
  {
   "cell_type": "code",
   "execution_count": 239,
   "metadata": {
    "colab": {
     "base_uri": "https://localhost:8080/"
    },
    "executionInfo": {
     "elapsed": 96562,
     "status": "ok",
     "timestamp": 1637446548926,
     "user": {
      "displayName": "Javier Laudadío",
      "photoUrl": "https://lh3.googleusercontent.com/a/default-user=s64",
      "userId": "07494710345697859273"
     },
     "user_tz": 180
    },
    "id": "f9tAP3Tr4667",
    "outputId": "1f6e283d-a8af-4b85-8301-734ddbf49e32"
   },
   "outputs": [
    {
     "name": "stderr",
     "output_type": "stream",
     "text": [
      "[Parallel(n_jobs=1)]: Using backend SequentialBackend with 1 concurrent workers.\n"
     ]
    },
    {
     "name": "stdout",
     "output_type": "stream",
     "text": [
      "Fitting 5 folds for each of 3 candidates, totalling 15 fits\n"
     ]
    },
    {
     "name": "stderr",
     "output_type": "stream",
     "text": [
      "[Parallel(n_jobs=1)]: Done  15 out of  15 | elapsed: 10.8min finished\n"
     ]
    },
    {
     "data": {
      "text/plain": [
       "GridSearchCV(cv=5, estimator=KNeighborsRegressor(),\n",
       "             param_grid=[{'n_neighbors': array([19, 20, 21])}], verbose=True)"
      ]
     },
     "execution_count": 239,
     "metadata": {},
     "output_type": "execute_result"
    }
   ],
   "source": [
    "regressor_knn_2.fit(xtrain_scal, ytrain) # parametros_u (10,31,4) corrió tmb en 3 min 9 seg"
   ]
  },
  {
   "cell_type": "code",
   "execution_count": 240,
   "metadata": {
    "executionInfo": {
     "elapsed": 20,
     "status": "ok",
     "timestamp": 1637446548926,
     "user": {
      "displayName": "Javier Laudadío",
      "photoUrl": "https://lh3.googleusercontent.com/a/default-user=s64",
      "userId": "07494710345697859273"
     },
     "user_tz": 180
    },
    "id": "gRSGuln9rBVR"
   },
   "outputs": [],
   "source": [
    "best_param_2 = regressor_knn_2.best_params_"
   ]
  },
  {
   "cell_type": "code",
   "execution_count": 241,
   "metadata": {
    "executionInfo": {
     "elapsed": 18,
     "status": "ok",
     "timestamp": 1637446548927,
     "user": {
      "displayName": "Javier Laudadío",
      "photoUrl": "https://lh3.googleusercontent.com/a/default-user=s64",
      "userId": "07494710345697859273"
     },
     "user_tz": 180
    },
    "id": "TPB0T-CcrGb3"
   },
   "outputs": [],
   "source": [
    "r2_2 = regressor_knn_2.best_score_"
   ]
  },
  {
   "cell_type": "code",
   "execution_count": 245,
   "metadata": {
    "executionInfo": {
     "elapsed": 10344,
     "status": "ok",
     "timestamp": 1637446559254,
     "user": {
      "displayName": "Javier Laudadío",
      "photoUrl": "https://lh3.googleusercontent.com/a/default-user=s64",
      "userId": "07494710345697859273"
     },
     "user_tz": 180
    },
    "id": "n-Y_yTVQ8YYi"
   },
   "outputs": [
    {
     "name": "stdout",
     "output_type": "stream",
     "text": [
      "En KNN el RSME es: 1212.760649315786\n"
     ]
    }
   ],
   "source": [
    "ypred2 = regressor_knn_2.predict(xtest_scal)\n",
    "RMSE_2 = mean_squared_error(ytest, ypred2, squared=False)#Squared: con True calcula MSE, con False el RMSE.\n",
    "print(\"En KNN el RSME es: \"+ str(RMSE_2))"
   ]
  },
  {
   "cell_type": "code",
   "execution_count": 246,
   "metadata": {
    "colab": {
     "base_uri": "https://localhost:8080/",
     "height": 291
    },
    "executionInfo": {
     "elapsed": 18,
     "status": "ok",
     "timestamp": 1637446559256,
     "user": {
      "displayName": "Javier Laudadío",
      "photoUrl": "https://lh3.googleusercontent.com/a/default-user=s64",
      "userId": "07494710345697859273"
     },
     "user_tz": 180
    },
    "id": "wPEU_tkyoYUs",
    "outputId": "d965313f-154e-47ab-fc57-b6290c0438a2",
    "scrolled": true
   },
   "outputs": [
    {
     "data": {
      "image/png": "[encoded data removed]",
      "text/plain": [
       "<Figure size 432x288 with 1 Axes>"
      ]
     },
     "metadata": {},
     "output_type": "display_data"
    }
   ],
   "source": [
    "plt.scatter(ytest, ypred2)\n",
    "plt.plot(np.arange(np.max(ytest)),np.arange(np.max(ytest)), color = 'r', alpha = 0.5)\n",
    "plt.title('KNN RMSE = '+str(np.round(RMSE_2,2)) +'   R2='+str(np.round(r2_2,4)), size=15)\n",
    "plt.xlabel('etiquetas reales', size=15)\n",
    "plt.ylabel('predicciones', size=15)\n",
    "plt.savefig('KNN.png', dpi=300, bbox_inches='tight') #para exportar la imagen\n",
    "plt.show()"
   ]
  },
  {
   "cell_type": "markdown",
   "metadata": {},
   "source": [
    "# Redes Neuronales"
   ]
  },
  {
   "cell_type": "code",
   "execution_count": 111,
   "metadata": {
    "executionInfo": {
     "elapsed": 13,
     "status": "ok",
     "timestamp": 1637446559256,
     "user": {
      "displayName": "Javier Laudadío",
      "photoUrl": "https://lh3.googleusercontent.com/a/default-user=s64",
      "userId": "07494710345697859273"
     },
     "user_tz": 180
    },
    "id": "8j9f-1kTsCql"
   },
   "outputs": [],
   "source": [
    "import tensorflow as tf #TensorFlow necesita ser instalado para usarse\n",
    "from tensorflow.keras.layers import Activation\n",
    "from tensorflow.keras.layers import BatchNormalization\n",
    "from tensorflow.keras import models\n",
    "from tensorflow.keras import layers\n",
    "from tensorflow.keras.layers import Input, Dense\n",
    "from tensorflow.keras.models import Model\n",
    "from tensorflow.keras import regularizers\n",
    "from tensorflow.keras.layers import Dropout\n",
    "from tensorflow.keras import optimizers"
   ]
  },
  {
   "cell_type": "code",
   "execution_count": 112,
   "metadata": {
    "executionInfo": {
     "elapsed": 14,
     "status": "ok",
     "timestamp": 1637446559257,
     "user": {
      "displayName": "Javier Laudadío",
      "photoUrl": "https://lh3.googleusercontent.com/a/default-user=s64",
      "userId": "07494710345697859273"
     },
     "user_tz": 180
    },
    "id": "ul4QyB3cqnj0"
   },
   "outputs": [],
   "source": [
    "l2_reg = 0.01 #regularizador\n",
    "lrate = 0.001 #learning rate = 1%\n",
    "epochs = 25\n",
    "bachs = 5 #batch (lote)"
   ]
  },
  {
   "cell_type": "code",
   "execution_count": 113,
   "metadata": {
    "colab": {
     "base_uri": "https://localhost:8080/"
    },
    "executionInfo": {
     "elapsed": 378,
     "status": "ok",
     "timestamp": 1637446559622,
     "user": {
      "displayName": "Javier Laudadío",
      "photoUrl": "https://lh3.googleusercontent.com/a/default-user=s64",
      "userId": "07494710345697859273"
     },
     "user_tz": 180
    },
    "id": "9ncwsB0oql_5",
    "outputId": "dd9906af-fc1d-4680-d879-19fb57ac336c"
   },
   "outputs": [
    {
     "name": "stdout",
     "output_type": "stream",
     "text": [
      "Model: \"model_1\"\n",
      "_________________________________________________________________\n",
      " Layer (type)                Output Shape              Param #   \n",
      "=================================================================\n",
      " input_2 (InputLayer)        [(None, 82)]              0         \n",
      "                                                                 \n",
      " dense_3 (Dense)             (None, 5)                 415       \n",
      "                                                                 \n",
      " dense_4 (Dense)             (None, 2)                 12        \n",
      "                                                                 \n",
      " dense_5 (Dense)             (None, 1)                 3         \n",
      "                                                                 \n",
      "=================================================================\n",
      "Total params: 430\n",
      "Trainable params: 430\n",
      "Non-trainable params: 0\n",
      "_________________________________________________________________\n"
     ]
    }
   ],
   "source": [
    "################### Optimizer ###################\n",
    "optim = tf.keras.optimizers.Adam(learning_rate= lrate)\n",
    "################### MODEL ARCHITECTURE ###############\n",
    "# 00) INPUT\n",
    "inputdim = Input(shape=(xtrain_scal.shape[1],))\n",
    "# 01) DENSE LAYER\n",
    "hl_1 = Dense(5, kernel_regularizer=regularizers.l2(l2_reg), activation = 'relu')(inputdim) #se utiliza una función RELU en la primera capa\n",
    "# 03) DENSE LAYER\n",
    "hl_2 = Dense(2, activation = 'linear')(hl_1) #función LINEAR en la segunda capa\n",
    "reg_layer = Dense(1)(hl_2)\n",
    "# 06) AUTOENCODER\n",
    "nn_regressor = Model(inputdim, reg_layer)\n",
    "nn_regressor.summary()\n",
    "nn_regressor.compile(optimizer= optim, loss=tf.keras.metrics.mean_squared_error,\n",
    "              metrics=[tf.keras.metrics.RootMeanSquaredError(name='rmse')])"
   ]
  },
  {
   "cell_type": "code",
   "execution_count": 114,
   "metadata": {
    "colab": {
     "base_uri": "https://localhost:8080/"
    },
    "executionInfo": {
     "elapsed": 390735,
     "status": "ok",
     "timestamp": 1637446950352,
     "user": {
      "displayName": "Javier Laudadío",
      "photoUrl": "https://lh3.googleusercontent.com/a/default-user=s64",
      "userId": "07494710345697859273"
     },
     "user_tz": 180
    },
    "id": "gCYBbeM3sOEL",
    "outputId": "a2e77329-e76b-48c1-9856-bd6b5bdf502b",
    "scrolled": false
   },
   "outputs": [
    {
     "name": "stdout",
     "output_type": "stream",
     "text": [
      "Epoch 1/25\n",
      "8402/8402 [==============================] - 16s 2ms/step - loss: 3139033.0000 - rmse: 1771.7300 - val_loss: 670116.8125 - val_rmse: 818.6013\n",
      "Epoch 2/25\n",
      "8402/8402 [==============================] - 15s 2ms/step - loss: 637857.5625 - rmse: 798.6543 - val_loss: 591073.4375 - val_rmse: 768.8067\n",
      "Epoch 3/25\n",
      "8402/8402 [==============================] - 16s 2ms/step - loss: 575133.7500 - rmse: 758.3697 - val_loss: 536795.5000 - val_rmse: 732.6561\n",
      "Epoch 4/25\n",
      "8402/8402 [==============================] - 15s 2ms/step - loss: 518369.5000 - rmse: 719.9719 - val_loss: 486106.0312 - val_rmse: 697.2059\n",
      "Epoch 5/25\n",
      "8402/8402 [==============================] - 16s 2ms/step - loss: 475776.3438 - rmse: 689.7578 - val_loss: 447969.5312 - val_rmse: 669.2983\n",
      "Epoch 6/25\n",
      "8402/8402 [==============================] - 15s 2ms/step - loss: 438953.2188 - rmse: 662.5280 - val_loss: 409548.9688 - val_rmse: 639.9514\n",
      "Epoch 7/25\n",
      "8402/8402 [==============================] - 16s 2ms/step - loss: 394976.7500 - rmse: 628.4633 - val_loss: 366293.1875 - val_rmse: 605.2130\n",
      "Epoch 8/25\n",
      "8402/8402 [==============================] - 15s 2ms/step - loss: 359427.1562 - rmse: 599.5135 - val_loss: 339194.4688 - val_rmse: 582.3949\n",
      "Epoch 9/25\n",
      "8402/8402 [==============================] - 15s 2ms/step - loss: 332807.9375 - rmse: 576.8857 - val_loss: 316135.2500 - val_rmse: 562.2494\n",
      "Epoch 10/25\n",
      "8402/8402 [==============================] - 16s 2ms/step - loss: 311123.5938 - rmse: 557.7748 - val_loss: 300067.1875 - val_rmse: 547.7744\n",
      "Epoch 11/25\n",
      "8402/8402 [==============================] - 16s 2ms/step - loss: 296345.7812 - rmse: 544.3671 - val_loss: 287712.9688 - val_rmse: 536.3789\n",
      "Epoch 12/25\n",
      "8402/8402 [==============================] - 16s 2ms/step - loss: 286252.8438 - rmse: 535.0161 - val_loss: 280573.5625 - val_rmse: 529.6818\n",
      "Epoch 13/25\n",
      "8402/8402 [==============================] - 15s 2ms/step - loss: 278110.7500 - rmse: 527.3520 - val_loss: 273432.2188 - val_rmse: 522.8970\n",
      "Epoch 14/25\n",
      "8402/8402 [==============================] - 15s 2ms/step - loss: 270815.3438 - rmse: 520.3890 - val_loss: 267013.4688 - val_rmse: 516.7231\n",
      "Epoch 15/25\n",
      "8402/8402 [==============================] - 16s 2ms/step - loss: 264231.1250 - rmse: 514.0243 - val_loss: 258863.3906 - val_rmse: 508.7757\n",
      "Epoch 16/25\n",
      "8402/8402 [==============================] - 16s 2ms/step - loss: 257465.7188 - rmse: 507.4003 - val_loss: 254108.5156 - val_rmse: 504.0813\n",
      "Epoch 17/25\n",
      "8402/8402 [==============================] - 16s 2ms/step - loss: 251798.5156 - rmse: 501.7846 - val_loss: 248926.5625 - val_rmse: 498.9145\n",
      "Epoch 18/25\n",
      "8402/8402 [==============================] - 16s 2ms/step - loss: 247223.3750 - rmse: 497.2052 - val_loss: 245708.0781 - val_rmse: 495.6786\n",
      "Epoch 19/25\n",
      "8402/8402 [==============================] - 15s 2ms/step - loss: 244361.3438 - rmse: 494.3183 - val_loss: 240835.4219 - val_rmse: 490.7390\n",
      "Epoch 20/25\n",
      "8402/8402 [==============================] - 16s 2ms/step - loss: 242115.9531 - rmse: 492.0417 - val_loss: 239593.0938 - val_rmse: 489.4719\n",
      "Epoch 21/25\n",
      "8402/8402 [==============================] - 16s 2ms/step - loss: 240448.9062 - rmse: 490.3449 - val_loss: 238486.8438 - val_rmse: 488.3406\n",
      "Epoch 22/25\n",
      "8402/8402 [==============================] - 16s 2ms/step - loss: 239252.7344 - rmse: 489.1238 - val_loss: 238435.2656 - val_rmse: 488.2871\n",
      "Epoch 23/25\n",
      "8402/8402 [==============================] - 16s 2ms/step - loss: 238161.9062 - rmse: 488.0078 - val_loss: 238051.1875 - val_rmse: 487.8940\n",
      "Epoch 24/25\n",
      "8402/8402 [==============================] - 15s 2ms/step - loss: 237084.0625 - rmse: 486.9017 - val_loss: 237204.1562 - val_rmse: 487.0255\n",
      "Epoch 25/25\n",
      "8402/8402 [==============================] - 15s 2ms/step - loss: 236497.5625 - rmse: 486.2992 - val_loss: 235812.3281 - val_rmse: 485.5940\n"
     ]
    },
    {
     "data": {
      "text/plain": [
       "<keras.callbacks.History at 0x7fbecbc1f610>"
      ]
     },
     "execution_count": 114,
     "metadata": {},
     "output_type": "execute_result"
    }
   ],
   "source": [
    "#se entrena y visualiza cómo se modifican las variables en función de los epochs\n",
    "nn_regressor.fit(xtrain_scal, ytrain,epochs=epochs, batch_size=bachs,  shuffle=True,  validation_data=(xtest_scal, ytest))"
   ]
  },
  {
   "cell_type": "code",
   "execution_count": 115,
   "metadata": {
    "colab": {
     "base_uri": "https://localhost:8080/",
     "height": 287
    },
    "executionInfo": {
     "elapsed": 13,
     "status": "ok",
     "timestamp": 1637446950353,
     "user": {
      "displayName": "Javier Laudadío",
      "photoUrl": "https://lh3.googleusercontent.com/a/default-user=s64",
      "userId": "07494710345697859273"
     },
     "user_tz": 180
    },
    "id": "9BFeLGvVwLzd",
    "outputId": "b56c544e-f477-4eab-9045-58ed726cbdb7"
   },
   "outputs": [
    {
     "data": {
      "image/png": "[encoded data removed]",
      "text/plain": [
       "<Figure size 432x288 with 1 Axes>"
      ]
     },
     "metadata": {},
     "output_type": "display_data"
    }
   ],
   "source": [
    "#se grafica la pérdida en función de los epochs\n",
    "#se nota un descenso de la pérdida a medida que aumentan los epochs\n",
    "plt.plot(nn_regressor.history.history['val_loss'], label = 'test')\n",
    "plt.plot(nn_regressor.history.history['loss'], label = 'train')\n",
    "plt.xlabel('epochs')\n",
    "plt.ylabel('loss')\n",
    "plt.legend()\n",
    "plt.show()"
   ]
  },
  {
   "cell_type": "code",
   "execution_count": 120,
   "metadata": {
    "executionInfo": {
     "elapsed": 631,
     "status": "ok",
     "timestamp": 1637447900731,
     "user": {
      "displayName": "Javier Laudadío",
      "photoUrl": "https://lh3.googleusercontent.com/a/default-user=s64",
      "userId": "07494710345697859273"
     },
     "user_tz": 180
    },
    "id": "QE6I5JUgwzqM"
   },
   "outputs": [],
   "source": [
    "import sklearn\n",
    "\n",
    "ypred_nn = nn_regressor.predict(xtest_scal)\n",
    "r2_nn = sklearn.metrics.r2_score(ypred_nn, ytest)\n",
    "rmse_nn = tf.keras.metrics.RootMeanSquaredError()\n",
    "rmse_nn.update_state([ypred_nn], [ytest])\n",
    "rmse_nn = float(rmse_nn.result().numpy())\n",
    "#MSE ( 485.59 (se visualiza en el siguiente gráfico)"
   ]
  },
  {
   "cell_type": "code",
   "execution_count": 121,
   "metadata": {
    "colab": {
     "base_uri": "https://localhost:8080/",
     "height": 345
    },
    "executionInfo": {
     "elapsed": 1185,
     "status": "ok",
     "timestamp": 1637452367531,
     "user": {
      "displayName": "Javier Laudadío",
      "photoUrl": "https://lh3.googleusercontent.com/a/default-user=s64",
      "userId": "07494710345697859273"
     },
     "user_tz": 180
    },
    "id": "7_d6Yaefw--C",
    "outputId": "a3612516-8204-4f46-98cb-d69b1d40bf42",
    "scrolled": true
   },
   "outputs": [
    {
     "data": {
      "image/png": "[encoded data removed]",
      "text/plain": [
       "<Figure size 1008x360 with 2 Axes>"
      ]
     },
     "metadata": {},
     "output_type": "display_data"
    }
   ],
   "source": [
    "fig, ax = plt.subplots(1,2, figsize = (14,5))\n",
    "ax[0].scatter(ytest, ypred2)\n",
    "ax[0].plot(np.arange(np.max(ytest)),np.arange(np.max(ytest)), color = 'r', alpha = 0.5)\n",
    "ax[0].set_title('KNN rmse= '+ str(np.round(MSE_2,2)) +'   R2='+str(np.round(r2_2,4)))\n",
    "ax[0].set_xlabel('etiquetas reales')\n",
    "ax[0].set_ylabel('predicciones')\n",
    "ax[1].scatter(ytest, ypred_nn)\n",
    "ax[1].plot(np.arange(np.max(ytest)),np.arange(np.max(ytest)), color = 'r', alpha = 0.5)\n",
    "ax[1].set_title('NeuralNet rmse= '+ str(np.round(rmse_nn,2)) +'   R2='+ str(np.round(r2_nn,4)))\n",
    "ax[1].set_xlabel('etiquetas reales')\n",
    "ax[1].set_ylabel('predicciones')\n",
    "plt.show()"
   ]
  },
  {
   "cell_type": "markdown",
   "metadata": {},
   "source": [
    "# Random Forest"
   ]
  },
  {
   "cell_type": "code",
   "execution_count": 51,
   "metadata": {},
   "outputs": [],
   "source": [
    "#3er modelo: Random Forest\n",
    "from sklearn.ensemble import RandomForestRegressor"
   ]
  },
  {
   "cell_type": "code",
   "execution_count": 52,
   "metadata": {},
   "outputs": [
    {
     "name": "stdout",
     "output_type": "stream",
     "text": [
      "Fitting 5 folds for each of 36 candidates, totalling 180 fits\n"
     ]
    },
    {
     "name": "stderr",
     "output_type": "stream",
     "text": [
      "[Parallel(n_jobs=-1)]: Using backend LokyBackend with 8 concurrent workers.\n",
      "[Parallel(n_jobs=-1)]: Done  34 tasks      | elapsed:  2.4min\n",
      "[Parallel(n_jobs=-1)]: Done 180 out of 180 | elapsed: 17.8min finished\n"
     ]
    },
    {
     "name": "stdout",
     "output_type": "stream",
     "text": [
      "RandomForestRegressor(max_depth=7, n_estimators=200)\n"
     ]
    }
   ],
   "source": [
    "import numpy as np\n",
    "\n",
    "from sklearn import ensemble\n",
    "from sklearn.model_selection import train_test_split\n",
    "from sklearn.model_selection import GridSearchCV\n",
    "from sklearn.metrics import r2_score\n",
    "\n",
    "if __name__ == '__main__':\n",
    "\n",
    "    # Set the parameters by cross-validation\n",
    "    tuned_parameters = {'n_estimators': [100, 200, 300], 'max_depth': [4, 5, 6, 7], 'min_samples_split': [2, 3, 4]}\n",
    "\n",
    "    # clf = ensemble.RandomForestRegressor(n_estimators=500, n_jobs=1, verbose=1)\n",
    "    clf = GridSearchCV(ensemble.RandomForestRegressor(), tuned_parameters, cv=5, n_jobs=-1, verbose=1)\n",
    "    clf.fit(xtrain, ytrain)\n",
    "    print (clf.best_estimator_)"
   ]
  },
  {
   "cell_type": "code",
   "execution_count": 53,
   "metadata": {},
   "outputs": [],
   "source": [
    "from sklearn.ensemble import RandomForestRegressor"
   ]
  },
  {
   "cell_type": "code",
   "execution_count": 54,
   "metadata": {},
   "outputs": [],
   "source": [
    "regr = RandomForestRegressor(n_estimators=200, max_features=\"sqrt\", max_depth=7, random_state=42) \n",
    "#se realizan hasta 7 capas con lotes de 200"
   ]
  },
  {
   "cell_type": "code",
   "execution_count": 55,
   "metadata": {},
   "outputs": [
    {
     "data": {
      "text/plain": [
       "RandomForestRegressor(max_depth=7, max_features='sqrt', n_estimators=200,\n",
       "                      random_state=42)"
      ]
     },
     "execution_count": 55,
     "metadata": {},
     "output_type": "execute_result"
    }
   ],
   "source": [
    "regr.fit(xtrain,ytrain)"
   ]
  },
  {
   "cell_type": "code",
   "execution_count": 56,
   "metadata": {},
   "outputs": [],
   "source": [
    "ytrainpred=regr.predict(xtrain)\n",
    "ytestpred=regr.predict(xtest)"
   ]
  },
  {
   "cell_type": "code",
   "execution_count": 61,
   "metadata": {},
   "outputs": [
    {
     "name": "stdout",
     "output_type": "stream",
     "text": [
      "Raiz del error cuadrático medio (RMSE) en train: 1413.463518501798\n",
      "Raiz del error cuadrático medio (RMSE) en test: 1423.7291448779536\n",
      "El R2 score es: 0.5876222218214533\n"
     ]
    }
   ],
   "source": [
    "rmsetrain = mean_squared_error(ytrain, ytrainpred, squared=False)\n",
    "print(\"Raiz del error cuadrático medio (RMSE) en train: \"+ str(rmsetrain))\n",
    "rmsetest = mean_squared_error(ytest, ytestpred, squared=False)\n",
    "print(\"Raiz del error cuadrático medio (RMSE) en test: \"+ str(rmsetest))\n",
    "r2test = r2_score(ytest, ytestpred)\n",
    "print(\"El R2 score es: \"+ str(r2test))"
   ]
  },
  {
   "cell_type": "code",
   "execution_count": 68,
   "metadata": {},
   "outputs": [
    {
     "data": {
      "text/plain": [
       "Text(0, 0.5, 'predicciones')"
      ]
     },
     "execution_count": 68,
     "metadata": {},
     "output_type": "execute_result"
    },
    {
     "data": {
      "image/png": "[encoded data removed]",
      "text/plain": [
       "<Figure size 504x360 with 1 Axes>"
      ]
     },
     "metadata": {},
     "output_type": "display_data"
    }
   ],
   "source": [
    "fig, ax = plt.subplots(1,1, figsize = (7,5))\n",
    "ax.scatter(ytest, ytestpred)\n",
    "ax.plot(np.arange(np.max(ytest)),np.arange(np.max(ytest)), color = 'r', alpha = 0.5)\n",
    "ax.set_title('Random Forest RMSE= '+ str(np.round(rmsetest,2))+'   R2='+str(np.round(r2test,2)), size=15)\n",
    "ax.set_xlabel('etiquetas reales', size=11)\n",
    "ax.set_ylabel('predicciones', size=11)"
   ]
  }
 ],
 "metadata": {
  "colab": {
   "authorship_tag": "ABX9TyNg2R4ls7ycH1avFcjnMCMy",
   "name": "Modelado-Regresión.ipynb",
   "provenance": []
  },
  "kernelspec": {
   "display_name": "Python 3",
   "language": "python",
   "name": "python3"
  },
  "language_info": {
   "codemirror_mode": {
    "name": "ipython",
    "version": 3
   },
   "file_extension": ".py",
   "mimetype": "text/x-python",
   "name": "python",
   "nbconvert_exporter": "python",
   "pygments_lexer": "ipython3",
   "version": "3.8.5"
  }
 },
 "nbformat": 4,
 "nbformat_minor": 1
}
